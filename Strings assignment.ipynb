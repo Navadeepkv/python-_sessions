{
 "cells": [
  {
   "cell_type": "code",
   "execution_count": 1,
   "id": "834ac942",
   "metadata": {},
   "outputs": [
    {
     "name": "stdout",
     "output_type": "stream",
     "text": [
      "enter a string: hello iam studying data science in naresh it.\n",
      "-----------------------------------------------------------------------------------------------------------------------\n",
      "The total number of characters in the string :  45\n",
      "-----------------------------------------------------------------------------------------------------------------------\n",
      "String repeated 10 times:  hello iam studying data science in naresh it.hello iam studying data science in naresh it.hello iam studying data science in naresh it.hello iam studying data science in naresh it.hello iam studying data science in naresh it.hello iam studying data science in naresh it.hello iam studying data science in naresh it.hello iam studying data science in naresh it.hello iam studying data science in naresh it.hello iam studying data science in naresh it.\n",
      "-----------------------------------------------------------------------------------------------------------------------\n",
      "The first character of string is :  h\n",
      "-----------------------------------------------------------------------------------------------------------------------\n",
      "The first three characters of string is :  hel\n",
      "-----------------------------------------------------------------------------------------------------------------------\n",
      "The last three characters of the string :  it.\n",
      "-----------------------------------------------------------------------------------------------------------------------\n",
      "The string backwards :  .ti hseran ni ecneics atad gniyduts mai olleh\n",
      "-----------------------------------------------------------------------------------------------------------------------\n",
      "seventh character of string :-\n",
      "The seventh character of the string is: i\n",
      "-----------------------------------------------------------------------------------------------------------------------\n",
      "string with its first and last characters removed :-\n",
      "string with its first and last characters removed : ello iam studying data science in naresh it\n",
      "-----------------------------------------------------------------------------------------------------------------------\n",
      "The string in all caps :  HELLO IAM STUDYING DATA SCIENCE IN NARESH IT.\n",
      "-----------------------------------------------------------------------------------------------------------------------\n",
      "The string with every a replaced with an e :  hello iem studying dete science in neresh it.\n"
     ]
    }
   ],
   "source": [
    "# 1. Write a program that asks the user to enter a string. The program should then print the following:\n",
    "#(a) The total number of characters in the string\n",
    "#(b) The string repeated 10 times\n",
    "#(c) The first character of the string (remember that string indices start at 0) \n",
    "#(d) The first three characters of the string\n",
    "#(e) The last three characters of the string\n",
    "#(f) The string backwards\n",
    "#(g) The seventh character of the string if the string is long enough and a message otherwise\n",
    "#(h) The string with its first and last characters removed\n",
    "#(i) The string in all caps\n",
    "#(j) The string with every a replaced with an e\n",
    "\n",
    "str1=input(\"enter a string: \")\n",
    "print(\"-----------------------------------------------------------------------------------------------------------------------\")\n",
    "print(\"The total number of characters in the string : \",len(str1))\n",
    "print(\"-----------------------------------------------------------------------------------------------------------------------\")\n",
    "print(\"String repeated 10 times: \", str1 * 10)\n",
    "print(\"-----------------------------------------------------------------------------------------------------------------------\")\n",
    "print(\"The first character of string is : \" ,str1[0])\n",
    "print(\"-----------------------------------------------------------------------------------------------------------------------\")\n",
    "print(\"The first three characters of string is : \", str1[:3])\n",
    "print(\"-----------------------------------------------------------------------------------------------------------------------\")\n",
    "print(\"The last three characters of the string : \", str1[-3:])\n",
    "print(\"-----------------------------------------------------------------------------------------------------------------------\")\n",
    "print(\"The string backwards : \", str1[::-1])\n",
    "print(\"-----------------------------------------------------------------------------------------------------------------------\")\n",
    "print(\"seventh character of string :-\")\n",
    "if len(str1) >= 7:\n",
    "    seventh_character = str1[6]\n",
    "    print(\"The seventh character of the string is:\", seventh_character)\n",
    "else:\n",
    "    print(\"The string is not long enough to have a seventh character.\")\n",
    "print(\"-----------------------------------------------------------------------------------------------------------------------\")\n",
    "print(\"string with its first and last characters removed :-\")\n",
    "if len(str1) >= 3:\n",
    "    print(\"string with its first and last characters removed :\" , str1[1:-1])\n",
    "else:\n",
    "    print(\"the string is not long enough to remove its first and last characters\")\n",
    "print(\"-----------------------------------------------------------------------------------------------------------------------\")\n",
    "print(\"The string in all caps : \" ,str1.upper())\n",
    "print(\"-----------------------------------------------------------------------------------------------------------------------\")\n",
    "print(\"The string with every a replaced with an e : \", str1.replace('a','e'))"
   ]
  },
  {
   "cell_type": "code",
   "execution_count": 2,
   "id": "8fa51c7a",
   "metadata": {},
   "outputs": [
    {
     "name": "stdout",
     "output_type": "stream",
     "text": [
      "enter a string : hello iam studying data science in naresh it.\n",
      "the number of words in the string : 8\n",
      "====================================================================================\n",
      "Enter a string: hello iam studying data science in naresh it.\n",
      "Estimated number of words in the string: 8\n"
     ]
    }
   ],
   "source": [
    "# 2. A simple way to estimate the number of words in a string is to count the number of spaces in the string.\n",
    "#    Write a program that asks the user for a string and returns an estimate of how many words are in the string.\n",
    "#    Tip: You need to count the number of words using spaces\n",
    "\n",
    "str1=input(\"enter a string : \")\n",
    "a=str1.split()\n",
    "count=0\n",
    "for i in a:\n",
    "    count+=1\n",
    "print(\"the number of words in the string :\", count)\n",
    "print(\"====================================================================================\")\n",
    "string1 = input(\"Enter a string: \")\n",
    "            # Count the number of spaces to estimate the number of words\n",
    "number_of_words = string1.count(' ') + 1 \n",
    "print(\"Estimated number of words in the string:\", number_of_words)   # Print the result"
   ]
  },
  {
   "cell_type": "code",
   "execution_count": null,
   "id": "a4298392",
   "metadata": {},
   "outputs": [],
   "source": [
    "# hello iam studying data science in naresh it."
   ]
  },
  {
   "cell_type": "code",
   "execution_count": 41,
   "id": "72b4993d",
   "metadata": {},
   "outputs": [
    {
     "name": "stdout",
     "output_type": "stream",
     "text": [
      "Enter a word: iam navadeep\n",
      "The word 'iam navadeep' contains vowels.\n",
      "iaaaee\n"
     ]
    }
   ],
   "source": [
    "#3.Write a program that asks the user to enter a word and prints out whether that word contains any vowels.\n",
    "\n",
    "x = input(\"Enter a word: \")\n",
    "\n",
    "vowels=\"\"\n",
    "for char in x:\n",
    "    if char.lower() in 'aeiou':\n",
    "        vowels+=char\n",
    "if vowels:\n",
    "    print(f\"The word '{x}' contains vowels.\")\n",
    "    print(vowels)\n",
    "else:\n",
    "    print(f\"The word '{x}' does not contain any vowels.\")"
   ]
  },
  {
   "cell_type": "code",
   "execution_count": 57,
   "id": "c43065f0",
   "metadata": {},
   "outputs": [
    {
     "name": "stdout",
     "output_type": "stream",
     "text": [
      "Enter a word: Iam Navadeep\n",
      "The word 'Iam Navadeep' contains vowels.\n",
      "The unique vowels in the word 'Iam Navadeep' are: {'i', 'e', 'a'}\n"
     ]
    }
   ],
   "source": [
    "# 4. Improvise above code by providing unique vowels\n",
    "\n",
    "x = input(\"Enter a word: \")\n",
    "\n",
    "     # Create an empty set to store unique vowels\n",
    "unique_vowels = set(\"\")\n",
    "a = 'aeiou'\n",
    "\n",
    "for char in x:\n",
    "    if char.casefold() in a:\n",
    "        unique_vowels.add(char.lower())\n",
    "\n",
    "            # Check if any vowels were found in the word or not\n",
    "if unique_vowels:\n",
    "    print(f\"The word '{x}' contains vowels.\")\n",
    "    print(f\"The unique vowels in the word '{x}' are: {unique_vowels}\")\n",
    "else:\n",
    "    print(f\"The word '{x}' does not contain any vowels.\")"
   ]
  },
  {
   "cell_type": "code",
   "execution_count": 4,
   "id": "9d5a7a46",
   "metadata": {},
   "outputs": [
    {
     "name": "stdout",
     "output_type": "stream",
     "text": [
      "enter the string : Qbert\n",
      "new string is :  Q*ert!!!\n"
     ]
    }
   ],
   "source": [
    "# 5. Write a program that asks the user to enter a string.\n",
    "# The program should create a new string called new_string from the user’s string,\n",
    "# such that the second character is changed to an asterisk and three exclamation points are attached to the end of the string.\n",
    "# Finally, print new_string.\n",
    "#Typical output is shown below:\n",
    "#Enter your string: Qbert\n",
    "#Output: Q*ert!!!\n",
    "\n",
    "str1 = input(\"enter the string : \")\n",
    "if len(str1) >= 2:\n",
    "    \n",
    "    new_str = str1[0] + '*' + str1[2:]\n",
    "    \n",
    "    new_str += '!!!'\n",
    "    \n",
    "    print('new string is : ', new_str)\n",
    "else:\n",
    "    print('enter a sting with min of 2 characters')\n"
   ]
  },
  {
   "cell_type": "code",
   "execution_count": 12,
   "id": "41182a30",
   "metadata": {},
   "outputs": [
    {
     "name": "stdout",
     "output_type": "stream",
     "text": [
      "enter a string: Mom\n",
      "The word 'Mom' is a palindrome.\n"
     ]
    }
   ],
   "source": [
    "# 6. Write a program that asks the user to enter a word and determines whether the word is a palindrome or not.\n",
    "# A palindrome is a word that reads the same backwards as forwards\n",
    "\n",
    "str1 = input(\"enter a string: \")\n",
    "str1_lower = str1.lower()\n",
    "reversed_word = str1_lower[::-1]\n",
    "           # Check if the reversed word is equal to the user input word\n",
    "if str1_lower == reversed_word:\n",
    "    print(f\"The word '{str1}' is a palindrome.\")\n",
    "else:\n",
    "    print(f\"The word '{str1}' is not a palindrome.\")"
   ]
  },
  {
   "cell_type": "code",
   "execution_count": 18,
   "id": "f4b40da4",
   "metadata": {},
   "outputs": [
    {
     "name": "stdout",
     "output_type": "stream",
     "text": [
      "enter number of addresses : 3\n",
      "enter the email addressabc@prof.college.edu\n",
      "enter the email addressa123@prof.college.edu\n",
      "enter the email addressnavadeep@student.college.edu\n",
      "There were some students addresses and some professors addresses\n",
      "student addresses are :  1\n",
      "professors addresses are :  2\n"
     ]
    }
   ],
   "source": [
    "# 7. At a certain school, student email addresses end with @student.college.edu,\n",
    "#while professor email addresses end with @prof.college.edu.\n",
    "# Write a program that first asks the user how many email addresses they will be entering, and then has the user enter those addresses.\n",
    "# After all the email addresses are entered, the program should print out a message indicating either that all the\n",
    "# addresses are student addresses or that there were some professor addresses entered.\n",
    "\n",
    "\n",
    "num_address = eval(input(\"enter number of addresses : \"))\n",
    "\n",
    "stu_count = 0\n",
    "prof_count = 0\n",
    "\n",
    "for i in range(num_address):\n",
    "    email = input(\"enter the email address\")\n",
    "    \n",
    "    if email.lower().endswith('@student.college.edu'):\n",
    "        stu_count += 1\n",
    "    \n",
    "    elif email.lower().endswith('@prof.college.edu'):\n",
    "        prof_count += 1\n",
    "    \n",
    "if stu_count == num_address:\n",
    "    print(\"All entered addresses are student addresses.\")\n",
    "elif prof_count == num_address:\n",
    "    print(\"All entered addresses are professors addresses.\")\n",
    "else:\n",
    "    print(\"There were some students addresses and some professors addresses\")\n",
    "    print(\"student addresses are : \",stu_count)\n",
    "    print(\"professors addresses are : \",prof_count)"
   ]
  },
  {
   "cell_type": "code",
   "execution_count": 19,
   "id": "3526f4a3",
   "metadata": {},
   "outputs": [
    {
     "name": "stdout",
     "output_type": "stream",
     "text": [
      "Enter a string: Hey\n",
      "HH\n",
      "ee\n",
      "yy\n"
     ]
    }
   ],
   "source": [
    "# 8. Write a program that asks the user to enter a string, then prints out each letter of the string doubled \n",
    "# and on a separate line. For instance,\n",
    "#if the user entered HEY, the output would be\n",
    "# HH\n",
    "# EE\n",
    "# YY\n",
    "\n",
    "string1 = input(\"Enter a string: \")\n",
    "\n",
    "# Iterate through each character in the string\n",
    "for char in string1:\n",
    "    # Print each character twice on a separate line\n",
    "    print(char * 2)"
   ]
  },
  {
   "cell_type": "code",
   "execution_count": 21,
   "id": "631087f6",
   "metadata": {},
   "outputs": [
    {
     "name": "stdout",
     "output_type": "stream",
     "text": [
      "enter a word which contains the letter a : buffalo\n",
      "buffa\n",
      "lo\n"
     ]
    }
   ],
   "source": [
    "# 9.Write a program that asks the user to enter a word that contains the letter a.\n",
    "# The program should then print the following two lines:\n",
    "# On the first line should be the part of the string up to and including the the first a,\n",
    "# and on the second line should be the rest of the string.\n",
    "# Sample output is shown below:\n",
    "#Enter a word: buffalo\n",
    "#buffa\n",
    "#lo\n",
    "\n",
    "user_input = input(\"enter a word which contains the letter a : \")\n",
    "index_of_a = user_input.lower().find('a')\n",
    "\n",
    "if index_of_a != -1:\n",
    "    print(user_input[:index_of_a + 1])   # [start:end-1]\n",
    "          \n",
    "        # Print the rest of the string\n",
    "    print(user_input[index_of_a + 1:])\n",
    "    \n",
    "else:\n",
    "    print(\"The entered word does not contain the letter 'a'.\")"
   ]
  },
  {
   "cell_type": "code",
   "execution_count": 32,
   "id": "63560702",
   "metadata": {},
   "outputs": [
    {
     "name": "stdout",
     "output_type": "stream",
     "text": [
      "enter a word: rhinoceros\n",
      "RhInOcErOs\n"
     ]
    }
   ],
   "source": [
    "# 10. Write a program that asks the user to enter a word and then capitalizes every other letter of that word.\n",
    "# So if the user enters rhinoceros, the program should print rHiNoCeRoS.\n",
    "\n",
    "user_input = input(\"enter a word: \")\n",
    "cap = \"\"\n",
    "\n",
    "for i in range(0,len(user_input)):\n",
    "    if i % 2 == 0:\n",
    "        cap += user_input[i].upper()\n",
    "    else:\n",
    "        cap += user_input[i].lower()\n",
    "print(cap)"
   ]
  },
  {
   "cell_type": "code",
   "execution_count": 35,
   "id": "eb2db4a7",
   "metadata": {},
   "outputs": [
    {
     "name": "stdout",
     "output_type": "stream",
     "text": [
      "enter a string 1 : abcde\n",
      "enter a string 2 : ABCDE\n",
      "Both strings are in equal length\n",
      "AaBbCcDdEe\n"
     ]
    }
   ],
   "source": [
    "# 11. Write a program that asks the user to enter two strings of the same length.\n",
    "# The program should then check to see if the strings are of the same length.\n",
    "# If they are not, the program should print an appropriate message and exit.\n",
    "# If they are of the same length, the program should alternate the characters of the two strings. For example,\n",
    "# if the user enters abcde and ABCDE the program should print out AaBbCcDdEe.\n",
    "\n",
    "str1 = input(\"enter a string 1 : \")\n",
    "str2 = input(\"enter a string 2 : \")\n",
    "\n",
    "if (len(str1) == len(str2)):\n",
    "    print(\"Both strings are in equal length\")\n",
    "    result=\"\"\n",
    "    \n",
    "    for i in range(len(str1)):      # we are giving abcde--> length is 5 , so it iterates through FOR loop 5 times\n",
    "        result = result + (str2[i] + str1[i])\n",
    "    print(result)\n",
    "else:\n",
    "    print(\"strings are with different length\")"
   ]
  },
  {
   "cell_type": "code",
   "execution_count": 1,
   "id": "1c5a645f",
   "metadata": {},
   "outputs": [
    {
     "name": "stdout",
     "output_type": "stream",
     "text": [
      "enter your name: nareshit\n",
      "Nareshit\n"
     ]
    }
   ],
   "source": [
    "# 12. Write a prog that ask the user to enter their name in lowercase & capitalizes the first letter of each word of their name.\n",
    "\n",
    "name = input(\"enter your name: \")\n",
    "print(name.capitalize())"
   ]
  },
  {
   "cell_type": "code",
   "execution_count": 14,
   "id": "3dce0110",
   "metadata": {},
   "outputs": [
    {
     "name": "stdout",
     "output_type": "stream",
     "text": [
      "Enter a string: nareshit\n",
      "Enter a letter: i\n",
      "The letter 'i' is in the string.\n"
     ]
    }
   ],
   "source": [
    "# 13. The goal of this exercise is to see if you can mimic the behavior of the in operator and the count\n",
    "#      and index methods using only variables, for loops, and if statements.\n",
    "#  (a) Without using the in operator, write a program that asks the user for a string and a letter\n",
    "#      and prints out whether or not the letter appears in the string.\n",
    "#  (b) Without using the count method, write a program that asks the user for a string and a letter and counts\n",
    "#      how many occurrences there are of the letter in the string.\n",
    "#  (c) Without using the index method, write a program that asks the user for a string and a\n",
    "#      letter and prints out the index of the first occurrence of the letter in the string.\n",
    "# If the letter is not in the string, the program should say so.\n",
    "\n",
    "\n",
    "# a) \n",
    "def letter_in_string():\n",
    "    # Ask the user for input\n",
    "    user_string = input(\"Enter a string: \")\n",
    "    user_letter = input(\"Enter a letter: \")\n",
    "    \n",
    "    found = False\n",
    "\n",
    "    for char in user_string:\n",
    "        if char == user_letter:\n",
    "            found = True\n",
    "            break  \n",
    "            \n",
    "    if found:\n",
    "        print(f\"The letter '{user_letter}' is in the string.\")\n",
    "    else:\n",
    "        print(f\"The letter '{user_letter}' is not in the string.\")\n",
    "\n",
    "# Call the function\n",
    "letter_in_string()"
   ]
  },
  {
   "cell_type": "code",
   "execution_count": 18,
   "id": "16076582",
   "metadata": {},
   "outputs": [
    {
     "name": "stdout",
     "output_type": "stream",
     "text": [
      "Enter a string: naresh i technologies\n",
      "Enter a letter: i\n",
      "2\n"
     ]
    }
   ],
   "source": [
    "# b)\n",
    "x = input(\"Enter a string: \")\n",
    "y = input(\"Enter a letter: \")\n",
    "\n",
    "count = len([x for i in x if i == y])\n",
    "print(count)"
   ]
  },
  {
   "cell_type": "code",
   "execution_count": 27,
   "id": "b5908b03",
   "metadata": {},
   "outputs": [
    {
     "name": "stdout",
     "output_type": "stream",
     "text": [
      "Enter a string: naresh it\n",
      "Enter a letter: i\n",
      "The letter 'i' first appears at index 7.\n"
     ]
    }
   ],
   "source": [
    "# c)\n",
    "user_string = input(\"Enter a string: \")\n",
    "user_letter = input(\"Enter a letter: \")\n",
    "\n",
    "index = -1\n",
    "\n",
    "current_index = 0\n",
    "\n",
    "    # Iterate through each character in the string\n",
    "for char in user_string:\n",
    "    if char == user_letter:\n",
    "        index = current_index\n",
    "        break  \n",
    "\n",
    "        # Increment the current index\n",
    "    current_index += 1\n",
    "\n",
    "    # Print the result\n",
    "if index != -1:\n",
    "    print(f\"The letter '{user_letter}' first appears at index {index}.\")\n",
    "else:\n",
    "    print(f\"The letter '{user_letter}' is not in the string.\")"
   ]
  },
  {
   "cell_type": "code",
   "execution_count": 34,
   "id": "3fab3513",
   "metadata": {},
   "outputs": [
    {
     "name": "stdout",
     "output_type": "stream",
     "text": [
      "enter an email address: stephen.marquard@uct.ac.za\n",
      "second half :  uct.ac.za\n",
      "first half stephen.marquard\n"
     ]
    }
   ],
   "source": [
    "# 14. Finding a substring within a string\n",
    "# For example, if we were presented a series of lines formatted as follows:\n",
    "# From   stephen.marquard@uct.ac.za Sat Jan 5 09:14:16 2008\n",
    "# and we wanted to pull out only the second half of the address (i.e., uct.ac.za)\n",
    "\n",
    "str1 = input('enter an email address: ')\n",
    "first_half = str1[0:str1.find('@')]\n",
    "second_half = str1[str1.find('@')+1:]\n",
    "print(\"second half : \", second_half)\n",
    "print('first half',first_half)"
   ]
  },
  {
   "cell_type": "code",
   "execution_count": 45,
   "id": "636f966f",
   "metadata": {},
   "outputs": [
    {
     "name": "stdout",
     "output_type": "stream",
     "text": [
      "enter a string: abcd\n",
      "user input String: 'abcd'\n",
      "Expected Result: 'abcding'\n",
      "\n",
      "abcding\n"
     ]
    }
   ],
   "source": [
    "# 15. Write a Python program to add 'ing' at the end of a given string (length should be at least 3).\n",
    "# If the given string already ends with 'ing' then add 'ly' instead.\n",
    "# If the string length of the given string is less than 3, leave it unchanged.\n",
    "#Go to the editor\n",
    "#Sample String : 'abc'\n",
    "#Expected Result : 'abcing'\n",
    "#Sample String : 'string'\n",
    "#Expected Result : 'stringly'\n",
    "\n",
    "str1 = input(\"enter a string: \")\n",
    "\n",
    "if len(str1) < 3:\n",
    "    result = print(str1)\n",
    "elif str1.endswith('ing'):\n",
    "    result =  str1 + 'ly'\n",
    "else:\n",
    "    result = str1 + 'ing'\n",
    "print(f\"user input String: '{str1}'\")\n",
    "print(f\"Expected Result: '{result}'\\n\")\n",
    "print(result) "
   ]
  },
  {
   "cell_type": "code",
   "execution_count": 52,
   "id": "05b82763",
   "metadata": {},
   "outputs": [
    {
     "name": "stdout",
     "output_type": "stream",
     "text": [
      "Extracted Confidence (as string): 0.8475\n",
      "'Confidence' as float :  0.8475\n"
     ]
    }
   ],
   "source": [
    "# 16. Take the following Python code that stores a string:‘\n",
    "# string = 'X-DSPAM-Confidence: 0.8475'\n",
    "# Extract the portion of the string after the colon character and then use the float function to\n",
    "#  convert the extracted string into a floating point number.\n",
    "\n",
    "string = 'X-DSPAM-Confidence: 0.8475'\n",
    "\n",
    "       # Find the colon character\n",
    "x = string.find(':')\n",
    "\n",
    "       # Extract the string after the colon\n",
    "y = string[x + 1 : ].strip()\n",
    "\n",
    "       # Convert it to floating-point number\n",
    "str_float = float(y)\n",
    "\n",
    "# Print the result\n",
    "print(\"Extracted Confidence (as string):\", y)\n",
    "print(\"'Confidence' as float : \",str_float)"
   ]
  },
  {
   "cell_type": "code",
   "execution_count": null,
   "id": "be5b55a8",
   "metadata": {},
   "outputs": [],
   "source": []
  }
 ],
 "metadata": {
  "kernelspec": {
   "display_name": "Python 3 (ipykernel)",
   "language": "python",
   "name": "python3"
  },
  "language_info": {
   "codemirror_mode": {
    "name": "ipython",
    "version": 3
   },
   "file_extension": ".py",
   "mimetype": "text/x-python",
   "name": "python",
   "nbconvert_exporter": "python",
   "pygments_lexer": "ipython3",
   "version": "3.11.5"
  }
 },
 "nbformat": 4,
 "nbformat_minor": 5
}
