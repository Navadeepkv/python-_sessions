{
 "cells": [
  {
   "cell_type": "markdown",
   "id": "b3ea74c7",
   "metadata": {},
   "source": [
    "### How to read the string "
   ]
  },
  {
   "cell_type": "code",
   "execution_count": 6,
   "id": "f2dfe56a",
   "metadata": {},
   "outputs": [
    {
     "name": "stdout",
     "output_type": "stream",
     "text": [
      "(1, 2, 3, 4, 1)\n",
      "[1, 2, 3, 4, 'A', 'B', 'C', 'D', '1']\n"
     ]
    }
   ],
   "source": [
    "#let\n",
    "str1 = 1,2,3,4\n",
    "print(str1)\n",
    "list1=[1,2,3,4,'A','B','C','D', '1']\n",
    "print(list1)"
   ]
  },
  {
   "cell_type": "markdown",
   "id": "7d07cbb3",
   "metadata": {},
   "source": [
    "- as we can see that whatever stored inside 'str1' variable, it is printing the stored string as output when we call that variable\n",
    "- duplicates are also allowed "
   ]
  },
  {
   "cell_type": "markdown",
   "id": "cf90b1e1",
   "metadata": {},
   "source": [
    "### Single quotes , double quotes, triple quotes"
   ]
  },
  {
   "cell_type": "markdown",
   "id": "902da045",
   "metadata": {},
   "source": [
    "- In Python, you can define strings using single quotes ('), double quotes (\"), and triple quotes (''' or \"\"\")\n",
    "- Triple quotes are used to define multi-line strings\n",
    "- Triple-quoted strings are often used for docstrings.( \"\"\" hi \"\"\" ), hi is docstring\n",
    "- whatever is present inside tthe quotes(it may be any type of quotes out of 3 types), it prints that only\n",
    "-       below are few examples"
   ]
  },
  {
   "cell_type": "code",
   "execution_count": 8,
   "id": "dbb3b425",
   "metadata": {},
   "outputs": [
    {
     "name": "stdout",
     "output_type": "stream",
     "text": [
      "This is a single-quoted string.\n",
      "This is a double-quoted string.\n"
     ]
    }
   ],
   "source": [
    "single_quote = 'This is a single-quoted string.'\n",
    "double_quote = \"This is a double-quoted string.\"\n",
    "\n",
    "print(single_quote)\n",
    "print(double_quote)"
   ]
  },
  {
   "cell_type": "code",
   "execution_count": 12,
   "id": "c48b65ff",
   "metadata": {},
   "outputs": [
    {
     "name": "stdout",
     "output_type": "stream",
     "text": [
      "this is a\n",
      "multiline string/ this is a docstring\n",
      "using triple quotes..\n"
     ]
    }
   ],
   "source": [
    "triple_quote = '''this is a\n",
    "multiline string/ this is a docstring\n",
    "using triple quotes..'''\n",
    "\n",
    "print(triple_quote)"
   ]
  },
  {
   "cell_type": "markdown",
   "id": "6fc67420",
   "metadata": {},
   "source": [
    "### type - len - max - min"
   ]
  },
  {
   "cell_type": "markdown",
   "id": "d7f85cc1",
   "metadata": {},
   "source": [
    "#### type()\n",
    "- The type() function returns the type of the specified object"
   ]
  },
  {
   "cell_type": "code",
   "execution_count": 5,
   "id": "eca6e863",
   "metadata": {},
   "outputs": [
    {
     "data": {
      "text/plain": [
       "str"
      ]
     },
     "execution_count": 5,
     "metadata": {},
     "output_type": "execute_result"
    }
   ],
   "source": [
    "\n",
    "a= ' hi how are you'\n",
    "type(a)    #type(object)"
   ]
  },
  {
   "cell_type": "code",
   "execution_count": 11,
   "id": "536fb211",
   "metadata": {},
   "outputs": [
    {
     "name": "stdout",
     "output_type": "stream",
     "text": [
      "<class 'tuple'>\n",
      "<class 'str'>\n",
      "<class 'int'>\n"
     ]
    }
   ],
   "source": [
    "a = ('apple', 'banana', 'carrot')\n",
    "b = \"Hello World\"\n",
    "c = 33\n",
    "\n",
    "print(type(a))\n",
    "print(type(b))\n",
    "print(type(c))"
   ]
  },
  {
   "cell_type": "markdown",
   "id": "aa9067c6",
   "metadata": {},
   "source": [
    "#### len  (means length)\n",
    "\n",
    "- len() function returns the number of characters in the string.\n",
    "- including spaces ' ' also\n"
   ]
  },
  {
   "cell_type": "code",
   "execution_count": 12,
   "id": "a6869ba0",
   "metadata": {},
   "outputs": [
    {
     "data": {
      "text/plain": [
       "11"
      ]
     },
     "execution_count": 12,
     "metadata": {},
     "output_type": "execute_result"
    }
   ],
   "source": [
    "string1= 'hello world'\n",
    "len(string1)"
   ]
  },
  {
   "cell_type": "markdown",
   "id": "b0c4ccb5",
   "metadata": {},
   "source": [
    "#### min and max\n",
    "- min() and max() functions is used when you need to find the smallest and largest values in an series of arguments.\n",
    "- input should be without spaces\n",
    "- wont work if, min(hi hello); works if ,min(hihello)"
   ]
  },
  {
   "cell_type": "code",
   "execution_count": 16,
   "id": "c64a7714",
   "metadata": {},
   "outputs": [
    {
     "name": "stdout",
     "output_type": "stream",
     "text": [
      "d\n",
      "w\n"
     ]
    }
   ],
   "source": [
    "string1= 'helloworld'\n",
    "print(min(string1))  \n",
    "print(max(string1))"
   ]
  },
  {
   "cell_type": "code",
   "execution_count": 4,
   "id": "71fe36a6",
   "metadata": {},
   "outputs": [
    {
     "name": "stdout",
     "output_type": "stream",
     "text": [
      "The maximum value in the array is: 130\n"
     ]
    }
   ],
   "source": [
    "#---------------------without using max keyword-----------\n",
    "arr = [100, 120, 130]\n",
    "max_value = arr[0]\n",
    "     # Iterate through the array starting from the second element\n",
    "for element in arr[1:]:\n",
    "    if element > max_value:\n",
    "        max_value = element\n",
    "print(\"The maximum value in the array is:\", max_value)"
   ]
  },
  {
   "cell_type": "markdown",
   "id": "efcc3858",
   "metadata": {},
   "source": [
    "- to get every characters ascii values all at once we use loop ,instead of writing print() for each letter"
   ]
  },
  {
   "cell_type": "code",
   "execution_count": 25,
   "id": "bccbe2f3",
   "metadata": {},
   "outputs": [
    {
     "name": "stdout",
     "output_type": "stream",
     "text": [
      "the ascii value of p is 112\n",
      "the ascii value of y is 121\n",
      "the ascii value of t is 116\n",
      "the ascii value of h is 104\n",
      "the ascii value of o is 111\n",
      "the ascii value of n is 110\n"
     ]
    }
   ],
   "source": [
    "string1='python'\n",
    "for i in string1:\n",
    "    print(\"the ascii value of {} is {}\" .format(i,ord(i)))"
   ]
  },
  {
   "cell_type": "markdown",
   "id": "330aa9ef",
   "metadata": {},
   "source": [
    "### addition of two strings(concatenation)"
   ]
  },
  {
   "cell_type": "markdown",
   "id": "746d7989",
   "metadata": {},
   "source": [
    "- To concatenate/combine two strings you can use the '+' operator."
   ]
  },
  {
   "cell_type": "code",
   "execution_count": 29,
   "id": "ca9d6032",
   "metadata": {},
   "outputs": [
    {
     "name": "stdout",
     "output_type": "stream",
     "text": [
      "hi.how are you ?\n"
     ]
    }
   ],
   "source": [
    "#let\n",
    "str1='hi.'\n",
    "str2='how are you ?'\n",
    "print(str1 + str2)"
   ]
  },
  {
   "cell_type": "markdown",
   "id": "24353f77",
   "metadata": {},
   "source": [
    "### multiplication\n",
    "- for muntliplication,  str1=h='hi' , str2='hi' , print(str1 * str2)\n",
    "- we get TypeError: can't multiply sequence by non-int of type 'str'\n",
    "- two diff strings cannot be multiplied, but number can multiply with str \n",
    "- below is example"
   ]
  },
  {
   "cell_type": "code",
   "execution_count": 32,
   "id": "475e943d",
   "metadata": {},
   "outputs": [
    {
     "name": "stdout",
     "output_type": "stream",
     "text": [
      "hihi\n"
     ]
    }
   ],
   "source": [
    "str1= 2\n",
    "str2= 'hi'\n",
    "print(str1*str2)  # we get 2 times same word ( hi ) as output"
   ]
  },
  {
   "cell_type": "markdown",
   "id": "79a6d27f",
   "metadata": {},
   "source": [
    "### subtraction  / Division\n",
    "\n",
    "- subtraction/division is not possible for two strings (alphabets)\n",
    "- works only for numerics"
   ]
  },
  {
   "cell_type": "code",
   "execution_count": 57,
   "id": "72fbfe10",
   "metadata": {},
   "outputs": [
    {
     "name": "stdout",
     "output_type": "stream",
     "text": [
      "subtraction: 8\n",
      "division: 5.0\n"
     ]
    }
   ],
   "source": [
    "str1=10\n",
    "str2=2\n",
    "print('subtraction:' ,str1-str2)\n",
    "print('division:' ,str1/str2)"
   ]
  },
  {
   "cell_type": "code",
   "execution_count": 54,
   "id": "31e231aa",
   "metadata": {
    "collapsed": true
   },
   "outputs": [
    {
     "ename": "TypeError",
     "evalue": "unsupported operand type(s) for /: 'str' and 'str'",
     "output_type": "error",
     "traceback": [
      "\u001b[1;31m---------------------------------------------------------------------------\u001b[0m",
      "\u001b[1;31mTypeError\u001b[0m                                 Traceback (most recent call last)",
      "Cell \u001b[1;32mIn[54], line 3\u001b[0m\n\u001b[0;32m      1\u001b[0m str1\u001b[38;5;241m=\u001b[39m\u001b[38;5;124m'\u001b[39m\u001b[38;5;124mhi\u001b[39m\u001b[38;5;124m'\u001b[39m\n\u001b[0;32m      2\u001b[0m str2\u001b[38;5;241m=\u001b[39m\u001b[38;5;124m'\u001b[39m\u001b[38;5;124mhi hello\u001b[39m\u001b[38;5;124m'\u001b[39m\n\u001b[1;32m----> 3\u001b[0m \u001b[38;5;28mprint\u001b[39m(str1\u001b[38;5;241m/\u001b[39mstr2)\n",
      "\u001b[1;31mTypeError\u001b[0m: unsupported operand type(s) for /: 'str' and 'str'"
     ]
    }
   ],
   "source": [
    "str1='hi'\n",
    "str2='hi hello'\n",
    "print(str1/str2)"
   ]
  },
  {
   "cell_type": "markdown",
   "id": "a6048ad7",
   "metadata": {},
   "source": [
    "### in opertor (for loop)\n",
    "\n",
    "- Sometimes you need to find out whether a value is present in a collection of values(given input/string) or not.\n",
    "- For that we use 'in' operator along with 'for' loop to iterate over the values "
   ]
  },
  {
   "cell_type": "code",
   "execution_count": 64,
   "id": "14bb6e33",
   "metadata": {},
   "outputs": [
    {
     "name": "stdout",
     "output_type": "stream",
     "text": [
      "H\n",
      "e\n",
      "l\n",
      "l\n",
      "o\n"
     ]
    }
   ],
   "source": [
    "string1='Hello'\n",
    "# i want to print letters using 'in' operator\n",
    "\n",
    "for i in string1:\n",
    "    print(i)"
   ]
  },
  {
   "cell_type": "code",
   "execution_count": null,
   "id": "27babccd",
   "metadata": {},
   "outputs": [],
   "source": []
  },
  {
   "cell_type": "markdown",
   "id": "1ab47e0f",
   "metadata": {},
   "source": [
    "### index"
   ]
  },
  {
   "cell_type": "markdown",
   "id": "b8beeea1",
   "metadata": {},
   "source": [
    "- It Returns the position of the first occurrence of a specified value in a list.\n",
    "- the value may br string, number, list..etc.\n",
    "- it shows valueerror, if the value is not found in the list."
   ]
  },
  {
   "cell_type": "code",
   "execution_count": 6,
   "id": "bf5012d0",
   "metadata": {},
   "outputs": [
    {
     "data": {
      "text/plain": [
       "('h', 'i', ' ', 'h', 'e', 'l', 'l', 'o')"
      ]
     },
     "execution_count": 6,
     "metadata": {},
     "output_type": "execute_result"
    }
   ],
   "source": [
    "str1='hi hello'\n",
    "str1[0],str1[1],str1[2],str1[3],str1[4],str1[5],str1[6] ,str1[7]"
   ]
  },
  {
   "cell_type": "code",
   "execution_count": 3,
   "id": "b285fdd4",
   "metadata": {},
   "outputs": [
    {
     "name": "stdout",
     "output_type": "stream",
     "text": [
      "hi h"
     ]
    }
   ],
   "source": [
    "# index using for loop\n",
    "str1='hi hello'\n",
    "for i in range(4):\n",
    "    print(str1[i], end='')"
   ]
  },
  {
   "cell_type": "code",
   "execution_count": 18,
   "id": "c141806b",
   "metadata": {},
   "outputs": [
    {
     "name": "stdout",
     "output_type": "stream",
     "text": [
      "0 h\n",
      "1 i\n",
      "2  \n",
      "3 h\n",
      "4 e\n",
      "5 l\n",
      "6 l\n",
      "7 o\n"
     ]
    }
   ],
   "source": [
    "# by using range\n",
    "str1='hi hello'\n",
    "for i in range(len(str1)):\n",
    "    print(i, str1[i])"
   ]
  },
  {
   "cell_type": "code",
   "execution_count": 27,
   "id": "59cc8f9c",
   "metadata": {},
   "outputs": [
    {
     "name": "stdout",
     "output_type": "stream",
     "text": [
      "2\n"
     ]
    }
   ],
   "source": [
    "list1 = ['Apple','Banana','Carrot','Dryfruit']\n",
    "print(list1.index('Carrot'))"
   ]
  },
  {
   "cell_type": "markdown",
   "id": "195ba6af",
   "metadata": {},
   "source": [
    "- index() With Start and End Parameters"
   ]
  },
  {
   "cell_type": "code",
   "execution_count": 37,
   "id": "ba75f8b2",
   "metadata": {},
   "outputs": [
    {
     "name": "stdout",
     "output_type": "stream",
     "text": [
      "4\n"
     ]
    }
   ],
   "source": [
    "list2 = [100, 120, 140, 160, 180, 200, 300]\n",
    "print(list2.index(180,0,5))  # (value,start,end)"
   ]
  },
  {
   "cell_type": "code",
   "execution_count": 53,
   "id": "c0209947",
   "metadata": {
    "scrolled": true
   },
   "outputs": [
    {
     "name": "stdout",
     "output_type": "stream",
     "text": [
      "the positive index is 0 negative index  is -7 for h\n",
      "the positive index is 1 negative index  is -6 for i\n",
      "the positive index is 2 negative index  is -5 for h\n",
      "the positive index is 3 negative index  is -4 for e\n",
      "the positive index is 4 negative index  is -3 for l\n",
      "the positive index is 5 negative index  is -2 for l\n",
      "the positive index is 6 negative index  is -1 for o\n"
     ]
    }
   ],
   "source": [
    "str1='hihello'\n",
    "for i in range(-len(str1),0):\n",
    "    print(f\"the positive index is {i+7} negative index  is {i} for {str1[i]}\")"
   ]
  },
  {
   "cell_type": "markdown",
   "id": "4fbac8ae",
   "metadata": {},
   "source": [
    "### Mutable condition"
   ]
  },
  {
   "cell_type": "markdown",
   "id": "bdd11f3a",
   "metadata": {},
   "source": [
    "- Mutable objects are those that allow you to change their value or data in place without affecting the object’s identity.\n",
    "   - Lists are mutable in Python. We can add or remove elements from the list.\n",
    "- whereas immutable objects don’t allow this kind of operation."
   ]
  },
  {
   "cell_type": "code",
   "execution_count": 58,
   "id": "0e3bb0a5",
   "metadata": {},
   "outputs": [
    {
     "name": "stdout",
     "output_type": "stream",
     "text": [
      "[1, 2, 3, 4, 5, 4]\n"
     ]
    }
   ],
   "source": [
    "my_list = [1, 2, 3, 4 ,5 ]\n",
    "my_list.append(4)\n",
    "print(my_list)"
   ]
  },
  {
   "cell_type": "code",
   "execution_count": 61,
   "id": "4a813913",
   "metadata": {},
   "outputs": [
    {
     "name": "stdout",
     "output_type": "stream",
     "text": [
      "{'name': 'Ram', 'age': 25}\n",
      "{'name': 'Ram', 'age': 35}\n"
     ]
    }
   ],
   "source": [
    "my_dict = {\"name\": \"Ram\", \"age\": 25}\n",
    "new_dict[\"age\"] = 35\n",
    "\n",
    "print(my_dict)   \n",
    "print(new_dict)"
   ]
  },
  {
   "cell_type": "code",
   "execution_count": 69,
   "id": "9024f775",
   "metadata": {},
   "outputs": [
    {
     "name": "stdout",
     "output_type": "stream",
     "text": [
      "{1, 2, 3, 4}\n"
     ]
    }
   ],
   "source": [
    "my_set={1,2,3}\n",
    "new_set = my_set\n",
    "\n",
    "new_set.add(4)\n",
    "print(my_set)"
   ]
  },
  {
   "cell_type": "code",
   "execution_count": 5,
   "id": "27ad50d6",
   "metadata": {},
   "outputs": [
    {
     "data": {
      "text/plain": [
       "[(10, 20), 200, 300]"
      ]
     },
     "execution_count": 5,
     "metadata": {},
     "output_type": "execute_result"
    }
   ],
   "source": [
    "list1=[100,200,300]  \n",
    "  # i want to change 100 to 1000\n",
    "list1[0]=10,20\n",
    "list1\n",
    "\n",
    "#it is mutable"
   ]
  },
  {
   "cell_type": "markdown",
   "id": "bb4c9188",
   "metadata": {},
   "source": [
    "### slice"
   ]
  },
  {
   "cell_type": "markdown",
   "id": "bd86b3e7",
   "metadata": {},
   "source": [
    "- A slice object is used to specify how to slice a sequence.\n",
    "- You can specify where to start the slicing, and where to end.\n",
    "- You can also specify the step, which allows you to slice only every other item.\n",
    "\n",
    "   - start: An integer number specifying at which position to start the slicing. Default is 0, it's Optional. \n",
    "   - end  : An integer number specifying at which position to end the slicing.\n",
    "   - step\t: An integer number specifying the step of the slicing. Default is 1 , it's Optional. \n"
   ]
  },
  {
   "cell_type": "code",
   "execution_count": null,
   "id": "ac59efcd",
   "metadata": {},
   "outputs": [],
   "source": [
    "#  -15 -14 -13 -12 -11 -10 -9  -8 -7 -6 -5  -4  -3 -2 -1  \n",
    "   h    a   i       h   o   w      a  r  e       y  o  u\n",
    "#  0    1   2   3   4   5   6   7  8  9  10 11  12 13 14 "
   ]
  },
  {
   "cell_type": "code",
   "execution_count": 10,
   "id": "6454de49",
   "metadata": {},
   "outputs": [
    {
     "data": {
      "text/plain": [
       "'ai how '"
      ]
     },
     "execution_count": 10,
     "metadata": {},
     "output_type": "execute_result"
    }
   ],
   "source": [
    "string1='hai how are you'\n",
    "string1[1:8]"
   ]
  },
  {
   "cell_type": "code",
   "execution_count": 11,
   "id": "bf01c268",
   "metadata": {},
   "outputs": [
    {
     "data": {
      "text/plain": [
       "'i'"
      ]
     },
     "execution_count": 11,
     "metadata": {},
     "output_type": "execute_result"
    }
   ],
   "source": [
    "string1[2:-14:-2]    #[start=2 : end= -14-1= -13 : -2]"
   ]
  },
  {
   "cell_type": "code",
   "execution_count": 9,
   "id": "c3e80a67",
   "metadata": {},
   "outputs": [
    {
     "data": {
      "text/plain": [
       "'o r o '"
      ]
     },
     "execution_count": 9,
     "metadata": {},
     "output_type": "execute_result"
    }
   ],
   "source": [
    "string1[2:14:2]   # p\n",
    "string1[2:14:-2]  # np\n",
    "string1[2:-14:2]  # np\n",
    "string1[2:-14:-2] # p\n",
    "string1[-2:14:2]  # p\n",
    "string1[-2:-14:2] # np  \n",
    "string1[-2:-14:-2] # p"
   ]
  },
  {
   "cell_type": "markdown",
   "id": "f0c7b156",
   "metadata": {},
   "source": [
    "### string methods\n",
    "-  to know what methods are there in string we use dir() function"
   ]
  },
  {
   "cell_type": "code",
   "execution_count": 12,
   "id": "e03004e3",
   "metadata": {
    "collapsed": true
   },
   "outputs": [
    {
     "data": {
      "text/plain": [
       "['__add__',\n",
       " '__class__',\n",
       " '__contains__',\n",
       " '__delattr__',\n",
       " '__dir__',\n",
       " '__doc__',\n",
       " '__eq__',\n",
       " '__format__',\n",
       " '__ge__',\n",
       " '__getattribute__',\n",
       " '__getitem__',\n",
       " '__getnewargs__',\n",
       " '__getstate__',\n",
       " '__gt__',\n",
       " '__hash__',\n",
       " '__init__',\n",
       " '__init_subclass__',\n",
       " '__iter__',\n",
       " '__le__',\n",
       " '__len__',\n",
       " '__lt__',\n",
       " '__mod__',\n",
       " '__mul__',\n",
       " '__ne__',\n",
       " '__new__',\n",
       " '__reduce__',\n",
       " '__reduce_ex__',\n",
       " '__repr__',\n",
       " '__rmod__',\n",
       " '__rmul__',\n",
       " '__setattr__',\n",
       " '__sizeof__',\n",
       " '__str__',\n",
       " '__subclasshook__',\n",
       " 'capitalize',\n",
       " 'casefold',\n",
       " 'center',\n",
       " 'count',\n",
       " 'encode',\n",
       " 'endswith',\n",
       " 'expandtabs',\n",
       " 'find',\n",
       " 'format',\n",
       " 'format_map',\n",
       " 'index',\n",
       " 'isalnum',\n",
       " 'isalpha',\n",
       " 'isascii',\n",
       " 'isdecimal',\n",
       " 'isdigit',\n",
       " 'isidentifier',\n",
       " 'islower',\n",
       " 'isnumeric',\n",
       " 'isprintable',\n",
       " 'isspace',\n",
       " 'istitle',\n",
       " 'isupper',\n",
       " 'join',\n",
       " 'ljust',\n",
       " 'lower',\n",
       " 'lstrip',\n",
       " 'maketrans',\n",
       " 'partition',\n",
       " 'removeprefix',\n",
       " 'removesuffix',\n",
       " 'replace',\n",
       " 'rfind',\n",
       " 'rindex',\n",
       " 'rjust',\n",
       " 'rpartition',\n",
       " 'rsplit',\n",
       " 'rstrip',\n",
       " 'split',\n",
       " 'splitlines',\n",
       " 'startswith',\n",
       " 'strip',\n",
       " 'swapcase',\n",
       " 'title',\n",
       " 'translate',\n",
       " 'upper',\n",
       " 'zfill']"
      ]
     },
     "execution_count": 12,
     "metadata": {},
     "output_type": "execute_result"
    }
   ],
   "source": [
    "dir(str)  "
   ]
  },
  {
   "cell_type": "markdown",
   "id": "0e8294ae",
   "metadata": {},
   "source": [
    "$capitalize -Method$\n",
    "  - this method makes the first letter capital of given string."
   ]
  },
  {
   "cell_type": "code",
   "execution_count": 15,
   "id": "f6572749",
   "metadata": {},
   "outputs": [
    {
     "data": {
      "text/plain": [
       "'Python programming'"
      ]
     },
     "execution_count": 15,
     "metadata": {},
     "output_type": "execute_result"
    }
   ],
   "source": [
    "string1=\"python programming\"\n",
    "string1.capitalize()"
   ]
  },
  {
   "cell_type": "markdown",
   "id": "25c72954",
   "metadata": {},
   "source": [
    "$upper -Method$\n",
    "  - this method makes the whole given input as capital."
   ]
  },
  {
   "cell_type": "code",
   "execution_count": 17,
   "id": "250a61fb",
   "metadata": {},
   "outputs": [
    {
     "name": "stdout",
     "output_type": "stream",
     "text": [
      "PYTHON PROGRAMMING\n"
     ]
    }
   ],
   "source": [
    "string1 = \"python programming\"\n",
    "print(string1.upper()) #we can/cannot use print() in this line"
   ]
  },
  {
   "cell_type": "markdown",
   "id": "e8ba7db7",
   "metadata": {},
   "source": [
    "$lower -Method$\n",
    "  - this method makes the whole given input as small letters."
   ]
  },
  {
   "cell_type": "code",
   "execution_count": 19,
   "id": "e782d14c",
   "metadata": {},
   "outputs": [
    {
     "name": "stdout",
     "output_type": "stream",
     "text": [
      "python programming\n"
     ]
    }
   ],
   "source": [
    "string1 = \"PYTHON Programming\"\n",
    "print(string1.lower())"
   ]
  },
  {
   "cell_type": "code",
   "execution_count": 26,
   "id": "ea79da00",
   "metadata": {},
   "outputs": [
    {
     "name": "stdout",
     "output_type": "stream",
     "text": [
      "Capitalize:  Python programming\n",
      "Upper:  PYTHON PROGRAMMING\n",
      "lower:  python programming\n"
     ]
    }
   ],
   "source": [
    "string1='PYTHON Programming'\n",
    "print(\"Capitalize: \",string1.capitalize())\n",
    "print(\"Upper: \",string1.upper())\n",
    "print(\"lower: \",string1.lower())"
   ]
  },
  {
   "cell_type": "markdown",
   "id": "8ccf23db",
   "metadata": {},
   "source": [
    "$casefold-Method$\n",
    "  - The casefold() method is a string method that converts all characters of the string into lowercase letters and returns a new string1.\n",
    "  - This method is similar to the lower() method, but the casefold() method is more stronger, more aggressive, meaning that it will convert more characters into lower case.\n",
    "  \n",
    "  - The casefold() method is different from the lower() method in that it can convert some characters that are already lowercase into different lowercase characters. For example, the German letter ß is already lowercase so, the lower() method doesn't make the conversion. But the casefold() method will convert ß to its equivalent character ss"
   ]
  },
  {
   "cell_type": "code",
   "execution_count": 28,
   "id": "adbf65ca",
   "metadata": {},
   "outputs": [
    {
     "data": {
      "text/plain": [
       "'hi how are you doing ?'"
      ]
     },
     "execution_count": 28,
     "metadata": {},
     "output_type": "execute_result"
    }
   ],
   "source": [
    "string2=\"Hi How Are You Doing ?\"\n",
    "string2.casefold()"
   ]
  },
  {
   "cell_type": "code",
   "execution_count": 1,
   "id": "de763480",
   "metadata": {},
   "outputs": [
    {
     "name": "stdout",
     "output_type": "stream",
     "text": [
      "hi guyss ?\n",
      "hi guyß ?\n"
     ]
    }
   ],
   "source": [
    "string2=\"Hi guyß ?\"  # alt+0223===> ß (german letter)\n",
    "        #  print using casefold\n",
    "print(string2.casefold())\n",
    "        #  print using lower\n",
    "print(string2.lower())\n",
    "   #  the German letter ß is already lowercase so, the lower() method doesn't make the conversion. \n",
    "   #  but the casefold() method will convert ß to its equivalent character ss"
   ]
  },
  {
   "cell_type": "markdown",
   "id": "40bf8e5f",
   "metadata": {},
   "source": [
    "$index-Method$"
   ]
  },
  {
   "cell_type": "code",
   "execution_count": 2,
   "id": "6803880a",
   "metadata": {},
   "outputs": [
    {
     "data": {
      "text/plain": [
       "4"
      ]
     },
     "execution_count": 2,
     "metadata": {},
     "output_type": "execute_result"
    }
   ],
   "source": [
    "string1='Python programming'\n",
    "string1.index('o')"
   ]
  },
  {
   "cell_type": "code",
   "execution_count": 9,
   "id": "87ceba86",
   "metadata": {},
   "outputs": [
    {
     "name": "stdout",
     "output_type": "stream",
     "text": [
      "4\n",
      "9\n"
     ]
    }
   ],
   "source": [
    "string1='Python programming'\n",
    "for i in range(len(string1)):\n",
    "    if string1[i]=='o':\n",
    "        print(i)"
   ]
  },
  {
   "cell_type": "markdown",
   "id": "ed581416",
   "metadata": {},
   "source": [
    "$Find-Method$"
   ]
  },
  {
   "cell_type": "code",
   "execution_count": 17,
   "id": "29c89e3b",
   "metadata": {},
   "outputs": [
    {
     "data": {
      "text/plain": [
       "0"
      ]
     },
     "execution_count": 17,
     "metadata": {},
     "output_type": "execute_result"
    }
   ],
   "source": [
    " string1='Pyhton Programming'\n",
    "string1.find('z')\n",
    "   # if substring not found it returns -1\n",
    "\n",
    "string1.index('z')\n",
    "   # ValueError: substring not found\n",
    "\n",
    "string1.count('z')\n",
    "  #it returns zero "
   ]
  },
  {
   "cell_type": "code",
   "execution_count": 19,
   "id": "bdf4efe3",
   "metadata": {},
   "outputs": [
    {
     "data": {
      "text/plain": [
       "15"
      ]
     },
     "execution_count": 19,
     "metadata": {},
     "output_type": "execute_result"
    }
   ],
   "source": [
    "string1.find('ing')"
   ]
  },
  {
   "cell_type": "markdown",
   "id": "6fbb6a2f",
   "metadata": {},
   "source": [
    "$count-Method$\n",
    "  - This method returns the count of how many times a given object occurs in a List."
   ]
  },
  {
   "cell_type": "code",
   "execution_count": 10,
   "id": "e29b2bcf",
   "metadata": {},
   "outputs": [
    {
     "name": "stdout",
     "output_type": "stream",
     "text": [
      "2\n"
     ]
    },
    {
     "data": {
      "text/plain": [
       "2"
      ]
     },
     "execution_count": 10,
     "metadata": {},
     "output_type": "execute_result"
    }
   ],
   "source": [
    "string1='Python programming'\n",
    "count=0\n",
    "for i in string1:\n",
    "    if i=='o':\n",
    "        count+=1\n",
    "print(count)\n",
    "\n",
    "string1.count('o')   #  single line "
   ]
  },
  {
   "cell_type": "code",
   "execution_count": 15,
   "id": "d6bf1bf6",
   "metadata": {},
   "outputs": [
    {
     "name": "stdout",
     "output_type": "stream",
     "text": [
      "2\n",
      "2\n"
     ]
    }
   ],
   "source": [
    "list1 = [ ('Cat', 'Dog'), ( 'Cat','Bat'), ('Cat', 'Bat'),('Cat',' Bat', 'Dog', 'Sat'), [1, 2], [1, 2, 3], [1, 2] ]\n",
    " \n",
    "           # Counts the number of times 'Cat' appears in list1\n",
    "print(list1.count(('Cat', 'Bat')))\n",
    " \n",
    "           # Count the number of times sublist '[1, 2]' appears in list1\n",
    "print(list1.count([1, 2]))"
   ]
  },
  {
   "cell_type": "markdown",
   "id": "7bf84ff8",
   "metadata": {},
   "source": [
    "$Replace-Method$\n",
    "  - This method replace all the occurances of substring with another substring"
   ]
  },
  {
   "cell_type": "code",
   "execution_count": 23,
   "id": "4ec0ce18",
   "metadata": {},
   "outputs": [
    {
     "name": "stdout",
     "output_type": "stream",
     "text": [
      "I'am famished.\n"
     ]
    }
   ],
   "source": [
    "string2 = \"I'am very hungry.\"\n",
    "new_str2=string2.replace('very hungry','famished')\n",
    "print(new_str2)"
   ]
  },
  {
   "cell_type": "code",
   "execution_count": 24,
   "id": "d6a6e4bd",
   "metadata": {},
   "outputs": [
    {
     "name": "stdout",
     "output_type": "stream",
     "text": [
      "asdfglkjhgqwertypoiuyzxcvmNbvNoNeaNdNoNeagaiN\n"
     ]
    }
   ],
   "source": [
    "#i just want to print the whole string in lower except the letter 'n' \n",
    "str1=\"asdfglkjhgqwertypoiuyzxcvmnbvnoneandnoneagain\"\n",
    "print(str1.replace('n','N'))"
   ]
  },
  {
   "cell_type": "markdown",
   "id": "7936ebfd",
   "metadata": {},
   "source": [
    "$strip$- $lstrip$-$rstrip -- METHODS $\n",
    "\n",
    "  -  strip() method removes any white spaces or specified characters at the start and end of a string.\n",
    "  -  lstrip() method removes the leading spaces or A specified character from the left side of a string.\n",
    "  -  rstrip() method removes trailing spaces or characters from the right side of a string."
   ]
  },
  {
   "cell_type": "markdown",
   "id": "1f52e09e",
   "metadata": {},
   "source": [
    "##### strip()"
   ]
  },
  {
   "cell_type": "code",
   "execution_count": 6,
   "id": "569e596f",
   "metadata": {},
   "outputs": [
    {
     "name": "stdout",
     "output_type": "stream",
     "text": [
      "Iam learning python.\n"
     ]
    }
   ],
   "source": [
    "string1 = \" Iam learning python.\"  # starting we have space in string1\n",
    "print(string1.strip())"
   ]
  },
  {
   "cell_type": "code",
   "execution_count": 7,
   "id": "08f213ea",
   "metadata": {},
   "outputs": [
    {
     "name": "stdout",
     "output_type": "stream",
     "text": [
      "Iam learning python .\n"
     ]
    }
   ],
   "source": [
    "sentence1 = \"XXIam learning python .XX\"\n",
    "print(sentence1.strip(\"X\"))"
   ]
  },
  {
   "cell_type": "markdown",
   "id": "2b9a3e4d",
   "metadata": {},
   "source": [
    "##### lstrip()"
   ]
  },
  {
   "cell_type": "code",
   "execution_count": 8,
   "id": "406fbf39",
   "metadata": {},
   "outputs": [
    {
     "name": "stdout",
     "output_type": "stream",
     "text": [
      "Iam learning python .XX\n"
     ]
    }
   ],
   "source": [
    "sentence1 = \"XXIam learning python .XX\"\n",
    "print(sentence1.lstrip(\"X\"))   # this removes the specified character from left side "
   ]
  },
  {
   "cell_type": "markdown",
   "id": "fd377472",
   "metadata": {},
   "source": [
    "##### rstrip()"
   ]
  },
  {
   "cell_type": "code",
   "execution_count": 16,
   "id": "cdd91de6",
   "metadata": {},
   "outputs": [
    {
     "name": "stdout",
     "output_type": "stream",
     "text": [
      "XX Python programming .\n"
     ]
    }
   ],
   "source": [
    "sentence1 = \"XX Python programming .XX\"\n",
    "print(sentence1.rstrip(\"X\"))   # this removes the specified character from right side "
   ]
  },
  {
   "cell_type": "markdown",
   "id": "24f5cc30",
   "metadata": {},
   "source": [
    "$startswith -endswith -- Methods$\n",
    "\n",
    "  -  startswith() function checks if a string starts with a specified substring. \n",
    "     -  Syntax: str.startswith(search_string, start, end)\n",
    "  -  endswith() checks if a string ends with a substring.\n",
    "     -  Syntax: str.endswith(search_string, start, end)\n",
    "     \n",
    "  -  Both functions return True or False."
   ]
  },
  {
   "cell_type": "markdown",
   "id": "9c3b209e",
   "metadata": {},
   "source": [
    "##### startswith()"
   ]
  },
  {
   "cell_type": "code",
   "execution_count": 22,
   "id": "ea4824a0",
   "metadata": {},
   "outputs": [
    {
     "name": "stdout",
     "output_type": "stream",
     "text": [
      "True\n"
     ]
    }
   ],
   "source": [
    "name = \"John snow\"\n",
    "print(name.startswith(\"J\"))"
   ]
  },
  {
   "cell_type": "code",
   "execution_count": 21,
   "id": "cf19aa1f",
   "metadata": {},
   "outputs": [
    {
     "name": "stdout",
     "output_type": "stream",
     "text": [
      "True\n",
      "False\n"
     ]
    }
   ],
   "source": [
    "name1 = \"Aegon Targaryen\"\n",
    "print(name1.startswith(\"a\",7,11))\n",
    "print(name1.startswith(\"e\",6,10))"
   ]
  },
  {
   "cell_type": "markdown",
   "id": "768fbae2",
   "metadata": {},
   "source": [
    "##### endswith()"
   ]
  },
  {
   "cell_type": "code",
   "execution_count": 26,
   "id": "ab489a29",
   "metadata": {},
   "outputs": [
    {
     "name": "stdout",
     "output_type": "stream",
     "text": [
      "True\n",
      "False\n",
      "True\n"
     ]
    }
   ],
   "source": [
    "name = \"John wick\"\n",
    "print(name.endswith(\"k\"))\n",
    "print(name.endswith(\"c\"))\n",
    "print(name.endswith(\"wick\"))"
   ]
  },
  {
   "cell_type": "code",
   "execution_count": 7,
   "id": "4f5dc759",
   "metadata": {},
   "outputs": [
    {
     "name": "stdout",
     "output_type": "stream",
     "text": [
      "False\n",
      "True\n"
     ]
    }
   ],
   "source": [
    "name = \"John wick\"\n",
    "print(name.endswith(\"w\",1,7))\n",
    "print(name.endswith(\"wick\",0,9))  "
   ]
  },
  {
   "cell_type": "markdown",
   "id": "0eb6f1cc",
   "metadata": {},
   "source": [
    "$isalpha()-isnumeric-isalnum -- Methods$"
   ]
  },
  {
   "cell_type": "markdown",
   "id": "a2237131",
   "metadata": {},
   "source": [
    "##### isalpha()\n",
    "\n",
    "   - The isalpha() method returns True if all the characters are alphabet letters (a-z).\n",
    "     -  syntax : string.isalpha()"
   ]
  },
  {
   "cell_type": "code",
   "execution_count": 14,
   "id": "16341590",
   "metadata": {},
   "outputs": [
    {
     "name": "stdout",
     "output_type": "stream",
     "text": [
      "False\n",
      "True\n",
      "False\n",
      "False\n"
     ]
    }
   ],
   "source": [
    "str1 = \"Hi how are you\"   #spaces are not allowed\n",
    "str2 = \"Helloworld\"\n",
    "num1 = \"hello123\"\n",
    "num2 = \"12345\"\n",
    "print(str1.isalpha())\n",
    "print(str2.isalpha())\n",
    "print(num1.isalpha())\n",
    "print(num2.isalpha())"
   ]
  },
  {
   "cell_type": "markdown",
   "id": "3e7461e1",
   "metadata": {},
   "source": [
    "##### isalnum()\n",
    "\n",
    "  -  isalnum() function returns True ,if it's made of alphanumeric characters only.\n",
    "  -  A character is alphanumeric if it's either an alpha or a number. \n",
    "  -  If the string is empty, then isalnum() returns False .\n",
    "     -  syntax : string.isalnum()"
   ]
  },
  {
   "cell_type": "code",
   "execution_count": 15,
   "id": "fdede28d",
   "metadata": {},
   "outputs": [
    {
     "name": "stdout",
     "output_type": "stream",
     "text": [
      "False\n",
      "True\n",
      "False\n"
     ]
    }
   ],
   "source": [
    "str1 = \"Hello World\"\n",
    "num1 = \"987654321\"\n",
    "strnum = \"Hello123\"\n",
    "print(str1.isalnum())\n",
    "print(num1.isalnum())\n",
    "print(strnum.isalpha())"
   ]
  },
  {
   "cell_type": "markdown",
   "id": "8a9c88d7",
   "metadata": {},
   "source": [
    "##### isnumeric()\n",
    "\n",
    "  - The isnumeric() method returns True if all the characters are numeric (0-9), otherwise False.\n",
    "    - syntax : string.isnumeric()"
   ]
  },
  {
   "cell_type": "code",
   "execution_count": 17,
   "id": "8170f8d6",
   "metadata": {},
   "outputs": [
    {
     "name": "stdout",
     "output_type": "stream",
     "text": [
      "True\n",
      "False\n",
      "False\n"
     ]
    }
   ],
   "source": [
    "num1 = \"1234567890\"   #spaces are not allowed, if we give space in btw ==> output:False\n",
    "num2 = \"123 hi\"\n",
    "str1 = \"hello\"\n",
    "\n",
    "print(num1.isnumeric())\n",
    "print(num2.isnumeric())\n",
    "print(str1.isnumeric())"
   ]
  },
  {
   "cell_type": "markdown",
   "id": "7628a15d",
   "metadata": {},
   "source": [
    "$split--Method$\n",
    "\n",
    "  - The split() method splits a string into a list.\n",
    "    -  syntax : string.split() / string.split(separator, maxsplit)\n",
    "    - seperator : Optional. Specifies the separator to use when splitting the string. By default any whitespace is a separator\n",
    "    - maxsplit  : Optional. Specifies how many splits to do. Default value is -1, which is \"all occurrences\""
   ]
  },
  {
   "cell_type": "code",
   "execution_count": 18,
   "id": "22160093",
   "metadata": {},
   "outputs": [
    {
     "name": "stdout",
     "output_type": "stream",
     "text": [
      "['this', 'is', 'about', 'split', 'method']\n"
     ]
    }
   ],
   "source": [
    "string1 = \"this is about split method\"\n",
    "print(string1.split())"
   ]
  },
  {
   "cell_type": "code",
   "execution_count": 23,
   "id": "2059282c",
   "metadata": {},
   "outputs": [
    {
     "name": "stdout",
     "output_type": "stream",
     "text": [
      "['apple', 'banana', 'cherry', 'orange']\n",
      "----------------------------------\n",
      "['apple#banana#cherry#orange']\n",
      "----------------------------------\n",
      "['apple', 'banana#cherry#orange']\n",
      "----------------------------------\n",
      "['apple', 'banana', 'cherry#orange']\n"
     ]
    }
   ],
   "source": [
    "str2 = \"apple#banana#cherry#orange\"\n",
    "x = str2.split(\"#\")\n",
    "print(x)\n",
    "print(\"----------------------------------\")\n",
    "print(str2.split(\"#\" , 0))   #(separator, maxsplit)\n",
    "print(\"----------------------------------\")\n",
    "print(str2.split(\"#\" , 1))\n",
    "print(\"----------------------------------\")\n",
    "print(str2.split(\"#\" , 2))"
   ]
  },
  {
   "cell_type": "code",
   "execution_count": null,
   "id": "4d7df37b",
   "metadata": {},
   "outputs": [],
   "source": []
  }
 ],
 "metadata": {
  "kernelspec": {
   "display_name": "Python 3 (ipykernel)",
   "language": "python",
   "name": "python3"
  },
  "language_info": {
   "codemirror_mode": {
    "name": "ipython",
    "version": 3
   },
   "file_extension": ".py",
   "mimetype": "text/x-python",
   "name": "python",
   "nbconvert_exporter": "python",
   "pygments_lexer": "ipython3",
   "version": "3.11.5"
  }
 },
 "nbformat": 4,
 "nbformat_minor": 5
}
