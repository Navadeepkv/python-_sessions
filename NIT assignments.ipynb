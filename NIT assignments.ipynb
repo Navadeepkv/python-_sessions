{
 "cells": [
  {
   "cell_type": "markdown",
   "id": "2fb44585",
   "metadata": {},
   "source": [
    "# TRY AND EXCEPT, WITH ARGUMENTS, WITHOUT ARGUMENTS, DEFAULT"
   ]
  },
  {
   "cell_type": "markdown",
   "id": "577c0499",
   "metadata": {},
   "source": [
    "# ASSIGNMENT-1"
   ]
  },
  {
   "cell_type": "code",
   "execution_count": 85,
   "id": "a8aaac27",
   "metadata": {},
   "outputs": [
    {
     "name": "stdout",
     "output_type": "stream",
     "text": [
      "Please enter a number: 5\n",
      "The square of 5.0 is 10.0\n"
     ]
    }
   ],
   "source": [
    "#square of the number\n",
    "\n",
    "#try and except\n",
    "\n",
    "# Ask the user to enter the number\n",
    "try:\n",
    "    num = float(input(\"Please enter a number: \"))    \n",
    "\n",
    "     # To Calculate the square of the number\n",
    "    square = num * 2\n",
    "\n",
    "     # Print the square\n",
    "    print( \"The square of \" + str(num) + \" is \" + str(square) )\n",
    "except Exception as e :\n",
    "    print(e)"
   ]
  },
  {
   "cell_type": "code",
   "execution_count": 15,
   "id": "40b918b6",
   "metadata": {},
   "outputs": [
    {
     "name": "stdout",
     "output_type": "stream",
     "text": [
      "Please enter a number: 10\n",
      "The square of 10.0 is 100.0\n"
     ]
    }
   ],
   "source": [
    "#without arguments\n",
    "def square():\n",
    "    num = float(input(\"Please enter a number: \"))    \n",
    "\n",
    "         # To Calculate the square of the number\n",
    "    square = num ** 2\n",
    "\n",
    "         # Print the square\n",
    "    print( \"The square of \" + str(num) + \" is \" + str(square) )\n",
    "square()\n"
   ]
  },
  {
   "cell_type": "code",
   "execution_count": 16,
   "id": "cc492726",
   "metadata": {},
   "outputs": [
    {
     "name": "stdout",
     "output_type": "stream",
     "text": [
      "Please enter a number: 7\n",
      "The square of 7.0 is 49.0\n"
     ]
    }
   ],
   "source": [
    "#with arguments\n",
    "def square1(num):     \n",
    "\n",
    "         # To Calculate the square of the number\n",
    "    squaree = num ** 2\n",
    "\n",
    "         # Print the square\n",
    "    print( \"The square of \" + str(num) + \" is \" + str(squaree) )\n",
    "square1(float(input(\"Please enter a number: \")))"
   ]
  },
  {
   "cell_type": "code",
   "execution_count": 20,
   "id": "7f00e1ee",
   "metadata": {},
   "outputs": [
    {
     "name": "stdout",
     "output_type": "stream",
     "text": [
      "The square of 8 is 64\n"
     ]
    }
   ],
   "source": [
    "#default \n",
    "def sqr(num=8):\n",
    "    squaree = num ** 2\n",
    "\n",
    "             # Print the square\n",
    "    print( \"The square of \" + str(num) + \" is \" + str(squaree) )\n",
    "sqr()"
   ]
  },
  {
   "cell_type": "code",
   "execution_count": null,
   "id": "3b0955e8",
   "metadata": {},
   "outputs": [],
   "source": []
  },
  {
   "cell_type": "code",
   "execution_count": 4,
   "id": "eedaa3f3",
   "metadata": {},
   "outputs": [
    {
     "name": "stdout",
     "output_type": "stream",
     "text": [
      "please enter the number:5\n",
      "5.0---10.0---15.0---20.0---25.0\n"
     ]
    }
   ],
   "source": [
    "# output separated by three dashes\n",
    "\n",
    "try:\n",
    "    \n",
    "    num= float(input(\"please enter the number:\"))   # Ask the user to enter the number \n",
    "    output= num                                     # Initialize the output variable with the entered number\n",
    "\n",
    "    for i in range (2, 6):                       # Use a loop to calculate and update the output for multiples of the entered number\n",
    "        output= str(output)+ \"---\" + str(num * i)   # Concatenate the current output with three dashes and the next multiple\n",
    "\n",
    "    print(output)\n",
    "except Exception as e :\n",
    "    print(e)"
   ]
  },
  {
   "cell_type": "code",
   "execution_count": 27,
   "id": "22c41100",
   "metadata": {},
   "outputs": [
    {
     "name": "stdout",
     "output_type": "stream",
     "text": [
      "please enter the number:3\n",
      "3.0---6.0---9.0---12.0---15.0\n"
     ]
    }
   ],
   "source": [
    "#without arguments\n",
    "\n",
    "def seperate():\n",
    "    num= float(input(\"please enter the number:\"))   # Ask the user to enter the number \n",
    "    output= num                                     # Initialize the output variable with the entered number\n",
    "\n",
    "    for i in range (2, 6):                       # Use a loop to calculate and update the output for multiples of the entered number\n",
    "        output= str(output)+ \"---\" + str(num * i)   # Concatenate the current output with three dashes and the next multiple\n",
    "\n",
    "    print(output)\n",
    "seperate()"
   ]
  },
  {
   "cell_type": "code",
   "execution_count": 36,
   "id": "077eecf3",
   "metadata": {},
   "outputs": [
    {
     "name": "stdout",
     "output_type": "stream",
     "text": [
      "please enter the number:5\n",
      "5.0---10.0---15.0---20.0---25.0\n"
     ]
    }
   ],
   "source": [
    "#with arguments\n",
    "\n",
    "def sepe(num):\n",
    "   \n",
    "    output= num                                     # Initialize the output variable with the entered number\n",
    "\n",
    "    for i in range (2, 6):                       # Use a loop to calculate and update the output for multiples of the entered number\n",
    "        output= str(output)+ \"---\" + str(num * i)   # Concatenate the current output with three dashes and the next multiple\n",
    "\n",
    "    print(output)\n",
    "sepe(float(input(\"please enter the number:\")))"
   ]
  },
  {
   "cell_type": "code",
   "execution_count": 37,
   "id": "b77c9c4e",
   "metadata": {},
   "outputs": [
    {
     "name": "stdout",
     "output_type": "stream",
     "text": [
      "4---8---12---16---20\n"
     ]
    }
   ],
   "source": [
    "#default\n",
    "def seper(num=4):\n",
    "   \n",
    "    output= num                                     # Initialize the output variable with the entered number\n",
    "\n",
    "    for i in range (2, 6):                       # Use a loop to calculate and update the output for multiples of the entered number\n",
    "        output= str(output)+ \"---\" + str(num * i)   # Concatenate the current output with three dashes and the next multiple\n",
    "\n",
    "    print(output)\n",
    "seper()"
   ]
  },
  {
   "cell_type": "code",
   "execution_count": null,
   "id": "ebc6d09e",
   "metadata": {},
   "outputs": [],
   "source": []
  },
  {
   "cell_type": "code",
   "execution_count": 38,
   "id": "cbb05701",
   "metadata": {},
   "outputs": [
    {
     "name": "stdout",
     "output_type": "stream",
     "text": [
      "Enter weight in Kg to Convert into pounds:10\n",
      "10.0  Kilograms = 22.0  Pounds\n"
     ]
    }
   ],
   "source": [
    "#Write a program that asks the user for a weight in kilograms and converts it to pounds. There are 2.2 pounds in a kilogram.\n",
    "\n",
    "#try and exception\n",
    "try:\n",
    "    kg = float(input('Enter weight in Kg to Convert into pounds:')) # Ask the user to enter the weight (number) in kg\n",
    "    pounds = kg * 2.2   \n",
    "    print(kg,' Kilograms =', pounds,' Pounds') \n",
    "except Exception as e:\n",
    "    print(e)"
   ]
  },
  {
   "cell_type": "code",
   "execution_count": 43,
   "id": "7b26b56a",
   "metadata": {},
   "outputs": [
    {
     "name": "stdout",
     "output_type": "stream",
     "text": [
      "Enter weight in Kg to Convert into pounds:8\n",
      "8.0  Kilograms = 17.6  Pounds\n"
     ]
    }
   ],
   "source": [
    "#without arguments\n",
    "\n",
    "def kg_pound():\n",
    "    kg = float(input('Enter weight in Kg to Convert into pounds:')) # Ask the user to enter the weight (number) in kg\n",
    "    pounds = kg * 2.2   \n",
    "    print(kg,' Kilograms =', pounds,' Pounds')\n",
    "kg_pound()"
   ]
  },
  {
   "cell_type": "code",
   "execution_count": 42,
   "id": "00947b54",
   "metadata": {},
   "outputs": [
    {
     "name": "stdout",
     "output_type": "stream",
     "text": [
      "Enter weight in Kg to Convert into pounds:12\n",
      "12.0  Kilograms = 26.400000000000002  Pounds\n"
     ]
    }
   ],
   "source": [
    "#with arguments\n",
    "\n",
    "def kg_to_pound(kg):\n",
    "    pounds = kg * 2.2   \n",
    "    print(kg,' Kilograms =', pounds,' Pounds')\n",
    "kg_to_pound(float(input('Enter weight in Kg to Convert into pounds:')))  # Ask the user to enter the weight (number) in kg"
   ]
  },
  {
   "cell_type": "code",
   "execution_count": 44,
   "id": "5aa336eb",
   "metadata": {},
   "outputs": [
    {
     "name": "stdout",
     "output_type": "stream",
     "text": [
      "20 kilogram = 44.0 Pounds \n"
     ]
    }
   ],
   "source": [
    "#default\n",
    "\n",
    "def pound(kg=20):\n",
    "    pounds=kg * 2.2\n",
    "    print(kg, \"kilogram =\" , pounds, \"Pounds \")\n",
    "pound()"
   ]
  },
  {
   "cell_type": "code",
   "execution_count": null,
   "id": "8d2375d4",
   "metadata": {},
   "outputs": [],
   "source": []
  },
  {
   "cell_type": "code",
   "execution_count": 45,
   "id": "7f14ac36",
   "metadata": {},
   "outputs": [
    {
     "name": "stdout",
     "output_type": "stream",
     "text": [
      "please enter the number:5\n",
      "Want to add another number? (y/n): y\n",
      "please enter the number:5\n",
      "Want to add another number? (y/n): n\n",
      "the value of sum is: 10.0\n",
      "average: 5.0\n"
     ]
    }
   ],
   "source": [
    "#Write a program that asks the user to enter three numbers (use three separate input statements).\n",
    "#Create variables called total and average that hold the sum and average of the three numbers and\n",
    "#print out the values of total and average.\n",
    "\n",
    "#try and exception\n",
    "try:\n",
    "    sum= 0.0\n",
    "    nocount=0.0\n",
    "\n",
    "    while True:\n",
    "\n",
    "        number= float(input(\"please enter the number:\"))   # Ask the user to enter the number (let say step1)\n",
    "\n",
    "        sum+= number  # Add the entered number to the running total sum\n",
    "\n",
    "        nocount+= 1   # Increments the count of numbers entered\n",
    "\n",
    "        choice= input(\"Want to add another number? (y/n): \")    # Ask the user if he wants to add another number (yes / no),\n",
    "                                                                           #(if yes, user goes to step 1)  \n",
    "\n",
    "        if choice.casefold()=='n' :      #  if the user's response is 'n' (no) it exits the loop \n",
    "            break\n",
    "    average= sum/nocount   \n",
    "    print(f\"the value of sum is: {sum}\")\n",
    "    print(f\"average: {average}\")\n",
    "except Exception as e:\n",
    "    print(e)\n",
    "    "
   ]
  },
  {
   "cell_type": "code",
   "execution_count": 51,
   "id": "0be48868",
   "metadata": {},
   "outputs": [
    {
     "name": "stdout",
     "output_type": "stream",
     "text": [
      "enter the number:5\n",
      "want to add another number? (y/n) :y\n",
      "enter the number:5\n",
      "want to add another number? (y/n) :n\n",
      "the value of sum is: 10.0 \n",
      "average: 5.0\n"
     ]
    }
   ],
   "source": [
    "#without arguments\n",
    "\n",
    "def sum_avg():\n",
    "    sum=0.0\n",
    "    nocount=0.0\n",
    "    \n",
    "    while True:\n",
    "        number=float(input(\"enter the number:\"))\n",
    "        sum+=number\n",
    "        nocount+=1\n",
    "        choice=input(\"want to add another number? (y/n) :\")\n",
    "        \n",
    "        if choice.casefold()==\"n\":\n",
    "            break\n",
    "    average=sum/nocount\n",
    "    print(f\"the value of sum is: {sum} \")\n",
    "    print(f\"average: {average}\")\n",
    "sum_avg()"
   ]
  },
  {
   "cell_type": "code",
   "execution_count": 9,
   "id": "5c928c51",
   "metadata": {},
   "outputs": [
    {
     "name": "stdout",
     "output_type": "stream",
     "text": [
      "enter the number3:5\n",
      "15\n",
      "5.0\n"
     ]
    }
   ],
   "source": [
    "#with arguments\n",
    "def num(num1,num2):\n",
    "    num3=eval(input(\"enter the number3:\"))\n",
    "    sum=num1+num2+num3\n",
    "    average=(num1+num2+num3)/3\n",
    "    print(sum)\n",
    "    print(average)\n",
    "num(5,5)"
   ]
  },
  {
   "cell_type": "code",
   "execution_count": 12,
   "id": "32cb970e",
   "metadata": {},
   "outputs": [
    {
     "name": "stdout",
     "output_type": "stream",
     "text": [
      "enter the number3:6\n",
      "16\n",
      "5.333333333333333\n"
     ]
    }
   ],
   "source": [
    "#default\n",
    "\n",
    "def num(num1,num2=5):\n",
    "    num3=eval(input(\"enter the number3:\"))\n",
    "    sum=num1+num2+num3\n",
    "    average=(num1+num2+num3)/3\n",
    "    print(sum)\n",
    "    print(average)\n",
    "num(5)"
   ]
  },
  {
   "cell_type": "code",
   "execution_count": null,
   "id": "54c58401",
   "metadata": {},
   "outputs": [],
   "source": []
  },
  {
   "cell_type": "code",
   "execution_count": 1,
   "id": "585d25cf",
   "metadata": {},
   "outputs": [
    {
     "name": "stdout",
     "output_type": "stream",
     "text": [
      "Enter the price of the meal : 1000\n",
      "Enter the percent tip you want to leave : 10\n",
      "tip_amount = 100.0 /- rupees only\n",
      "total_bill = 1100.0 /- rupees only\n"
     ]
    }
   ],
   "source": [
    "#A lot of cell phones have tip calculators. Write one.Ask the user for the price of meal and the percent tip they want to leave.\n",
    "#Then print both the tip amount and the total bill with the tip included.\n",
    "\n",
    "#try and exception\n",
    "\n",
    "try:\n",
    "    \n",
    "    # Ask the user to enter the price of the meal and the tip percentage he want to leave\n",
    "    meal_price= float(input(\"Enter the price of the meal : \"))\n",
    "    tip_percentage= float(input(\"Enter the percent tip you want to leave : \"))\n",
    "\n",
    "    tip_amount = meal_price * (tip_percentage / 100)  # Calculate the tip amount\n",
    "\n",
    "    total_bill= meal_price + tip_amount         # Calculate the total bill by adding the meal price to the tip amount\n",
    "\n",
    "                                                # Print the tip amount and the total bill\n",
    "    print(f\"tip_amount = {tip_amount}\" + \" /- rupees only\" )   \n",
    "\n",
    "    print(f\"total_bill = {total_bill}\" + \" /- rupees only\")\n",
    "except Exception as e:\n",
    "    print(e)"
   ]
  },
  {
   "cell_type": "code",
   "execution_count": 3,
   "id": "9268c660",
   "metadata": {},
   "outputs": [
    {
     "name": "stdout",
     "output_type": "stream",
     "text": [
      "Enter the price of the meal : 2000\n",
      "Enter the percent tip you want to leave : 10\n",
      "tip_amount = 200.0 /- rupees only\n",
      "total_bill = 2200.0 /- rupees only\n"
     ]
    }
   ],
   "source": [
    "#without arguments\n",
    "\n",
    "def bill():\n",
    "    \n",
    "    # Ask the user to enter the price of the meal and the tip percentage he want to leave\n",
    "    meal_price= float(input(\"Enter the price of the meal : \"))\n",
    "    tip_percentage= float(input(\"Enter the percent tip you want to leave : \"))\n",
    "\n",
    "    tip_amount = meal_price * (tip_percentage / 100)  # Calculate the tip amount\n",
    "\n",
    "    total_bill= meal_price + tip_amount         # Calculate the total bill by adding the meal price to the tip amount\n",
    "\n",
    "                                                # Print the tip amount and the total bill\n",
    "    print(f\"tip_amount = {tip_amount}\" + \" /- rupees only\" )   \n",
    "\n",
    "    print(f\"total_bill = {total_bill}\" + \" /- rupees only\")\n",
    "bill()  "
   ]
  },
  {
   "cell_type": "code",
   "execution_count": 6,
   "id": "7fb8df23",
   "metadata": {},
   "outputs": [
    {
     "name": "stdout",
     "output_type": "stream",
     "text": [
      "Enter the price of the meal : 3000\n",
      "Enter the percent tip you want to leave : 10\n",
      "tip_amount = 300.0 /- rupees only\n",
      "total_bill = 3300.0 /- rupees only\n"
     ]
    }
   ],
   "source": [
    "#with arguments\n",
    "\n",
    "def bill(meal_price,tip_percentage):\n",
    "    \n",
    "\n",
    "    tip_amount = meal_price * (tip_percentage / 100)  # Calculate the tip amount\n",
    "\n",
    "    total_bill= meal_price + tip_amount         # Calculate the total bill by adding the meal price to the tip amount\n",
    "\n",
    "                                                # Print the tip amount and the total bill\n",
    "    print(f\"tip_amount = {tip_amount}\" + \" /- rupees only\" )   \n",
    "\n",
    "    print(f\"total_bill = {total_bill}\" + \" /- rupees only\")\n",
    "bill(float(input(\"Enter the price of the meal : \")), float(input(\"Enter the percent tip you want to leave : \"))) "
   ]
  },
  {
   "cell_type": "code",
   "execution_count": 7,
   "id": "d817f215",
   "metadata": {},
   "outputs": [
    {
     "name": "stdout",
     "output_type": "stream",
     "text": [
      "tip_amount = 500.0 /- rupees only\n",
      "total_bill = 5500.0 /- rupees only\n"
     ]
    }
   ],
   "source": [
    "#default\n",
    "\n",
    "def bill(meal_price=5000, tip_percentage=10 ):\n",
    "\n",
    "    tip_amount = meal_price * (tip_percentage / 100)  # Calculate the tip amount\n",
    "\n",
    "    total_bill= meal_price + tip_amount         # Calculate the total bill by adding the meal price to the tip amount\n",
    "\n",
    "                                                # Print the tip amount and the total bill\n",
    "    print(f\"tip_amount = {tip_amount}\" + \" /- rupees only\" )   \n",
    "\n",
    "    print(f\"total_bill = {total_bill}\" + \" /- rupees only\")\n",
    "bill()  "
   ]
  },
  {
   "cell_type": "code",
   "execution_count": null,
   "id": "ae5f949d",
   "metadata": {},
   "outputs": [],
   "source": []
  },
  {
   "cell_type": "markdown",
   "id": "1929fa0a",
   "metadata": {},
   "source": [
    "# ASSIGNMENT-2 "
   ]
  },
  {
   "cell_type": "code",
   "execution_count": 8,
   "id": "8c1ceac6",
   "metadata": {},
   "outputs": [
    {
     "name": "stdout",
     "output_type": "stream",
     "text": [
      "enter the ramesh's basic salary:1000\n",
      "Ramesh's gross salary is:  1600.0\n"
     ]
    }
   ],
   "source": [
    "# Ramesh’s basic salary is input through the keyboard. His dearness allowance is 40% of basic salary, \n",
    "# and house rent allowance is 20% of basic salary. \n",
    "#Write a program to calculate his gross salary.\n",
    "\n",
    "try:\n",
    "    salary=eval(input(\"enter the ramesh's basic salary:\"))  #user input\n",
    "    DA= 0.4 * salary;\n",
    "    house_rent= 0.2 * salary;\n",
    "    gross_salary= salary + DA + house_rent\n",
    "\n",
    "    print(\"Ramesh's gross salary is: \" ,gross_salary)\n",
    "except Exception as e:\n",
    "    print(e)"
   ]
  },
  {
   "cell_type": "code",
   "execution_count": 10,
   "id": "7c41c82b",
   "metadata": {},
   "outputs": [
    {
     "name": "stdout",
     "output_type": "stream",
     "text": [
      "enter the ramesh's basic salary:2000\n",
      "Ramesh's gross salary is:  3200.0\n"
     ]
    }
   ],
   "source": [
    "#without arguments\n",
    "\n",
    "def salary():\n",
    "    salary=eval(input(\"enter the ramesh's basic salary:\"))  #user input\n",
    "    DA= 0.4 * salary;\n",
    "    house_rent= 0.2 * salary;\n",
    "    gross_salary= salary + DA + house_rent\n",
    "\n",
    "    print(\"Ramesh's gross salary is: \" ,gross_salary)\n",
    "salary()"
   ]
  },
  {
   "cell_type": "code",
   "execution_count": 11,
   "id": "1c8408cc",
   "metadata": {},
   "outputs": [
    {
     "name": "stdout",
     "output_type": "stream",
     "text": [
      "enter the ramesh's basic salary:3000\n",
      "Ramesh's gross salary is:  4800.0\n"
     ]
    }
   ],
   "source": [
    "#with arguments\n",
    "\n",
    "def gross_salary(salary):\n",
    "    \n",
    "    DA= 0.4 * salary;\n",
    "    house_rent= 0.2 * salary;\n",
    "    gross_salary= salary + DA + house_rent\n",
    "\n",
    "    print(\"Ramesh's gross salary is: \" ,gross_salary)\n",
    "gross_salary(eval(input(\"enter the ramesh's basic salary:\")))   #user input"
   ]
  },
  {
   "cell_type": "code",
   "execution_count": 13,
   "id": "c6d4d4da",
   "metadata": {},
   "outputs": [
    {
     "name": "stdout",
     "output_type": "stream",
     "text": [
      "Ramesh's gross salary is:  4800.0\n"
     ]
    }
   ],
   "source": [
    "#default \n",
    "\n",
    "def gross_salary(salary = 3000):\n",
    "    \n",
    "    DA= 0.4 * salary;\n",
    "    house_rent= 0.2 * salary;\n",
    "    gross_salary= salary + DA + house_rent\n",
    "\n",
    "    print(\"Ramesh's gross salary is: \" ,gross_salary)\n",
    "gross_salary()  "
   ]
  },
  {
   "cell_type": "code",
   "execution_count": null,
   "id": "f4e39c9b",
   "metadata": {},
   "outputs": [],
   "source": []
  },
  {
   "cell_type": "code",
   "execution_count": 17,
   "id": "b120213c",
   "metadata": {},
   "outputs": [
    {
     "name": "stdout",
     "output_type": "stream",
     "text": [
      "Enter distance between two cities in km :1000\n",
      "the given distance in km to meters is: 1000000\n",
      "the given distance in km to feet is: 3280839.9\n",
      "the given distance in km to inches is: 39370100.0\n",
      "the given distance in km to centimeters is: 100000054.0\n"
     ]
    }
   ],
   "source": [
    "#The distance between two cities (in km.) is input through the keyboard.\n",
    "#Write a program to convert and print this distance in meters, feet, inches and centimeters.\n",
    "\n",
    "try:\n",
    "    km= eval(input(\"Enter distance between two cities in km :\"))\n",
    "    meter= km*1000\n",
    "    feet= km*3280.8399\n",
    "    inches= km*39370.1\n",
    "    centimeters= km*100000.054\n",
    "    print(\"the given distance in km to meters is:\" ,meter )\n",
    "    print(\"the given distance in km to feet is:\" , feet )\n",
    "    print(\"the given distance in km to inches is:\" , inches)\n",
    "    print(\"the given distance in km to centimeters is:\" , centimeters )\n",
    "except Exception as e:\n",
    "    print(e)"
   ]
  },
  {
   "cell_type": "code",
   "execution_count": 18,
   "id": "10a8d2cb",
   "metadata": {},
   "outputs": [
    {
     "name": "stdout",
     "output_type": "stream",
     "text": [
      "Enter distance between two cities in km :500\n",
      "the given distance in km to meters is: 500000\n",
      "the given distance in km to feet is: 1640419.95\n",
      "the given distance in km to inches is: 19685050.0\n",
      "the given distance in km to centimeters is: 50000027.0\n"
     ]
    }
   ],
   "source": [
    "#without arguments\n",
    "\n",
    "def dis_tance():\n",
    "    km= eval(input(\"Enter distance between two cities in km :\"))\n",
    "    meter= km*1000\n",
    "    feet= km*3280.8399\n",
    "    inches= km*39370.1\n",
    "    centimeters= km*100000.054\n",
    "    print(\"the given distance in km to meters is:\" ,meter )\n",
    "    print(\"the given distance in km to feet is:\" , feet )\n",
    "    print(\"the given distance in km to inches is:\" , inches)\n",
    "    print(\"the given distance in km to centimeters is:\" , centimeters )\n",
    "dis_tance()  "
   ]
  },
  {
   "cell_type": "code",
   "execution_count": 19,
   "id": "50d005db",
   "metadata": {},
   "outputs": [
    {
     "name": "stdout",
     "output_type": "stream",
     "text": [
      "Enter distance between two cities in km :1000\n",
      "the given distance in km to meters is: 1000000\n",
      "the given distance in km to feet is: 3280839.9\n",
      "the given distance in km to inches is: 39370100.0\n",
      "the given distance in km to centimeters is: 100000054.0\n"
     ]
    }
   ],
   "source": [
    "#with arguments\n",
    " \n",
    "def distance(km):\n",
    "    \n",
    "    meter= km*1000\n",
    "    feet= km*3280.8399\n",
    "    inches= km*39370.1\n",
    "    centimeters= km*100000.054\n",
    "    print(\"the given distance in km to meters is:\" ,meter )\n",
    "    print(\"the given distance in km to feet is:\" , feet )\n",
    "    print(\"the given distance in km to inches is:\" , inches)\n",
    "    print(\"the given distance in km to centimeters is:\" , centimeters )\n",
    "distance(eval(input(\"Enter distance between two cities in km :\")))        #user input"
   ]
  },
  {
   "cell_type": "code",
   "execution_count": 20,
   "id": "6147cf0f",
   "metadata": {},
   "outputs": [
    {
     "name": "stdout",
     "output_type": "stream",
     "text": [
      "the given distance in km to meters is: 500000\n",
      "the given distance in km to feet is: 1640419.95\n",
      "the given distance in km to inches is: 19685050.0\n",
      "the given distance in km to centimeters is: 50000027.0\n"
     ]
    }
   ],
   "source": [
    "#default\n",
    "\n",
    "def distance(km= 500):\n",
    "    \n",
    "    meter= km*1000\n",
    "    feet= km*3280.8399\n",
    "    inches= km*39370.1\n",
    "    centimeters= km*100000.054\n",
    "    print(\"the given distance in km to meters is:\" ,meter )\n",
    "    print(\"the given distance in km to feet is:\" , feet )\n",
    "    print(\"the given distance in km to inches is:\" , inches)\n",
    "    print(\"the given distance in km to centimeters is:\" , centimeters )\n",
    "distance() "
   ]
  },
  {
   "cell_type": "code",
   "execution_count": null,
   "id": "a6c6ef87",
   "metadata": {},
   "outputs": [],
   "source": []
  },
  {
   "cell_type": "code",
   "execution_count": 21,
   "id": "05199037",
   "metadata": {},
   "outputs": [
    {
     "name": "stdout",
     "output_type": "stream",
     "text": [
      "enter the marks for subject 1:50\n",
      "enter the marks for subject 2:50\n",
      "enter the marks for subject 3:50\n",
      "enter the marks for subject 4:50\n",
      "enter the marks for subject 5:50\n",
      "aggregate_marks obtained by student : 250\n",
      "percentage marks obtained by student : 50.0\n"
     ]
    }
   ],
   "source": [
    "#If the marks obtained by a student in five different subjects are input through thekeyboard, \n",
    "#find out the aggregate marks and percentage marks obtained by the student.\n",
    "#Assume that the maximum marks that can be obtained by a student in each subject is 100.\n",
    "\n",
    "#try and except\n",
    "\n",
    "try:\n",
    "    total_marks=0\n",
    "    maxmarks_persubject=100\n",
    "\n",
    "    for i in range (1,6):\n",
    "        marks= eval(input(f\"enter the marks for subject {i}:\"))\n",
    "        total_marks += marks\n",
    "    aggregate_marks= total_marks;\n",
    "    percentage_marks= (total_marks/(maxmarks_persubject * 5))*100;\n",
    "    print('aggregate_marks obtained by student :' ,total_marks)\n",
    "    print('percentage marks obtained by student :' ,percentage_marks)\n",
    "except Exception as e:\n",
    "    print(e)"
   ]
  },
  {
   "cell_type": "code",
   "execution_count": 23,
   "id": "79f9a30c",
   "metadata": {},
   "outputs": [
    {
     "name": "stdout",
     "output_type": "stream",
     "text": [
      "enter the marks for subject 1:50\n",
      "enter the marks for subject 2:50\n",
      "enter the marks for subject 3:100\n",
      "enter the marks for subject 4:100\n",
      "enter the marks for subject 5:50\n",
      "aggregate_marks obtained by student : 350\n",
      "percentage marks obtained by student : 70.0\n"
     ]
    }
   ],
   "source": [
    "#without arguments\n",
    "\n",
    "def marks():\n",
    "    total_marks=0\n",
    "    maxmarks_persubject=100\n",
    "\n",
    "    for i in range (1,6):\n",
    "        marks= eval(input(f\"enter the marks for subject {i}:\"))\n",
    "        total_marks += marks\n",
    "    aggregate_marks= total_marks;\n",
    "    percentage_marks= (total_marks/(maxmarks_persubject * 5))*100;\n",
    "    print('aggregate_marks obtained by student :' ,total_marks)\n",
    "    print('percentage marks obtained by student :' ,percentage_marks)\n",
    "marks()"
   ]
  },
  {
   "cell_type": "code",
   "execution_count": 48,
   "id": "0fcb0b05",
   "metadata": {},
   "outputs": [
    {
     "name": "stdout",
     "output_type": "stream",
     "text": [
      "aggregate_marks obtained by student : 400\n",
      "percentage marks obtained by student : 80.0\n"
     ]
    }
   ],
   "source": [
    "#with arguments\n",
    "\n",
    "def totalmarks(sub1,sub2,sub3,sub4,sub5):\n",
    "    maxmarks_persubject=100\n",
    "    total_marks = sub1 + sub2 + sub3 + sub4 + sub5 \n",
    "    \n",
    "    percentage_marks= (total_marks/(maxmarks_persubject * 5))*100;\n",
    "    \n",
    "    \n",
    "    print('aggregate_marks obtained by student :' ,total_marks)\n",
    "    print('percentage marks obtained by student :' ,percentage_marks)\n",
    "totalmarks(100,50,50,100,100)"
   ]
  },
  {
   "cell_type": "code",
   "execution_count": 47,
   "id": "1c83bd14",
   "metadata": {},
   "outputs": [
    {
     "name": "stdout",
     "output_type": "stream",
     "text": [
      "aggregate_marks obtained by student : 350\n",
      "percentage marks obtained by student : 70.0\n"
     ]
    }
   ],
   "source": [
    "#default\n",
    "\n",
    "def totalmarks(sub1,sub2,sub3,sub4=50,sub5=100):\n",
    "    maxmarks_persubject=100\n",
    "    total_marks = sub1 + sub2 + sub3 + sub4 + sub5 \n",
    "    \n",
    "    percentage_marks= (total_marks/(maxmarks_persubject * 5))*100;\n",
    "   \n",
    "    print('aggregate_marks obtained by student :' ,total_marks)\n",
    "    print('percentage marks obtained by student :' ,percentage_marks)\n",
    "totalmarks(100,50,50)"
   ]
  },
  {
   "cell_type": "code",
   "execution_count": null,
   "id": "c45d79f2",
   "metadata": {},
   "outputs": [],
   "source": []
  },
  {
   "cell_type": "code",
   "execution_count": 49,
   "id": "757c8072",
   "metadata": {},
   "outputs": [
    {
     "name": "stdout",
     "output_type": "stream",
     "text": [
      "enter the temperature of a city in farenheit degrees:50\n",
      "the temperature of the city in centigrade degree is : 10.0\n"
     ]
    }
   ],
   "source": [
    "#Temperature of a city in Fahrenheit degrees is input through the keyboard.\n",
    "#Write aprogram to convert this temperature into Centigrade degrees.\n",
    "\n",
    "#try and except\n",
    "\n",
    "try:\n",
    "    farenheit=float(input(\"enter the temperature of a city in farenheit degrees:\"))\n",
    "    celsius= (farenheit-32 )* 5/9\n",
    "    print(\"the temperature of the city in centigrade degree is :\" ,celsius)\n",
    "except Exception as e:\n",
    "    print(e)"
   ]
  },
  {
   "cell_type": "code",
   "execution_count": 50,
   "id": "88f492e9",
   "metadata": {},
   "outputs": [
    {
     "name": "stdout",
     "output_type": "stream",
     "text": [
      "enter the temperature of a city in farenheit degrees:30\n",
      "the temperature of the city in centigrade degree is : -1.1111111111111112\n"
     ]
    }
   ],
   "source": [
    "# without arguments\n",
    "\n",
    "def temp():\n",
    "    farenheit=float(input(\"enter the temperature of a city in farenheit degrees:\"))\n",
    "    celsius= (farenheit-32 )* 5/9\n",
    "    print(\"the temperature of the city in centigrade degree is :\" ,celsius)\n",
    "temp()"
   ]
  },
  {
   "cell_type": "code",
   "execution_count": 51,
   "id": "6e0ca670",
   "metadata": {},
   "outputs": [
    {
     "name": "stdout",
     "output_type": "stream",
     "text": [
      "enter the temperature of a city in farenheit degrees:60\n",
      "the temperature of the city in centigrade degree is : 15.555555555555555\n"
     ]
    }
   ],
   "source": [
    "#with arguments\n",
    "\n",
    "def temp(farenheit):\n",
    "    celcius= (farenheit-32)*5/9\n",
    "    print(\"the temperature of the city in centigrade degree is :\" , celcius)\n",
    "temp(float(input(\"enter the temperature of a city in farenheit degrees:\")))"
   ]
  },
  {
   "cell_type": "code",
   "execution_count": 53,
   "id": "0255396d",
   "metadata": {},
   "outputs": [
    {
     "name": "stdout",
     "output_type": "stream",
     "text": [
      "the temperature of the city in centigrade degree is : 37.77777777777778\n"
     ]
    }
   ],
   "source": [
    "#default\n",
    "\n",
    "def temp(farenheit=100):\n",
    "    celsius= (farenheit-32 )* 5/9\n",
    "    print(\"the temperature of the city in centigrade degree is :\" ,celsius)\n",
    "temp()"
   ]
  },
  {
   "cell_type": "code",
   "execution_count": null,
   "id": "4ab74845",
   "metadata": {},
   "outputs": [],
   "source": []
  },
  {
   "cell_type": "code",
   "execution_count": 56,
   "id": "d0edddf9",
   "metadata": {},
   "outputs": [
    {
     "name": "stdout",
     "output_type": "stream",
     "text": [
      "enter the length of the rectangle :10\n",
      "enter the bredth of the rectangle :6\n",
      "enter the radius of the circle :5\n",
      "Area of the rectangle: 60\n",
      "Perimeter of the rectangle: 32\n",
      "Area of the circle: 78.525\n",
      "Circumference of the circle: 31.41\n"
     ]
    }
   ],
   "source": [
    "#The length & breadth of a rectangle and radius of a circle are input through thekeyboard. \n",
    "#Write a program to calculate the area & perimeter of the rectangle, and the area & circumference of the circle.\n",
    "\n",
    "#try and except\n",
    "\n",
    "import math\n",
    "try:\n",
    "    length=eval(input(\"enter the length of the rectangle :\"))\n",
    "    bredth=eval(input(\"enter the bredth of the rectangle :\"))\n",
    "    radius=eval(input(\"enter the radius of the circle :\"))\n",
    "\n",
    "    pi=3.141\n",
    "    preimeter_of_rectangle= 2 * (length + bredth)   #formulaes\n",
    "    area_of_rectangle= length*bredth;\n",
    "    area_of_circle= pi*radius**2\n",
    "    circumference_of_circle= 2*pi*radius\n",
    "\n",
    "    print(\"Area of the rectangle:\", area_of_rectangle)\n",
    "    print(\"Perimeter of the rectangle:\", preimeter_of_rectangle)\n",
    "    print(\"Area of the circle:\", area_of_circle)\n",
    "    print(\"Circumference of the circle:\", circumference_of_circle)\n",
    "except Exception as e:\n",
    "    print(e)"
   ]
  },
  {
   "cell_type": "code",
   "execution_count": 58,
   "id": "18b316be",
   "metadata": {},
   "outputs": [
    {
     "name": "stdout",
     "output_type": "stream",
     "text": [
      "enter the length of the rectangle :10\n",
      "enter the bredth of the rectangle :5\n",
      "enter the radius of the circle :3\n",
      "Area of the rectangle: 50\n",
      "Perimeter of the rectangle: 30\n",
      "Area of the circle: 28.269\n",
      "Circumference of the circle: 18.846\n"
     ]
    }
   ],
   "source": [
    "# without arguments\n",
    "\n",
    "import math\n",
    "def calculate():\n",
    "    length=eval(input(\"enter the length of the rectangle :\"))\n",
    "    bredth=eval(input(\"enter the bredth of the rectangle :\"))\n",
    "    radius=eval(input(\"enter the radius of the circle :\"))\n",
    "\n",
    "    pi=3.141\n",
    "    preimeter_of_rectangle= 2 * (length + bredth)\n",
    "    area_of_rectangle= length*bredth;\n",
    "    area_of_circle= pi*radius**2\n",
    "    circumference_of_circle= 2*pi*radius\n",
    "\n",
    "    print(\"Area of the rectangle:\", area_of_rectangle)\n",
    "    print(\"Perimeter of the rectangle:\", preimeter_of_rectangle)\n",
    "    print(\"Area of the circle:\", area_of_circle)\n",
    "    print(\"Circumference of the circle:\", circumference_of_circle)\n",
    "calculate()"
   ]
  },
  {
   "cell_type": "code",
   "execution_count": 59,
   "id": "d93816b8",
   "metadata": {},
   "outputs": [
    {
     "name": "stdout",
     "output_type": "stream",
     "text": [
      "Area of the rectangle: 60\n",
      "Perimeter of the rectangle: 32\n",
      "Area of the circle: 78.525\n",
      "Circumference of the circle: 31.41\n"
     ]
    }
   ],
   "source": [
    "# with arguments\n",
    "\n",
    "import math\n",
    "def calculate(length,breadth,radius):\n",
    "\n",
    "    pi=3.141\n",
    "    preimeter_of_rectangle= 2 * (length + bredth)\n",
    "    area_of_rectangle= length*bredth;\n",
    "    area_of_circle= pi*radius**2\n",
    "    circumference_of_circle= 2*pi*radius\n",
    "\n",
    "    print(\"Area of the rectangle:\", area_of_rectangle)\n",
    "    print(\"Perimeter of the rectangle:\", preimeter_of_rectangle)\n",
    "    print(\"Area of the circle:\", area_of_circle)\n",
    "    print(\"Circumference of the circle:\", circumference_of_circle)\n",
    "calculate(10,6,5)"
   ]
  },
  {
   "cell_type": "code",
   "execution_count": 70,
   "id": "23c280bb",
   "metadata": {},
   "outputs": [
    {
     "name": "stdout",
     "output_type": "stream",
     "text": [
      "Area of the rectangle: 50\n",
      "Perimeter of the rectangle: 30\n",
      "Area of the circle: 28.269\n",
      "Circumference of the circle: 18.846\n"
     ]
    }
   ],
   "source": [
    "# default\n",
    "\n",
    "import math\n",
    "def calculate_lbr(length=10,radius=3, bredth=5):\n",
    "   \n",
    "    pi=3.141\n",
    "    preimeter_of_rectangle= 2 * (length + bredth)\n",
    "    area_of_rectangle= length*bredth;\n",
    "    area_of_circle= pi*radius**2\n",
    "    circumference_of_circle= 2*pi*radius\n",
    "\n",
    "    print(\"Area of the rectangle:\", area_of_rectangle)\n",
    "    print(\"Perimeter of the rectangle:\", preimeter_of_rectangle)\n",
    "    print(\"Area of the circle:\", area_of_circle)\n",
    "    print(\"Circumference of the circle:\", circumference_of_circle)\n",
    "calculate_lbr()"
   ]
  },
  {
   "cell_type": "code",
   "execution_count": null,
   "id": "58cc0915",
   "metadata": {},
   "outputs": [],
   "source": []
  },
  {
   "cell_type": "code",
   "execution_count": 71,
   "id": "e567b312",
   "metadata": {},
   "outputs": [
    {
     "name": "stdout",
     "output_type": "stream",
     "text": [
      "hello!\n",
      "write a number for C :5\n",
      "write a number for D :6\n",
      "after swaping: C=  6 D = 5\n"
     ]
    }
   ],
   "source": [
    "#Two numbers are input through the keyboard into two locations C and D.\n",
    "#Write a program to interchange the contents of C and D.\n",
    "\n",
    "print(\"hello!\")\n",
    "try:\n",
    "    C=eval(input(\"write a number for C :\"))\n",
    "    D=eval(input(\"write a number for D :\"))\n",
    "        \n",
    "\n",
    "    temporary=C   #let consider temporary variable to store C\n",
    "    C=D\n",
    "    D= temporary  # if C=D, D is also temporary. so when we call C temporary(= i.e C) prints\n",
    "\n",
    "    print(\"after swaping: C= \" ,C , \"D =\" ,D)\n",
    "except Exception as e:\n",
    "    print(e)\n"
   ]
  },
  {
   "cell_type": "code",
   "execution_count": 72,
   "id": "b2e16796",
   "metadata": {},
   "outputs": [
    {
     "name": "stdout",
     "output_type": "stream",
     "text": [
      "hello!\n",
      "write a number for C :6\n",
      "write a number for D :7\n",
      "after swaping: C=  7 D = 6\n"
     ]
    }
   ],
   "source": [
    "#without arguments\n",
    "\n",
    "print(\"hello!\")\n",
    "def interchange():\n",
    "    \n",
    "    try:\n",
    "        C=eval(input(\"write a number for C :\"))\n",
    "        D=eval(input(\"write a number for D :\"))\n",
    "        \n",
    "\n",
    "        temporary=C   #let consider temporary variable to store C\n",
    "        C=D\n",
    "        D= temporary  # if C=D, D is also temporary. so when we call C temporary(= i.e C) prints\n",
    "\n",
    "        print(\"after swaping: C= \" ,C , \"D =\" ,D)\n",
    "    except Exception as e:\n",
    "        print(e)\n",
    "\n",
    "interchange()"
   ]
  },
  {
   "cell_type": "code",
   "execution_count": 74,
   "id": "04a18420",
   "metadata": {},
   "outputs": [
    {
     "name": "stdout",
     "output_type": "stream",
     "text": [
      "hello!\n",
      "after swaping: C=  7 D = 6\n"
     ]
    }
   ],
   "source": [
    "#with arguments\n",
    "\n",
    "print(\"hello!\")\n",
    "def interchange(C,D):\n",
    "    \n",
    "    temporary=C   #let consider temporary variable to store C\n",
    "    C=D\n",
    "    D= temporary  # if C=D, D is also temporary. so when we call C temporary(= i.e C) prints\n",
    "\n",
    "    print(\"after swaping: C= \" ,C , \"D =\" ,D)\n",
    "\n",
    "interchange(6,7)"
   ]
  },
  {
   "cell_type": "code",
   "execution_count": 84,
   "id": "71777389",
   "metadata": {},
   "outputs": [
    {
     "name": "stdout",
     "output_type": "stream",
     "text": [
      "hello!\n",
      "after swaping: C = 4 : D = 2\n"
     ]
    }
   ],
   "source": [
    "#default\n",
    "\n",
    "print(\"hello!\")\n",
    "def interchange(C=2, D=4):\n",
    "\n",
    "        temporary=C   #let consider temporary variable to store C\n",
    "        C=D\n",
    "        D= temporary  # if C=D, D is also temporary. so when we call C temporary(= i.e C) prints\n",
    "\n",
    "        print(\"after swaping: C =\" ,C ,\": D =\" ,D)\n",
    "\n",
    "\n",
    "interchange()"
   ]
  },
  {
   "cell_type": "code",
   "execution_count": null,
   "id": "4295f534",
   "metadata": {},
   "outputs": [],
   "source": []
  },
  {
   "cell_type": "code",
   "execution_count": 86,
   "id": "9e78f685",
   "metadata": {},
   "outputs": [
    {
     "name": "stdout",
     "output_type": "stream",
     "text": [
      "enter a five digit number :12345\n",
      "reversed number : 54321\n"
     ]
    }
   ],
   "source": [
    "#If a five-digit number is input through the keyboard, write a program to reverse the number.\n",
    "\n",
    "try:\n",
    "    num= eval(input(\"enter a five digit number :\"))\n",
    "    rev=0\n",
    "    while (num > 0):       \n",
    "        rev= rev * 10 + num % 10  # reverse * 10 + remainder(reverse * 10 is zero ) \n",
    "                    # when num divide by 10 we always get remainder as last digit of num only which will be stored in rev.\n",
    "        num= num//10       # num divide by 10 ( if we double divide 12345 by 10 we get 1234.5)\n",
    "                           #decimal is ignored and now 1234 will become the 'num' \n",
    "             # again while loop executes until all numbers are reversed\n",
    "    print(\"reversed number :\" , rev)\n",
    "except Exception as e:\n",
    "    print(e)"
   ]
  },
  {
   "cell_type": "code",
   "execution_count": 88,
   "id": "70db30f5",
   "metadata": {},
   "outputs": [
    {
     "name": "stdout",
     "output_type": "stream",
     "text": [
      "enter a five digit number :54321\n",
      "reversed number : 12345\n"
     ]
    }
   ],
   "source": [
    "#without arguments\n",
    "\n",
    "def reverse():\n",
    "    num= eval(input(\"enter a five digit number :\"))\n",
    "    rev=0\n",
    "    while (num > 0):       \n",
    "        rev= rev * 10 + num % 10  # reverse * 10 + remainder(reverse * 10 is zero ) \n",
    "                    # when num divide by 10 we always get remainder as last digit of num only which will be stored in rev.\n",
    "\n",
    "        num= num//10       # num divide by 10 ( if we double divide 12345 by 10 we get 1234.5)\n",
    "                           #decimal is ignored and now 1234 will become the 'num' \n",
    "             # again while loop executes until all numbers are reversed\n",
    "    print(\"reversed number :\" , rev)\n",
    "reverse()"
   ]
  },
  {
   "cell_type": "code",
   "execution_count": 89,
   "id": "fed15489",
   "metadata": {},
   "outputs": [
    {
     "name": "stdout",
     "output_type": "stream",
     "text": [
      "reversed number : 56789\n"
     ]
    }
   ],
   "source": [
    "#with arguments\n",
    "\n",
    "def reverse(num):\n",
    "\n",
    "    rev=0\n",
    "    while (num > 0):       \n",
    "        rev= rev * 10 + num % 10  # reverse * 10 + remainder(reverse * 10 is zero ) \n",
    "                    # when num divide by 10 we always get remainder as last digit of num only which will be stored in rev.\n",
    "\n",
    "        num= num//10       # num divide by 10 ( if we double divide 12345 by 10 we get 1234.5)\n",
    "                           #decimal is ignored and now 1234 will become the 'num' \n",
    "             # again while loop executes until all numbers are reversed\n",
    "    print(\"reversed number :\" , rev)\n",
    "reverse(98765)"
   ]
  },
  {
   "cell_type": "code",
   "execution_count": 90,
   "id": "f8a50161",
   "metadata": {},
   "outputs": [
    {
     "name": "stdout",
     "output_type": "stream",
     "text": [
      "reversed number : 34567\n"
     ]
    }
   ],
   "source": [
    "#default\n",
    "\n",
    "def reverse(num= 76543):\n",
    "    rev=0\n",
    "    while (num > 0):       \n",
    "        rev= rev * 10 + num % 10  # reverse * 10 + remainder(reverse * 10 is zero ) \n",
    "                    # when num divide by 10 we always get remainder as last digit of num only which will be stored in rev.\n",
    "\n",
    "        num= num//10       # num divide by 10 ( if we double divide 12345 by 10 we get 1234.5)\n",
    "                           #decimal is ignored and now 1234 will become the 'num' \n",
    "             # again while loop executes until all numbers are reversed\n",
    "    print(\"reversed number :\" , rev)\n",
    "reverse()"
   ]
  },
  {
   "cell_type": "code",
   "execution_count": null,
   "id": "412f0f8d",
   "metadata": {},
   "outputs": [],
   "source": []
  },
  {
   "cell_type": "code",
   "execution_count": 92,
   "id": "e369e011",
   "metadata": {},
   "outputs": [
    {
     "name": "stdout",
     "output_type": "stream",
     "text": [
      "enter a four digit number:5622\n",
      "sum of first and last digit is : 7\n"
     ]
    }
   ],
   "source": [
    "#If a four-digit number is input through the keyboard.\n",
    "#write a program to obtain the sum of the first and last digit of this number.\n",
    "\n",
    "#try and except\n",
    "\n",
    "try:\n",
    "    num= eval(input(\"enter a four digit number:\"))  #user input\n",
    "\n",
    "    first_digit = num // 1000    #To add first and last digit,  we need to call 'first digit' from four digit number\n",
    "                                 #if four digit number is divided by 1000(four digits) them we get first digit(decimal is ignored) \n",
    "    last_digit = num % 10       #(remainder)when num divide by 10 we always get remainder as 'last digit' of num only.\n",
    "\n",
    "    sum_of_digits = first_digit + last_digit\n",
    "    print(\"sum of first and last digit is :\" ,sum_of_digits)\n",
    "except Exception as e:\n",
    "    print(e)"
   ]
  },
  {
   "cell_type": "code",
   "execution_count": 94,
   "id": "d6b531c7",
   "metadata": {},
   "outputs": [
    {
     "name": "stdout",
     "output_type": "stream",
     "text": [
      "enter a four digit number:1234\n",
      "sum of first and last digit is : 5\n"
     ]
    }
   ],
   "source": [
    "#without arguments\n",
    "\n",
    "def sum():\n",
    "    num= eval(input(\"enter a four digit number:\"))  #user input\n",
    "\n",
    "    first_digit = num // 1000    #To add first and last digit,  we need to call 'first digit' from four digit number\n",
    "                                 #if four digit number is divided by 1000(four digits) them we get first digit(decimal is ignored) \n",
    "    last_digit = num % 10       #(remainder)when num divide by 10 we always get remainder as 'last digit' of num only.\n",
    "\n",
    "    sum_of_digits = first_digit + last_digit\n",
    "    print(\"sum of first and last digit is :\" ,sum_of_digits)\n",
    "sum()"
   ]
  },
  {
   "cell_type": "code",
   "execution_count": 95,
   "id": "c5709aee",
   "metadata": {},
   "outputs": [
    {
     "name": "stdout",
     "output_type": "stream",
     "text": [
      "sum of first and last digit is : 11\n"
     ]
    }
   ],
   "source": [
    "#with arguments\n",
    "\n",
    "def sum(num):\n",
    "\n",
    "    first_digit = num // 1000    #To add first and last digit,  we need to call 'first digit' from four digit number\n",
    "                                 #if four digit number is divided by 1000(four digits) them we get first digit(decimal is ignored) \n",
    "    last_digit = num % 10       #(remainder)when num divide by 10 we always get remainder as 'last digit' of num only.\n",
    "\n",
    "    sum_of_digits = first_digit + last_digit\n",
    "    print(\"sum of first and last digit is :\" ,sum_of_digits)\n",
    "sum(7854)       "
   ]
  },
  {
   "cell_type": "code",
   "execution_count": 96,
   "id": "42782c90",
   "metadata": {},
   "outputs": [
    {
     "name": "stdout",
     "output_type": "stream",
     "text": [
      "sum of first and last digit is : 14\n"
     ]
    }
   ],
   "source": [
    "#default\n",
    "\n",
    "def sum(num=9565):\n",
    "\n",
    "    first_digit = num // 1000    #To add first and last digit,  we need to call 'first digit' from four digit number\n",
    "                                 #if four digit number is divided by 1000(four digits) them we get first digit(decimal is ignored) \n",
    "    last_digit = num % 10       #(remainder)when num divide by 10 we always get remainder as 'last digit' of num only.\n",
    "\n",
    "    sum_of_digits = first_digit + last_digit\n",
    "    print(\"sum of first and last digit is :\" ,sum_of_digits)\n",
    "sum()     "
   ]
  },
  {
   "cell_type": "code",
   "execution_count": null,
   "id": "bfeebacb",
   "metadata": {},
   "outputs": [],
   "source": []
  },
  {
   "cell_type": "code",
   "execution_count": 7,
   "id": "efb145e6",
   "metadata": {},
   "outputs": [
    {
     "name": "stdout",
     "output_type": "stream",
     "text": [
      "Number of illiterate men: 13600.0\n",
      "Number of illiterate women: 28000.0\n"
     ]
    }
   ],
   "source": [
    "#In a town, the percentage of men is 52. The percentage of total literacy is 48.\n",
    "#If total percentage of literate men is 35 of the total population, \n",
    "#write a program to find the total number of illiterate men and women if the population of the town is 80,000.\n",
    "\n",
    "total_population = 80000  # Total population of the town              # Given data\n",
    "percentage_men = 52       # Percentage of men in the population\n",
    "percentage_literacy = 48  # Percentage of total literacy\n",
    "percentage_literate_men = 35  # Percentage of literate men\n",
    "try:\n",
    "    # Calculate the number of men in the town\n",
    "    total_men = (percentage_men / 100) * total_population\n",
    "\n",
    "    # Calculate the number of literate people in the town\n",
    "    total_literate = (percentage_literacy / 100) * total_population\n",
    "\n",
    "    # Calculate the number of literate men\n",
    "    total_literate_men = (percentage_literate_men / 100) * total_population\n",
    "\n",
    "    # Calculate the number of women in the town\n",
    "    total_women = total_population - total_men\n",
    "\n",
    "    # Calculate the number of illiterate men\n",
    "    total_illiterate_men = total_men - total_literate_men\n",
    "\n",
    "    # Calculate the number of illiterate women\n",
    "    total_illiterate_women = total_women - (total_literate - total_literate_men)\n",
    "    print(\"Number of illiterate men:\", total_illiterate_men)               # Print the results\n",
    "    print(\"Number of illiterate women:\", total_illiterate_women)\n",
    "except Exception as e:\n",
    "    print(e)"
   ]
  },
  {
   "cell_type": "code",
   "execution_count": 100,
   "id": "22796ca4",
   "metadata": {},
   "outputs": [
    {
     "name": "stdout",
     "output_type": "stream",
     "text": [
      "Number of illiterate men: 13600.0\n",
      "Number of illiterate women: 28000.0\n"
     ]
    }
   ],
   "source": [
    "#without arguments\n",
    "\n",
    "def town():\n",
    "    # Given data\n",
    "    total_population = 80000  # Total population of the town\n",
    "    percentage_men = 52       # Percentage of men in the population\n",
    "    percentage_literacy = 48  # Percentage of total literacy\n",
    "    percentage_literate_men = 35  # Percentage of literate men\n",
    "                 # Calculate the number of men in the town\n",
    "    total_men = (percentage_men / 100) * total_population\n",
    "\n",
    "    # Calculate the number of literate people in the town\n",
    "    total_literate = (percentage_literacy / 100) * total_population\n",
    "\n",
    "    # Calculate the number of literate men\n",
    "    total_literate_men = (percentage_literate_men / 100) * total_population\n",
    "\n",
    "    # Calculate the number of women in the town\n",
    "    total_women = total_population - total_men\n",
    "\n",
    "    # Calculate the number of illiterate men\n",
    "    total_illiterate_men = total_men - total_literate_men\n",
    "\n",
    "    # Calculate the number of illiterate women\n",
    "    total_illiterate_women = total_women - (total_literate - total_literate_men)\n",
    "\n",
    "    print(\"Number of illiterate men:\", total_illiterate_men)         # Print the results\n",
    "    print(\"Number of illiterate women:\", total_illiterate_women)\n",
    "town()"
   ]
  },
  {
   "cell_type": "code",
   "execution_count": 5,
   "id": "56083221",
   "metadata": {},
   "outputs": [
    {
     "name": "stdout",
     "output_type": "stream",
     "text": [
      "Number of illiterate men: 15300.000000000004\n",
      "Number of illiterate women: 31499.999999999996\n"
     ]
    }
   ],
   "source": [
    "           #with arguments\n",
    "def town(total_population,percentage_men):\n",
    "    # Given data\n",
    "    percentage_literacy = 48  # Percentage of total literacy\n",
    "    percentage_literate_men = 35  # Percentage of literate men\n",
    "\n",
    "    # Calculate the number of men in the town\n",
    "    total_men = (percentage_men / 100) * total_population\n",
    "\n",
    "    # Calculate the number of literate people in the town\n",
    "    total_literate = (percentage_literacy / 100) * total_population\n",
    "\n",
    "    # Calculate the number of literate men\n",
    "    total_literate_men = (percentage_literate_men / 100) * total_population\n",
    "\n",
    "    # Calculate the number of women in the town\n",
    "    total_women = total_population - total_men\n",
    "\n",
    "    # Calculate the number of illiterate men\n",
    "    total_illiterate_men = total_men - total_literate_men\n",
    "\n",
    "    # Calculate the number of illiterate women\n",
    "    total_illiterate_women = total_women - (total_literate - total_literate_men)\n",
    "\n",
    "    # Print the results\n",
    "    print(\"Number of illiterate men:\", total_illiterate_men)\n",
    "    print(\"Number of illiterate women:\", total_illiterate_women)\n",
    "town(90000, 52 )"
   ]
  },
  {
   "cell_type": "code",
   "execution_count": 4,
   "id": "8e487627",
   "metadata": {},
   "outputs": [
    {
     "name": "stdout",
     "output_type": "stream",
     "text": [
      "Number of illiterate men: 13600.0\n",
      "Number of illiterate women: 28000.0\n"
     ]
    }
   ],
   "source": [
    "#default\n",
    "# Given data\n",
    "percentage_men = 52       # Percentage of men in the population\n",
    "percentage_literacy = 48  # Percentage of total literacy\n",
    "percentage_literate_men = 35  # Percentage of literate men\n",
    "\n",
    "def townn(total_population = 80000):\n",
    "    # Calculate the number of men in the town\n",
    "    total_men = (percentage_men / 100) * total_population\n",
    "\n",
    "    # Calculate the number of literate people in the town\n",
    "    total_literate = (percentage_literacy / 100) * total_population\n",
    "\n",
    "    # Calculate the number of literate men\n",
    "    total_literate_men = (percentage_literate_men / 100) * total_population\n",
    "\n",
    "    # Calculate the number of women in the town\n",
    "    total_women = total_population - total_men\n",
    "\n",
    "    # Calculate the number of illiterate men\n",
    "    total_illiterate_men = total_men - total_literate_men\n",
    "\n",
    "    # Calculate the number of illiterate women\n",
    "    total_illiterate_women = total_women - (total_literate - total_literate_men)\n",
    "\n",
    "    # Print the results\n",
    "    print(\"Number of illiterate men:\", total_illiterate_men)\n",
    "    print(\"Number of illiterate women:\", total_illiterate_women)\n",
    "townn()"
   ]
  },
  {
   "cell_type": "code",
   "execution_count": null,
   "id": "dcd1f186",
   "metadata": {},
   "outputs": [],
   "source": []
  },
  {
   "cell_type": "code",
   "execution_count": null,
   "id": "2f12c15d",
   "metadata": {},
   "outputs": [],
   "source": []
  },
  {
   "cell_type": "code",
   "execution_count": 114,
   "id": "bbd7324d",
   "metadata": {},
   "outputs": [
    {
     "name": "stdout",
     "output_type": "stream",
     "text": [
      "enter the amount to be withdrawn:1060\n",
      "Number of 100 notes: 10\n",
      "Number of 50 notes: 1\n",
      "Number of 10 notes: 1\n"
     ]
    }
   ],
   "source": [
    "                      #try and except\n",
    "#A cashier has currency notes of denominations 10, 50 and 100.\n",
    "#If the amount to be withdrawn is input through the keyboard in hundreds,\n",
    "#find the total number of currency notes of each denomination the cashier will have to give to the withdrawer.\n",
    "\n",
    "try:\n",
    "    amount_in_hundreds=eval(input(\"enter the amount to be withdrawn:\"))\n",
    "    #initially let all notes are 0\n",
    "    num_100_notes= 0\n",
    "    num_50_notes= 0\n",
    "    num_10_notes= 0\n",
    "\n",
    "    amount= amount_in_hundreds * 1\n",
    "\n",
    "    num_100_notes = amount // 100      # Calculate the number of 100 notes\n",
    "\n",
    "    amount%= 100   #this will update remaining amount\n",
    "\n",
    "    num_50_notes = amount // 50      # Calculate the number of 50 notes\n",
    "\n",
    "    amount= amount % 50   #this will update remaining amount\n",
    "\n",
    "    num_10_notes = amount // 10     # Calculate the number of 10 notes\n",
    "    print(\"Number of 100 notes:\", num_100_notes)\n",
    "    print(\"Number of 50 notes:\", num_50_notes)\n",
    "    print(\"Number of 10 notes:\", num_10_notes)\n",
    "except Exception as e:\n",
    "    print(e)"
   ]
  },
  {
   "cell_type": "code",
   "execution_count": 116,
   "id": "45a7a7d8",
   "metadata": {},
   "outputs": [
    {
     "name": "stdout",
     "output_type": "stream",
     "text": [
      "enter the amount to be withdrawn:2070\n",
      "Number of 100 notes: 20\n",
      "Number of 50 notes: 1\n",
      "Number of 10 notes: 2\n"
     ]
    }
   ],
   "source": [
    "#without arguments\n",
    "\n",
    "def notes():\n",
    "    amount_in_hundreds=eval(input(\"enter the amount to be withdrawn:\"))\n",
    "    #initially let all notes are 0\n",
    "    num_100_notes= 0\n",
    "    num_50_notes= 0\n",
    "    num_10_notes= 0\n",
    "\n",
    "    amount= amount_in_hundreds * 1\n",
    "\n",
    "    num_100_notes = amount // 100      # Calculate the number of 100 notes\n",
    "\n",
    "    amount%= 100   #this will update remaining amount\n",
    "\n",
    "    num_50_notes = amount // 50      # Calculate the number of 50 notes\n",
    "\n",
    "    amount= amount % 50   #this will update remaining amount\n",
    "\n",
    "    num_10_notes = amount // 10     # Calculate the number of 10 notes\n",
    "\n",
    "    print(\"Number of 100 notes:\", num_100_notes)\n",
    "    print(\"Number of 50 notes:\", num_50_notes)\n",
    "    print(\"Number of 10 notes:\", num_10_notes)\n",
    "notes()"
   ]
  },
  {
   "cell_type": "code",
   "execution_count": 118,
   "id": "cd862afb",
   "metadata": {},
   "outputs": [
    {
     "name": "stdout",
     "output_type": "stream",
     "text": [
      "Number of 100 notes: 30\n",
      "Number of 50 notes: 1\n",
      "Number of 10 notes: 3\n"
     ]
    }
   ],
   "source": [
    "#with arguments\n",
    "\n",
    "def notes(amount_in_hundreds):\n",
    "    #initially let all notes are 0\n",
    "    num_100_notes= 0\n",
    "    num_50_notes= 0\n",
    "    num_10_notes= 0\n",
    "\n",
    "    amount= amount_in_hundreds * 1\n",
    "\n",
    "    num_100_notes = amount // 100      # Calculate the number of 100 notes\n",
    "\n",
    "    amount%= 100   #this will update remaining amount\n",
    "\n",
    "    num_50_notes = amount // 50      # Calculate the number of 50 notes\n",
    "\n",
    "    amount= amount % 50   #this will update remaining amount\n",
    "\n",
    "    num_10_notes = amount // 10     # Calculate the number of 10 notes\n",
    "\n",
    "    print(\"Number of 100 notes:\", num_100_notes)\n",
    "    print(\"Number of 50 notes:\", num_50_notes)\n",
    "    print(\"Number of 10 notes:\", num_10_notes)\n",
    "notes(3080)"
   ]
  },
  {
   "cell_type": "code",
   "execution_count": 119,
   "id": "c8808fe5",
   "metadata": {
    "scrolled": true
   },
   "outputs": [
    {
     "name": "stdout",
     "output_type": "stream",
     "text": [
      "Number of 100 notes: 50\n",
      "Number of 50 notes: 1\n",
      "Number of 10 notes: 1\n"
     ]
    }
   ],
   "source": [
    "#default\n",
    "\n",
    "def notes(amount_in_hundreds=5060):\n",
    "      #initially let all notes are 0\n",
    "    num_100_notes= 0\n",
    "    num_50_notes= 0\n",
    "    num_10_notes= 0\n",
    "\n",
    "    amount= amount_in_hundreds * 1\n",
    "\n",
    "    num_100_notes = amount // 100      # Calculate the number of 100 notes\n",
    "    amount%= 100   #this will update remaining amount\n",
    "\n",
    "    num_50_notes = amount // 50      # Calculate the number of 50 notes\n",
    "    amount= amount % 50   #this will update remaining amount\n",
    "\n",
    "    num_10_notes = amount // 10     # Calculate the number of 10 notes\n",
    "\n",
    "    print(\"Number of 100 notes:\", num_100_notes)\n",
    "    print(\"Number of 50 notes:\", num_50_notes)\n",
    "    print(\"Number of 10 notes:\", num_10_notes)\n",
    "notes()"
   ]
  },
  {
   "cell_type": "code",
   "execution_count": null,
   "id": "d89bff72",
   "metadata": {},
   "outputs": [],
   "source": []
  },
  {
   "cell_type": "markdown",
   "id": "c80473f1",
   "metadata": {},
   "source": [
    "# ASSIGNMENT - 4"
   ]
  },
  {
   "cell_type": "code",
   "execution_count": 25,
   "id": "38f12388",
   "metadata": {},
   "outputs": [
    {
     "name": "stdout",
     "output_type": "stream",
     "text": [
      "how many dollars the firm pays per hour to an employee: 12\n",
      "how many hours did the employee worked : 37\n",
      "444\n"
     ]
    }
   ],
   "source": [
    "# Problem-1\n",
    "# Suppose that a Firm pays its employee at the rate of $12 per hour. An employee has worked for 37 hours.\n",
    "# How much should the firm pay the employee? (Do normal way directly takes the input)\n",
    "\n",
    "\n",
    "#GIVEN\n",
    "firm_pays=eval(input(\"how many dollars the firm pays per hour to an employee: \"))  \n",
    "employee_worked=eval(input(\"how many hours did the employee worked : \"))\n",
    "total_pay= firm_pays * employee_worked\n",
    "\n",
    "print(total_pay)"
   ]
  },
  {
   "cell_type": "code",
   "execution_count": 26,
   "id": "5754fad2",
   "metadata": {},
   "outputs": [
    {
     "name": "stdout",
     "output_type": "stream",
     "text": [
      "how many dollars the firm pays per hour to an employee : 12\n",
      "how many hours did the employee worked : 37\n",
      "444\n"
     ]
    }
   ],
   "source": [
    "#conditional statement\n",
    "\n",
    "\n",
    "firm_pays=eval(input(\"how many dollars the firm pays per hour to an employee : \"))  \n",
    "\n",
    "if firm_pays >= 1:\n",
    "    employee_worked=eval(input(\"how many hours did the employee worked : \"))\n",
    "    total_pay= firm_pays * employee_worked\n",
    "    print(total_pay)\n",
    "\n",
    "else:\n",
    "    print(\"enter the correct value\")\n"
   ]
  },
  {
   "cell_type": "code",
   "execution_count": null,
   "id": "827e8ecd",
   "metadata": {},
   "outputs": [],
   "source": []
  },
  {
   "cell_type": "code",
   "execution_count": 38,
   "id": "eed22f3c",
   "metadata": {},
   "outputs": [
    {
     "name": "stdout",
     "output_type": "stream",
     "text": [
      "enter the number of hours an employee worked :10\n",
      "enter the hourly rate:20\n",
      "total pay  200\n"
     ]
    }
   ],
   "source": [
    "# Problem-2\n",
    "# How about prompting the user for the number of hours and using the input value to compute the total pay? \n",
    "#(Above problem use eval concept and sep concept)\n",
    "\n",
    "hours_worked= eval(input(\"enter the number of hours an employee worked :\"))\n",
    "hourly_rate=eval(input(\"enter the hourly rate:\"))\n",
    "\n",
    "total_pay= hours_worked * hourly_rate\n",
    "\n",
    "print(\"total pay \" , total_pay)"
   ]
  },
  {
   "cell_type": "code",
   "execution_count": 41,
   "id": "e7f70cc8",
   "metadata": {},
   "outputs": [
    {
     "name": "stdout",
     "output_type": "stream",
     "text": [
      "enter the number of hours an employee worked :2\n",
      "enter the hourly rate:20\n",
      "total pay  40\n"
     ]
    }
   ],
   "source": [
    "#conditional statement\n",
    "\n",
    "hours_worked= eval(input(\"enter the number of hours an employee worked :\"))\n",
    "if hours_worked>=1:\n",
    "    hourly_rate=eval(input(\"enter the hourly rate:\"))\n",
    "\n",
    "    total_pay= hours_worked * hourly_rate\n",
    "\n",
    "    print(\"total pay \" , total_pay)\n",
    "else:\n",
    "    print(\"check the value entered\")"
   ]
  },
  {
   "cell_type": "code",
   "execution_count": null,
   "id": "4015f2c9",
   "metadata": {},
   "outputs": [],
   "source": []
  },
  {
   "cell_type": "code",
   "execution_count": 44,
   "id": "ba9d8848",
   "metadata": {},
   "outputs": [
    {
     "name": "stdout",
     "output_type": "stream",
     "text": [
      "enter the marks for quiz1 (out of 20):10\n",
      "enter the marks for quiz2 (out of 20):10\n",
      "enter the marks for classtest(out of 50):25\n",
      "enter the marks for assignment(out of 100):50\n",
      "enter the marks for project(out of 200):100\n",
      "overall_marks (out of 100) :  50.0\n"
     ]
    }
   ],
   "source": [
    "# Problem-3\n",
    "# For a certain academic subject the students are evaluated based on five tests - \n",
    "# * Quiz 1 (20 marks - 10% Weight),\n",
    "# * Quiz 2 (20 marks - 10% Weight),\n",
    "# * Class test (50 marks - 25% Weight), \n",
    "# * Assignment (100 marks - 25% weight) and\n",
    "# * Project (200 marks - 30% weight).\n",
    "\n",
    "#Design a program that will prompt the user for marks for each of the tests and calculate the overall marks (out of 100).\n",
    "\n",
    "#given\n",
    "quiz1=float(input(\"enter the marks for quiz1 (out of 20):\")) \n",
    "quiz2=float(input(\"enter the marks for quiz2 (out of 20):\")) \n",
    "class_test=float(input(\"enter the marks for classtest(out of 50):\")) \n",
    "assignment=float(input(\"enter the marks for assignment(out of 100):\"))\n",
    "project=float(input(\"enter the marks for project(out of 200):\")) \n",
    "\n",
    "quiz1_weight = (quiz1 / 20) * 10\n",
    "quiz2_weight = (quiz2 / 20) * 10\n",
    "classtest_weight= (class_test / 50) * 25\n",
    "assignment_weight = (assignment / 100) * 25\n",
    "project_weight = (project / 200) * 30\n",
    "\n",
    "overall_marks= quiz1_weight + quiz2_weight + classtest_weight + assignment_weight + project_weight\n",
    "\n",
    "print(\"overall_marks (out of 100) : \" ,overall_marks)"
   ]
  },
  {
   "cell_type": "code",
   "execution_count": 56,
   "id": "97bc571e",
   "metadata": {},
   "outputs": [
    {
     "name": "stdout",
     "output_type": "stream",
     "text": [
      "enter the marks for quiz1 (out of 20):-5\n",
      "enter the marks for quiz2 (out of 20):10\n",
      "enter the marks for classtest(out of 50):25\n",
      "enter the marks for assignment(out of 100):50\n",
      "enter the marks for project(out of 200):100\n",
      "Invalid marks for Quiz 1. Marks should be between 0 and 20.\n",
      "enter the values in range\n"
     ]
    }
   ],
   "source": [
    "#conditional statement\n",
    "\n",
    "quiz1=float(input(\"enter the marks for quiz1 (out of 20):\")) \n",
    "quiz2=float(input(\"enter the marks for quiz2 (out of 20):\")) \n",
    "class_test=float(input(\"enter the marks for classtest(out of 50):\")) \n",
    "assignment=float(input(\"enter the marks for assignment(out of 100):\"))\n",
    "project=float(input(\"enter the marks for project(out of 200):\")) \n",
    "valid_range = True\n",
    "\n",
    "if  quiz1<0 or quiz1>20 :\n",
    "    valid_range= False\n",
    "    print(\"Invalid marks for Quiz 1. Marks should be between 0 and 20.\")\n",
    "if valid_range:\n",
    "    quiz1_weight = (quiz1 / 20) * 10\n",
    "    quiz2_weight = (quiz2 / 20) * 10\n",
    "    classtest_weight= (class_test / 50) * 25\n",
    "    assignment_weight = (assignment / 100) * 25\n",
    "    project_weight = (project / 200) * 30\n",
    "\n",
    "    overall_marks= quiz1_weight + quiz2_weight + classtest_weight + assignment_weight + project_weight\n",
    "\n",
    "    print(\"overall_marks (out of 100) : \" ,overall_marks)\n",
    "else:\n",
    "    print(\"enter the values in range\")"
   ]
  },
  {
   "cell_type": "code",
   "execution_count": null,
   "id": "b45923c3",
   "metadata": {},
   "outputs": [],
   "source": []
  },
  {
   "cell_type": "code",
   "execution_count": 61,
   "id": "135686f5",
   "metadata": {},
   "outputs": [
    {
     "name": "stdout",
     "output_type": "stream",
     "text": [
      "enter a five digit number:12345\n",
      "15\n"
     ]
    }
   ],
   "source": [
    "# Problem-4\n",
    "#If a five-digit number is input through the keyboard, write a program to calculate the sum of its digits.\n",
    "\n",
    "num= eval(input(\"enter a five digit number:\"))  #user input\n",
    "\n",
    "digit_sum=0\n",
    "while num > 0:\n",
    "        digit = num % 10  #(remainder)when num divide by 10 we always get remainder as 'last digit' of num only.\n",
    "        digit_sum += digit\n",
    "        num = num // 10 \n",
    "print(digit_sum)"
   ]
  },
  {
   "cell_type": "code",
   "execution_count": 71,
   "id": "435574ab",
   "metadata": {},
   "outputs": [
    {
     "name": "stdout",
     "output_type": "stream",
     "text": [
      "enter a five digit number:12345\n",
      "15\n"
     ]
    }
   ],
   "source": [
    "#conditional statements\n",
    "\n",
    "num= input(\"enter a five digit number:\")  #user input\n",
    "\n",
    "if len(num) != 5 :\n",
    "    print(\"Invalid input. Please enter a valid five-digit number.\")\n",
    "    \n",
    "else:\n",
    "    num = int(num)     # Convert the input to an integer\n",
    "    digit_sum=0\n",
    "    while num > 0:\n",
    "            digit = num % 10  #(remainder)when num divide by 10 we always get remainder as 'last digit' of num only.\n",
    "            digit_sum += digit\n",
    "            num = num // 10 \n",
    "    print(digit_sum)"
   ]
  },
  {
   "cell_type": "code",
   "execution_count": null,
   "id": "4ca1fb5e",
   "metadata": {},
   "outputs": [],
   "source": []
  },
  {
   "cell_type": "code",
   "execution_count": 56,
   "id": "7cd08f1b",
   "metadata": {},
   "outputs": [
    {
     "name": "stdout",
     "output_type": "stream",
     "text": [
      "enter a five digit number:23456\n",
      "old number:  23456\n",
      "new number : 34567\n"
     ]
    }
   ],
   "source": [
    "#Problem-5\n",
    "#If a five-digit number is input through the keyboard,\n",
    "#write a program to print a new number by adding one to each of its digits. \n",
    "#For example if the number that is input is 12371 then the output should be displayed as 23482.\n",
    "\n",
    "num=int(input(\"enter a five digit number:\"))\n",
    "old=num\n",
    "\n",
    "summ=0\n",
    "digit1=(num//10000)+1\n",
    "num= num%10000\n",
    "summ=summ+(digit1*10000)\n",
    "\n",
    "digit2=(num//1000)+1\n",
    "num= num%1000\n",
    "summ=summ+(digit2*1000)\n",
    "\n",
    "digit3=(num//100)+1\n",
    "num= num%100\n",
    "summ=summ+(digit3*100)\n",
    "\n",
    "digit4=(num//10)+1\n",
    "num= num%10\n",
    "summ=summ+(digit4*10)\n",
    "\n",
    "digit5= num+1\n",
    "summ= summ+digit5\n",
    "\n",
    "print(\"old number: \" , old)\n",
    "print(\"new number :\" , summ)"
   ]
  },
  {
   "cell_type": "code",
   "execution_count": 83,
   "id": "0b1763c6",
   "metadata": {},
   "outputs": [
    {
     "name": "stdout",
     "output_type": "stream",
     "text": [
      "enter a five digit number:12345\n",
      "old number:  12345\n",
      "new number : 23456\n"
     ]
    }
   ],
   "source": [
    "#conditional statements\n",
    "num=input(\"enter a five digit number:\")\n",
    "old=num\n",
    "\n",
    "if len(num)!=5 :\n",
    "    print(\"invalid input. Please enter a valid Five-Digit number\")\n",
    "else:\n",
    "    num= int(num)   #convert the input to an integer\n",
    "    summ=0\n",
    "    digit1=(num//10000)+1        #we will get first digit with decimal(ex: 1.2345)+1   \n",
    "    num= num % 10000            #(remainder) when num divide by 10000 we always get remainder as 'last digit' of num only.\n",
    "    summ=summ+(digit1*10000)\n",
    "\n",
    "    digit2=(num//1000)+1\n",
    "    num= num % 1000\n",
    "    summ=summ+(digit2*1000)\n",
    "\n",
    "    digit3=(num//100)+1\n",
    "    num= num % 100\n",
    "    summ=summ+(digit3*100)\n",
    "\n",
    "    digit4=(num//10)+1\n",
    "    num= num % 10            #(remainder) when num divide by 10 we always get remainder as 'last digit' of num only.\n",
    "    summ=summ+(digit4*10)\n",
    "\n",
    "    digit5= num+1\n",
    "    summ= summ+digit5\n",
    "    print(\"old number: \" , old)\n",
    "    print(\"new number :\" , summ)"
   ]
  },
  {
   "cell_type": "code",
   "execution_count": null,
   "id": "695bca63",
   "metadata": {},
   "outputs": [],
   "source": []
  },
  {
   "cell_type": "code",
   "execution_count": 13,
   "id": "4ca7ba4c",
   "metadata": {},
   "outputs": [
    {
     "name": "stdout",
     "output_type": "stream",
     "text": [
      "enter the name of the student:ramm\n",
      "enter the marks for quiz1 (out of 20):10\n",
      "enter the marks for quiz2 (out of 20):5\n",
      "enter the marks for classtest(out of 50):15\n",
      "enter the marks for assignment(out of 100):35\n",
      "enter the marks for project(out of 200):70\n",
      "overall_marks (out of 100) :  34.25\n",
      "ramm got failed\n"
     ]
    }
   ],
   "source": [
    "# Problem-6: (Use conditional statements)\n",
    "           #**Recall the problem:**\n",
    "#For a certain academic subject the students are evaluated based on five tests -\n",
    "#* Quiz 1 (20 marks - 10% Weight), \n",
    "#* Quiz 2 (20 marks - 10% Weight), \n",
    "#* Class test (50 marks - 25% Weight),\n",
    "#* Assignment (100 marks - 25% weight) and\n",
    "#* Project (200 marks - 30% weight).\n",
    "#      Design a program that will prompt the user for marks for each of the tests and calculate the overall marks (out of 100).\n",
    " \n",
    "     #### Add an extension to the problem to display grades:\n",
    "# Display the grades of students using the following table:\n",
    "   # Score Grade\n",
    "# >= 60 First Class\n",
    "# >= 40 Second Class\n",
    "# < 40 Fail\n",
    "\n",
    "name=input(\"enter the name of the student:\")\n",
    "quiz1=float(input(\"enter the marks for quiz1 (out of 20):\")) \n",
    "quiz2=float(input(\"enter the marks for quiz2 (out of 20):\")) \n",
    "class_test=float(input(\"enter the marks for classtest(out of 50):\")) \n",
    "assignment=float(input(\"enter the marks for assignment(out of 100):\"))\n",
    "project=float(input(\"enter the marks for project(out of 200):\")) \n",
    "valid_range = True\n",
    "\n",
    "if  quiz1<0 or quiz1>20 :\n",
    "    valid_range= False\n",
    "    print(\"Invalid marks for Quiz 1. Marks should be between 0 and 20.\")\n",
    "if valid_range:\n",
    "    quiz1_weight = (quiz1 / 20) * 10    # (student marks/sub total marks) * weightage of quiz\n",
    "    quiz2_weight = (quiz2 / 20) * 10\n",
    "    classtest_weight= (class_test / 50) * 25\n",
    "    assignment_weight = (assignment / 100) * 25\n",
    "    project_weight = (project / 200) * 30\n",
    "\n",
    "    overall_marks= quiz1_weight + quiz2_weight + classtest_weight + assignment_weight + project_weight\n",
    "\n",
    "    print(\"overall_marks (out of 100) : \" ,overall_marks)\n",
    "\n",
    "if overall_marks >= 60 :\n",
    "    print(\"{} got First Class\" .format(name)) \n",
    "elif overall_marks >= 40:\n",
    "    print(\"{} got Second Class\".format(name) )\n",
    "elif overall_marks < 40 :\n",
    "    print(\"{} got failed\".format(name))\n",
    "    \n",
    "    \n",
    "else:\n",
    "    print(\"enter the values in range\")\n",
    "\n"
   ]
  },
  {
   "cell_type": "code",
   "execution_count": null,
   "id": "e776d609",
   "metadata": {},
   "outputs": [],
   "source": []
  },
  {
   "cell_type": "code",
   "execution_count": 6,
   "id": "519ed96d",
   "metadata": {},
   "outputs": [
    {
     "name": "stdout",
     "output_type": "stream",
     "text": [
      "enter the number of hours an employee worked :0\n",
      "you entered Zero value. please enter the value again.\n"
     ]
    }
   ],
   "source": [
    "# Problem-7: (Use conditional statements)\n",
    "\n",
    "# ** Recall the problem:**\n",
    "\n",
    "# How about prompting the user for the number of hours and using the input value to compute the total pay?\n",
    "\n",
    "\n",
    "hours_worked= eval(input(\"enter the number of hours an employee worked :\"))\n",
    "if hours_worked>=1:\n",
    "    hourly_rate=eval(input(\"enter the hourly rate:\"))\n",
    "\n",
    "    total_pay= hours_worked * hourly_rate\n",
    "\n",
    "    print(\"total pay \" , total_pay)\n",
    "elif hours_worked<0:\n",
    "    print(\"you entered a negative value. enter the value again\")\n",
    "else:\n",
    "    print(\"you entered Zero value. please enter the value again.\")"
   ]
  },
  {
   "cell_type": "code",
   "execution_count": null,
   "id": "99f259d8",
   "metadata": {},
   "outputs": [],
   "source": []
  },
  {
   "cell_type": "code",
   "execution_count": 24,
   "id": "9c8975fc",
   "metadata": {},
   "outputs": [
    {
     "name": "stdout",
     "output_type": "stream",
     "text": [
      "enter the number of hours an employee worked :12\n",
      "enter the hourly rate:nine\n",
      "Error, please enter numeric input\n"
     ]
    }
   ],
   "source": [
    "#### Problem-8\n",
    "#         ** try & except **\n",
    "#Rewrite the pay program (refer problem 2) using try and expect\n",
    "# so that the program handles non-numeric input gracefully by printing a message and exiting the program.\n",
    "# The following shows two executions of the program:\n",
    "\n",
    "#Enter hours: 20\n",
    "#Enter rate: nine\n",
    "#Error, please enter numeric input\n",
    "try:\n",
    "    hours_worked= int(input(\"enter the number of hours an employee worked :\")) \n",
    "    hourly_rate=eval(input(\"enter the hourly rate:\"))\n",
    "    total_pay= hours_worked * hourly_rate\n",
    "    print(\"total pay \" , total_pay)\n",
    "except Exception as e:\n",
    "    print (\"Error, please enter numeric input\")"
   ]
  },
  {
   "cell_type": "code",
   "execution_count": null,
   "id": "b736c5e0",
   "metadata": {},
   "outputs": [],
   "source": []
  },
  {
   "cell_type": "code",
   "execution_count": 26,
   "id": "15c7d1b1",
   "metadata": {},
   "outputs": [
    {
     "name": "stdout",
     "output_type": "stream",
     "text": [
      "enter a length (in centimeters):5\n",
      "the result after converting length to inches is 12.7 \n"
     ]
    }
   ],
   "source": [
    "#Problem-9(Use conditional statements)\n",
    "\n",
    "#Write a program that asks the user to enter a length in centimeters.\n",
    "#If the user enters a negative length, the program should tell the user that the entry is invalid.\n",
    "#Otherwise, the program should convert the length to inches and print out the result. There are 2.54 centimeters in an inch.\n",
    "\n",
    "num=eval(input(\"enter a length (in centimeters):\"))\n",
    "inches= 2.54*num\n",
    "if num < 0 :\n",
    "    print(\"entry is invalid!\")\n",
    "else :\n",
    "    print(\"the result after converting length to inches is {} \" .format(inches))"
   ]
  },
  {
   "cell_type": "code",
   "execution_count": null,
   "id": "02d4b098",
   "metadata": {},
   "outputs": [],
   "source": []
  },
  {
   "cell_type": "code",
   "execution_count": 3,
   "id": "f0a6ab5c",
   "metadata": {},
   "outputs": [
    {
     "name": "stdout",
     "output_type": "stream",
     "text": [
      "enter the temperature:30\n",
      "enter the unit ,Celsius or Fahrenheit :celsius\n",
      "The temperature in Fahrenheit is: 86.00 Fahrenheit\n"
     ]
    }
   ],
   "source": [
    "#Problem-10(Use conditional statements)\n",
    "#Ask the user for a temperature. Then ask them what units, Celsius or Fahrenheit, the temperature is in.\n",
    "#Your program should convert the temperature to the other unit. The conversions are F = 9 5 C + 32 and C = 5 9 (F − 32).\n",
    "\n",
    "temperature=eval(input(\"enter the temperature:\"))\n",
    "unit=input(\"enter the unit ,Celsius or Fahrenheit :\")\n",
    "if unit == \"celsius\":\n",
    "               # Convert from Celsius to Fahrenheit\n",
    "    converted_temperature = (temperature * 9/5) + 32\n",
    "    new_unit = \"Fahrenheit\"\n",
    "elif unit == \"fahrenheit\":\n",
    "    # Convert from Fahrenheit to Celsius\n",
    "    converted_temperature = 5/9 * (temperature - 32)\n",
    "    new_unit = \"Celsius\"\n",
    "else:\n",
    "    print(\"Invalid unit ,Please enter Celsius or Fahrenheit!\")\n",
    "    exit()\n",
    "    \n",
    "print(f\"The temperature in {new_unit} is: {converted_temperature:.2f} {new_unit}\")"
   ]
  },
  {
   "cell_type": "code",
   "execution_count": null,
   "id": "053cf992",
   "metadata": {},
   "outputs": [],
   "source": []
  },
  {
   "cell_type": "code",
   "execution_count": 17,
   "id": "2c599c30",
   "metadata": {},
   "outputs": [
    {
     "name": "stdout",
     "output_type": "stream",
     "text": [
      "enter the temperature in celsius:-275\n",
      "the temperature is invalid because it is below absolute zero.\n"
     ]
    }
   ],
   "source": [
    "# Problem-11(Use conditional statements)\n",
    "# Ask the user to enter a temperature in Celsius. The program should print a message based on the temperature:\n",
    "# • If the temperature is less than -273.15, print that the temperature is invalid because it is below absolute zero. \n",
    "# • If it is exactly -273.15, print that the temperature is absolute 0.\n",
    "# • If the temperature is between -273.15 and 0, print that the temperature is below freezing.\n",
    "\n",
    "temperature=float(input(\"enter the temperature in celsius:\"))\n",
    "if temperature < -273.15:\n",
    "    print(\"the temperature is invalid because it is below absolute zero.\")\n",
    "elif temperature== -273.15:\n",
    "    print(\"the temperature is absolute 0.\")\n",
    "elif -273.15< temperature < 0:\n",
    "    print(\"the temperature is below freezing.\")\n",
    "else:\n",
    "    print(\"The temperature is above freezing.\")"
   ]
  },
  {
   "cell_type": "code",
   "execution_count": null,
   "id": "91fa268f",
   "metadata": {},
   "outputs": [],
   "source": []
  },
  {
   "cell_type": "code",
   "execution_count": 21,
   "id": "e72820a5",
   "metadata": {},
   "outputs": [
    {
     "name": "stdout",
     "output_type": "stream",
     "text": [
      "how many credits have you taken:90\n",
      "The student is a senior.\n"
     ]
    }
   ],
   "source": [
    "#Problem-12(Use conditional statements)\n",
    "# Write a program that asks the user how many credits they have taken. \n",
    "#If they have taken 23 or less, print that  the student is a freshman.\n",
    "#If they have taken between 24 and 53, print that they are a sophomore. \n",
    "#The range for juniors is 54 to 83, and for seniors it is 84 and over.\n",
    "\n",
    "credits_taken=eval(input(\"how many credits have you taken:\"))\n",
    "if credits_taken <= 23 :\n",
    "    print(\"the student is a freshman.\")\n",
    "elif 24<= credits_taken <= 53:\n",
    "    print(\"the students are sophomore\")\n",
    "elif 54 <= credits_taken <= 83:\n",
    "    print(\"The student is a junior.\")\n",
    "else:\n",
    "    print(\"The student is a senior.\")"
   ]
  },
  {
   "cell_type": "code",
   "execution_count": null,
   "id": "3e860742",
   "metadata": {},
   "outputs": [],
   "source": []
  },
  {
   "cell_type": "code",
   "execution_count": 24,
   "id": "5dafa35c",
   "metadata": {},
   "outputs": [
    {
     "name": "stdout",
     "output_type": "stream",
     "text": [
      "enter a number between 1 to 10:6\n",
      "10\n",
      "your guess went wrong!\n"
     ]
    }
   ],
   "source": [
    "#Problem-13(Use conditional statements)\n",
    "#Generate a random number between 1 and 10.\n",
    "#Ask the user to guess the number and print a message based on whether they get it right or not.\n",
    "\n",
    "import random\n",
    "num=eval(input(\"enter a number between 1 to 10:\"))\n",
    "r=random.randint(1,10)\n",
    "print(r)\n",
    "if num==r:\n",
    "    print(\"your guess is right!\")\n",
    "else:\n",
    "    print(\"your guess went wrong!\")"
   ]
  },
  {
   "cell_type": "code",
   "execution_count": null,
   "id": "503571a4",
   "metadata": {},
   "outputs": [],
   "source": []
  },
  {
   "cell_type": "code",
   "execution_count": 6,
   "id": "3a73b654",
   "metadata": {},
   "outputs": [
    {
     "name": "stdout",
     "output_type": "stream",
     "text": [
      "enter how many items you have buyed: 120\n",
      "your items are more than 100, so we charge 7 per item\n",
      "the total cost is: 840\n"
     ]
    }
   ],
   "source": [
    "#Problem-14(Use conditional statements)\n",
    "# A store charges $12 per item if you buy less than 10 items. \n",
    "# If you buy between 10 and 99 items, the cost is $10 per item. \n",
    "#If you buy 100 or more items, the cost is $7 per item.\n",
    "# Write a program that asks the user how many items they are buying and prints the total cost.\n",
    "\n",
    "items=eval(input(\"enter how many items you have buyed: \"))\n",
    "charge1=items*12\n",
    "charge2=items*10\n",
    "charge3=items*7\n",
    "if items < 10:\n",
    "    print(\"your items are below 10, so we charge 12 per item\")\n",
    "    print(\"the total cost is:\" ,charge1)\n",
    "elif 10< items < 99:\n",
    "    print(\"your items are between 10 and 99, so we charge 10 per item\")\n",
    "    print(\"the total cost is:\" ,charge2)\n",
    "elif items > 100:\n",
    "    print(\"your items are more than 100, so we charge 7 per item\")\n",
    "    print(\"the total cost is:\" ,charge3)\n",
    "else:\n",
    "    print(\"enter valid input!\")"
   ]
  },
  {
   "cell_type": "code",
   "execution_count": null,
   "id": "72dc4554",
   "metadata": {},
   "outputs": [],
   "source": []
  },
  {
   "cell_type": "code",
   "execution_count": 11,
   "id": "38a64846",
   "metadata": {},
   "outputs": [
    {
     "name": "stdout",
     "output_type": "stream",
     "text": [
      "enter a number:0\n",
      "close\n",
      "enter a number:-2\n",
      "close\n"
     ]
    }
   ],
   "source": [
    "# Problem-15(Use conditional statements)\n",
    "# Write a program that asks the user for two numbers and\n",
    "# prints Close if the numbers are within .001 of each other and Not close otherwise.\n",
    "\n",
    "for num in range(2):\n",
    "    num=eval(input(\"enter a number:\"))\n",
    "    if num < 0.001:\n",
    "        print(\"close\")\n",
    "    else:\n",
    "        print(\"not close\")"
   ]
  },
  {
   "cell_type": "code",
   "execution_count": null,
   "id": "37873f4b",
   "metadata": {},
   "outputs": [],
   "source": []
  },
  {
   "cell_type": "code",
   "execution_count": 34,
   "id": "acd25195",
   "metadata": {},
   "outputs": [
    {
     "name": "stdout",
     "output_type": "stream",
     "text": [
      "enter a year :2000\n",
      "it is a leap year\n"
     ]
    }
   ],
   "source": [
    "#### Problem-16(Use conditional statements)\n",
    "# A year is a leap year if it is divisible by 4,\n",
    "#except that years divisible by 100 are not leap years unless they are also divisible by 400. \n",
    "# Write a program that asks the user for a year and prints out whether it is a leap year or not.\n",
    "\n",
    "year=int(input(\"enter a year :\"))\n",
    "if (year % 4 == 0 and year % 100 != 0) or (year % 400 == 0 ):\n",
    "    print(\"it is a leap year\")\n",
    "else:\n",
    "    print(\"it is not leap year\")"
   ]
  },
  {
   "cell_type": "code",
   "execution_count": null,
   "id": "b9e2e016",
   "metadata": {},
   "outputs": [],
   "source": []
  },
  {
   "cell_type": "code",
   "execution_count": 57,
   "id": "a7fe7355",
   "metadata": {},
   "outputs": [
    {
     "name": "stdout",
     "output_type": "stream",
     "text": [
      "Enter a number: 10\n",
      "Divisors of 10 are: \n",
      "1 2 5 10 "
     ]
    }
   ],
   "source": [
    "# Problem-17(Use conditional statements)\n",
    "# Write a program that asks the user to enter a number and prints out all the divisors of that number.\n",
    "# Hint: the % operator is used to tell if a number is divisible by something.\n",
    "\n",
    "number=eval(input(\"Enter a number: \"))\n",
    "print(\"Divisors of {} are: \" .format(number))\n",
    "\n",
    "for divisor in range(1, number + 1):  # start=1 , end=end-1 =num+1-1\n",
    "    if number % divisor == 0:\n",
    "        print(divisor, end=\" \")\n"
   ]
  },
  {
   "cell_type": "code",
   "execution_count": null,
   "id": "a7ada4d0",
   "metadata": {},
   "outputs": [],
   "source": []
  },
  {
   "cell_type": "code",
   "execution_count": null,
   "id": "be7919f7",
   "metadata": {},
   "outputs": [],
   "source": []
  },
  {
   "cell_type": "code",
   "execution_count": 44,
   "id": "cfb6e7ef",
   "metadata": {},
   "outputs": [
    {
     "name": "stdout",
     "output_type": "stream",
     "text": [
      "enter an hour between 1 and 12 :2\n",
      "enter AM(1) or PM(2):1\n",
      "enter how many hours into the future you want to go:7\n",
      "new hours 9 AM\n"
     ]
    }
   ],
   "source": [
    "#Problem-18 (Use conditional statements)\n",
    "#Write a program that asks the user for an hour between 1 and 12, asks them to enter am or pm, and \n",
    "#asks them how many hours into the future they want to go.\n",
    "#Print out what the hour will be that many hours into the future, printing am or pm as appropriate.\n",
    "#An example is shown below.\n",
    "#Enter hour: 8\n",
    "#am (1) or pm (2)? 1\n",
    "#How many hours ahead? 5\n",
    "#New hour: 1 pm\n",
    "          #-----------------------------12 HOURS FORMAT---------------------------#\n",
    "hour=eval(input(\"enter an hour between 1 and 12 :\"))\n",
    "if hour < 0 or hour > 12:\n",
    "    print(\"invalid input hour!\")\n",
    "am_pm= eval(input(\"enter AM(1) or PM(2):\"))\n",
    "if am_pm not in[1,2]:\n",
    "    print(\"invalid input for AM/PM !\")\n",
    "else:\n",
    "    future_hours=eval(input(\"enter how many hours into the future you want to go:\"))\n",
    "    \n",
    "    new_hours= (hour+future_hours) % 12   #The %(modulus) operator is used to ensure that the new_hour stays within 1 to12 range\n",
    "    \n",
    "    if am_pm==1:\n",
    "        new_am_pm =\"AM\"\n",
    "    else:\n",
    "        new_am_pm =\"PM\"\n",
    "    print(\"new hours\",new_hours,new_am_pm)"
   ]
  },
  {
   "cell_type": "code",
   "execution_count": 53,
   "id": "2902be61",
   "metadata": {},
   "outputs": [
    {
     "name": "stdout",
     "output_type": "stream",
     "text": [
      "enter an hour between 1 and 24 :15\n",
      "enter AM(1) or PM(2):2\n",
      "enter how many hours into the future you want to go:32\n",
      "new hours: 23 PM\n"
     ]
    }
   ],
   "source": [
    "#----------------------24 HOUR FORMAT------------------------------#\n",
    "hour=eval(input(\"enter an hour between 1 and 24 :\"))\n",
    "if hour < 0 or hour > 24:\n",
    "    print(\"invalid input hour!\")\n",
    "am_pm= eval(input(\"enter AM(1) or PM(2):\"))\n",
    "if am_pm not in[1,2]:\n",
    "    print(\"invalid input for AM/PM !\")\n",
    "else:\n",
    "    future_hours=eval(input(\"enter how many hours into the future you want to go:\"))\n",
    "    \n",
    "    new_hours= (hour+future_hours) % 24   #The %(modulus) operator is used to ensure that the new_hour stays within 1 to 24 range\n",
    "                                          # It make sures that the output (future time willbe in 24hrs range only..)\n",
    "    if am_pm==1:\n",
    "        new_am_pm =\"AM\"\n",
    "    else:\n",
    "        new_am_pm =\"PM\"\n",
    "    print(\"new hours:\",new_hours,new_am_pm)\n",
    "    \n",
    "#let hour be 3pm(i.e 15pm  in 24hr format)------1st input\n",
    "# i've given input 2(i.e PM)==> 15PM   ---------2nd input\n",
    "# i want to go to 32 hours forward in future------3rd input\n",
    "#output==15pm + 32hrs forward ....we get 23PM\n"
   ]
  },
  {
   "cell_type": "code",
   "execution_count": 55,
   "id": "1fb2d197",
   "metadata": {},
   "outputs": [
    {
     "name": "stdout",
     "output_type": "stream",
     "text": [
      "enter an hour between 1 and 24 :10\n",
      "enter AM(1) or PM(2):1\n",
      "enter how many hours into the future you want to go:10\n",
      "new hours: 20 AM\n"
     ]
    }
   ],
   "source": [
    "hour=eval(input(\"enter an hour between 1 and 24 :\"))\n",
    "if hour < 0 or hour > 24:\n",
    "    print(\"invalid input hour!\")\n",
    "am_pm= eval(input(\"enter AM(1) or PM(2):\"))\n",
    "if am_pm not in[1,2]:\n",
    "    print(\"invalid input for AM/PM !\")\n",
    "else:\n",
    "    future_hours=eval(input(\"enter how many hours into the future you want to go:\"))\n",
    "    \n",
    "    new_hours= (hour+future_hours)%24   #The %(modulus) operator is used to ensure that the new_hour stays within 1 to 24 range\n",
    "                                          # It make sures that the output (future time willbe in 24hrs range only..)\n",
    "    if hour<12 and future_hours < 12:\n",
    "            new_am_pm =\"AM\"\n",
    "    elif hour >12 and future_hours > 12:\n",
    "            new_am_pm =\"PM\"\n",
    "    else:\n",
    "        print(\"invalid\")    \n",
    "    print(\"new hours:\",new_hours,new_am_pm)"
   ]
  },
  {
   "cell_type": "code",
   "execution_count": null,
   "id": "69ad696c",
   "metadata": {},
   "outputs": [],
   "source": []
  },
  {
   "cell_type": "markdown",
   "id": "f12b446e",
   "metadata": {},
   "source": [
    "# Python While loop Assignment"
   ]
  },
  {
   "cell_type": "code",
   "execution_count": 1,
   "id": "b144b338",
   "metadata": {},
   "outputs": [
    {
     "name": "stdout",
     "output_type": "stream",
     "text": [
      "Guess the number: 5\n",
      "6\n",
      "Sorry, try again\n"
     ]
    }
   ],
   "source": [
    "#Guess a number is a game that prompts a player to guess a number between 0 and 9,\n",
    "# which is randomly generated by the system. \n",
    "# When the input given by the user matches the number generated by the system then the user wins. The game should go as follows:\n",
    "\n",
    "#Guess the number: 5\n",
    "#Sorry, try again\n",
    "#Guess the number: 3\n",
    "#Sorry, try again\n",
    "#Guess the number: 8\n",
    "#You got it right! Congo!\n",
    "\n",
    "import random\n",
    "num=eval(input(\"Guess the number: \" ))\n",
    "random_num=random.randint(0,10)\n",
    "print(random_num)\n",
    "while num==random_num:\n",
    "    print(\"You got it right! Congo!\")\n",
    "else:\n",
    "    print(\"Sorry, try again\")\n",
    "\n"
   ]
  },
  {
   "cell_type": "code",
   "execution_count": null,
   "id": "77c336f8",
   "metadata": {},
   "outputs": [],
   "source": []
  },
  {
   "cell_type": "code",
   "execution_count": 10,
   "id": "98c7b199",
   "metadata": {},
   "outputs": [
    {
     "name": "stdout",
     "output_type": "stream",
     "text": [
      "Guess a number from 0 to 9: 1\n",
      "your guess is Too low. Try again .\n",
      "Guess a number from 0 to 9: 3\n",
      "Congratulations! You guessed the correct number.\n"
     ]
    }
   ],
   "source": [
    "#Make an improvement to the Guess a number game. Guide the user where they are standing and limit the number of attempts to 3.\n",
    "# For example, the game should go like this:\n",
    "#Guess the number: 4\n",
    "#  Too low\n",
    "#Guess the number: 9\n",
    "#  Too high\n",
    "#Guess the number: 5\n",
    "#  Sorry you Lost!\n",
    "\n",
    "import random\n",
    "def guess_the_num():\n",
    "    random_num = random.randint(1,10)\n",
    "    max_attempts=3\n",
    "    attempts=0\n",
    "    correct_guess= False\n",
    "    \n",
    "    while attempts < max_attempts:\n",
    "        guess=eval(input(\"Guess a number from 0 to 9: \"))\n",
    "        attempts += 1\n",
    "\n",
    "        if guess==random_num:\n",
    "            print(\"Congratulations! You guessed the correct number.\")\n",
    "            correct_guess= True\n",
    "            break\n",
    "        elif guess < random_num:\n",
    "            print(\"your guess is Too low. Try again .\")\n",
    "        else:\n",
    "            print(\"your guess is Too high. Try again.\")\n",
    "\n",
    "        if attempts==max_attempts:\n",
    "            print(f\"sorry you lost ! the correct number was {random_num}\")\n",
    "guess_the_num()"
   ]
  },
  {
   "cell_type": "code",
   "execution_count": null,
   "id": "98ccd1a6",
   "metadata": {},
   "outputs": [],
   "source": []
  },
  {
   "cell_type": "code",
   "execution_count": 12,
   "id": "9b184fcc",
   "metadata": {},
   "outputs": [
    {
     "name": "stdout",
     "output_type": "stream",
     "text": [
      "Guess a number from 0 to 9: 6\n",
      "your guess is Too high. Try again.\n",
      "your balance is: Rs. 1000 \n",
      "Guess a number from 0 to 9: 3\n",
      "your guess is Too low. Try again .\n",
      "your balance is: Rs. 1000 \n",
      "Guess a number from 0 to 9: 8\n",
      "your guess is Too high. Try again.\n",
      "sorry, you lost! you lose Rs. 500.\n",
      "your balance is: Rs. 500 \n"
     ]
    }
   ],
   "source": [
    "# Let us make the above game a little more interesting by converting it into a gambling problem.\n",
    "# Suppose that a player starts with Rs. 1,000. If a player can guess the number in his first chance,\n",
    "# then he will be given a prize of Rs. 5,000, if he requires 2 attempts then he will get a prize of Rs.1,000.\n",
    "# If he loses then he will lose Rs. 500. For example the game should go like this:\n",
    "\n",
    "#You have a cash of Rs. 1,000 with you...\n",
    "#Guess the number: 8\n",
    "#   Too high\n",
    "#Guess the number: 3\n",
    "#   You have just won Rs. 1,000\n",
    "#Your balance: Rs. 2000\n",
    "\n",
    "import random\n",
    "\n",
    "def guess_the_num():\n",
    "    player_cash=1000\n",
    "    random_num = random.randint(1,10)\n",
    "    max_attempts=3\n",
    "    attempts=0\n",
    "    correct_guess= False\n",
    "    \n",
    "    while attempts < max_attempts:\n",
    "        guess=eval(input(\"Guess a number from 0 to 9: \"))\n",
    "        attempts += 1\n",
    "\n",
    "        if guess==random_num:\n",
    "            print(\"Congratulations! You guessed the correct number.\")\n",
    "            correct_guess= True\n",
    "            break\n",
    "        elif guess < random_num:\n",
    "            print(\"your guess is Too low. Try again .\")\n",
    "        else:\n",
    "            print(\"your guess is Too high. Try again.\")\n",
    "\n",
    "        if correct_guess:\n",
    "            if attempts==1:\n",
    "                prize = 5000\n",
    "            elif attempts==2:\n",
    "                prize = 1000\n",
    "            else:\n",
    "                prize = 0\n",
    "            player_cash += prize\n",
    "            print(f\"you have won Rs. {player_cash}\")\n",
    "        elif attempts == max_attempts:\n",
    "            player_cash -= 500\n",
    "            print(f\"sorry, you lost! you lose Rs. 500.\")\n",
    "            \n",
    "        print(f\"your balance is: Rs. {player_cash} \")\n",
    "guess_the_num()"
   ]
  },
  {
   "cell_type": "code",
   "execution_count": null,
   "id": "87e74e6d",
   "metadata": {},
   "outputs": [],
   "source": []
  },
  {
   "cell_type": "code",
   "execution_count": 14,
   "id": "410b9df3",
   "metadata": {},
   "outputs": [
    {
     "name": "stdout",
     "output_type": "stream",
     "text": [
      "enter the current balance available in account: 200\n",
      "enter the amount available in your ewallet: 5000\n",
      "you needs to withdraw the extra money from your e-wallet\n",
      "enter the amount to be withdrawn: 800\n",
      "you can now start playing the game\n",
      "account current balance : 200 updated e-wallet : 4200\n"
     ]
    }
   ],
   "source": [
    "#Suppose that a player wants to play a game which requires him Rs. 1,000 to start.\n",
    "# If the current balance in his account is less than Rs. 1,000 he needs to withdraw the extra money from his e-wallet.\n",
    "# Note that if the sum of money in his current account and \n",
    "#the amount withdrawn is greater than or equal to Rs. 1,000 then he can start playing the game.\n",
    "#However if the sum is less than Rs. 1,000 then the program should keep displaying the user the message \n",
    " #                               “You still do not have enough money to start playing.”   \n",
    "# and keep prompting the user to withdraw money unless it crosses Rs. 1,000. Once ready,\n",
    "# i.e. if his current account balance crosses Rs. 1,000, it will display a message “Now, you are ready to play the game.”\n",
    "#Your program should also display the account balance and the current amount in the e-wallet.\n",
    "\n",
    "#(consider: initial account balance is Rs. 200 and money in the e-wallet is Rs. 5,000)\n",
    "#(Do further improvement by checking if the e-wallet balance becomes NIL, etc.)\n",
    "\n",
    "account_current_balance=eval(input(\"enter the current balance available in account: \"))\n",
    "e_wallet=eval(input(\"enter the amount available in your ewallet: \"))\n",
    "required_amount=1000\n",
    "\n",
    "while account_current_balance>=required_amount:\n",
    "    print(\"you can now start playing the game\")\n",
    "    \n",
    "if account_current_balance < 1000:\n",
    "    print(\"you needs to withdraw the extra money from your e-wallet\")\n",
    "    withdraw=eval(input(\"enter the amount to be withdrawn: \"))\n",
    "    sum_of_money = account_current_balance + withdraw\n",
    "\n",
    "elif sum_of_money < 1000:\n",
    "    print(\"you still do not have enough money to start playing.withdraw more money to play the game\")\n",
    "    \n",
    "\n",
    "print(\"you can now start playing the game\")\n",
    "    \n",
    "updated_ewallet= e_wallet-withdraw\n",
    "print(\"account current balance :\",account_current_balance , \"updated e-wallet :\",updated_ewallet) "
   ]
  },
  {
   "cell_type": "code",
   "execution_count": null,
   "id": "9af0c1a1",
   "metadata": {},
   "outputs": [],
   "source": []
  }
 ],
 "metadata": {
  "kernelspec": {
   "display_name": "Python 3 (ipykernel)",
   "language": "python",
   "name": "python3"
  },
  "language_info": {
   "codemirror_mode": {
    "name": "ipython",
    "version": 3
   },
   "file_extension": ".py",
   "mimetype": "text/x-python",
   "name": "python",
   "nbconvert_exporter": "python",
   "pygments_lexer": "ipython3",
   "version": "3.11.5"
  }
 },
 "nbformat": 4,
 "nbformat_minor": 5
}
