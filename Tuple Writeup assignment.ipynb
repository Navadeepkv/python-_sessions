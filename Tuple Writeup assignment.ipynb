{
 "cells": [
  {
   "cell_type": "markdown",
   "id": "7a17202a",
   "metadata": {},
   "source": [
    "# Tuple"
   ]
  },
  {
   "cell_type": "markdown",
   "id": "99ae0052",
   "metadata": {},
   "source": [
    "\n",
    "- Tuples are used to store multiple items in a single variable.\n",
    "\n",
    "- A tuple is a collection of items which is ordered and unchangeable and allow duplicate values..\n",
    "\n",
    "- Tuples are written with round brackets.\n",
    "\n",
    "- Tuple items are indexed, the first item has index [0], the second item has index [1]..etc."
   ]
  },
  {
   "cell_type": "markdown",
   "id": "33cd9016",
   "metadata": {},
   "source": [
    "**Creating tuple**"
   ]
  },
  {
   "cell_type": "code",
   "execution_count": 1,
   "id": "038d5f7b",
   "metadata": {},
   "outputs": [
    {
     "name": "stdout",
     "output_type": "stream",
     "text": [
      "('Apple', 'Banana', 'Carrot')\n"
     ]
    }
   ],
   "source": [
    "var = (\"Apple\", \"Banana\", \"Carrot\")\n",
    "print(var)"
   ]
  },
  {
   "cell_type": "markdown",
   "id": "52710a51",
   "metadata": {},
   "source": [
    "**Create a Tuple With One Item**\n",
    "\n",
    "- we are considering a variable called values which holds a tuple that consists of either int or str, the ‘…’ means that the tuple will hold more than one int or str."
   ]
  },
  {
   "cell_type": "code",
   "execution_count": 5,
   "id": "e08e6e14",
   "metadata": {},
   "outputs": [
    {
     "name": "stdout",
     "output_type": "stream",
     "text": [
      "(5, 2, 7, 8, 'Apple', 'banana')\n"
     ]
    }
   ],
   "source": [
    "values : tuple[int | str,...] = (5,2,7,8,\"Apple\",\"banana\")\n",
    "print(values)"
   ]
  },
  {
   "cell_type": "markdown",
   "id": "d039d127",
   "metadata": {},
   "source": [
    "**Tuple items can be of any data type:**\n",
    "\n",
    "-  String, int and boolean data types:"
   ]
  },
  {
   "cell_type": "code",
   "execution_count": 14,
   "id": "8b080eaf",
   "metadata": {},
   "outputs": [
    {
     "name": "stdout",
     "output_type": "stream",
     "text": [
      "('apple', 'banana', 'carrot')\n",
      "(1, 5, 7, 9, 3)\n",
      "(True, False, False, True)\n"
     ]
    }
   ],
   "source": [
    "var1 = (\"apple\", \"banana\", \"carrot\")\n",
    "var2 = (1, 5, 7, 9, 3)\n",
    "var3 = (True, False, False, True)\n",
    "\n",
    "print(var1)\n",
    "print(var2)\n",
    "print(var3)"
   ]
  },
  {
   "cell_type": "code",
   "execution_count": 15,
   "id": "7df34903",
   "metadata": {},
   "outputs": [
    {
     "name": "stdout",
     "output_type": "stream",
     "text": [
      "('xyz', 27, True, 20, 'male')\n"
     ]
    }
   ],
   "source": [
    "var1 = (\"xyz\", 27, True, 20, \"male\")\n",
    "print(var1)"
   ]
  },
  {
   "cell_type": "code",
   "execution_count": 16,
   "id": "239f3b9e",
   "metadata": {},
   "outputs": [
    {
     "name": "stdout",
     "output_type": "stream",
     "text": [
      "('apple', 'banana', 'cherry', 'Banana', 'cherry')\n"
     ]
    }
   ],
   "source": [
    "# Allows duplicates\n",
    "\n",
    "mytuple = (\"apple\", \"banana\", \"cherry\", \"Banana\", \"cherry\")\n",
    "print(mytuple)"
   ]
  },
  {
   "cell_type": "markdown",
   "id": "b7e1834a",
   "metadata": {},
   "source": [
    "- Note: If you are generating a tuple with a single element, make sure to add a comma after the element."
   ]
  },
  {
   "cell_type": "code",
   "execution_count": 10,
   "id": "a112635f",
   "metadata": {},
   "outputs": [
    {
     "name": "stdout",
     "output_type": "stream",
     "text": [
      "<class 'tuple'>\n",
      "<class 'str'>\n"
     ]
    }
   ],
   "source": [
    "mytuple = (\"Nit\",)   # ',' makes it a tuple\n",
    "print(type(mytuple))\n",
    " \n",
    "# NOT a tuple\n",
    "mytuple = (\"Nit\")\n",
    "print(type(mytuple))"
   ]
  },
  {
   "cell_type": "markdown",
   "id": "ba3b43cc",
   "metadata": {},
   "source": [
    "**Tuple Constructor in Python**\n",
    "\n",
    "- Using the tuple() method to make a tuple\n",
    "\n",
    "- To create a tuple with a Tuple constructor, we will pass the elements as its parameters."
   ]
  },
  {
   "cell_type": "code",
   "execution_count": 8,
   "id": "eb7c45e0",
   "metadata": {},
   "outputs": [
    {
     "name": "stdout",
     "output_type": "stream",
     "text": [
      "('Naresh', 'it', 'Python')\n"
     ]
    }
   ],
   "source": [
    "tuple_constructor = tuple((\"Naresh\", \"it\", \"Python\"))\n",
    "print(tuple_constructor)"
   ]
  },
  {
   "cell_type": "markdown",
   "id": "0cd67fe1",
   "metadata": {},
   "source": [
    "**Tuple Length**\n",
    "- To determine how many items a tuple has , we use the len() function:"
   ]
  },
  {
   "cell_type": "code",
   "execution_count": 9,
   "id": "30813132",
   "metadata": {},
   "outputs": [
    {
     "name": "stdout",
     "output_type": "stream",
     "text": [
      "2\n"
     ]
    }
   ],
   "source": [
    "mytuple = (\"Nareshit\",\"Python\")\n",
    "print(len(mytuple))"
   ]
  },
  {
   "cell_type": "markdown",
   "id": "1b506f7a",
   "metadata": {},
   "source": [
    "## Access Tuple Items\n",
    "\n",
    "- You can access the tuple items by referring to the index number, which are present inside square brackets.."
   ]
  },
  {
   "cell_type": "markdown",
   "id": "38562cf3",
   "metadata": {},
   "source": [
    "**Positive Indexing**"
   ]
  },
  {
   "cell_type": "code",
   "execution_count": 20,
   "id": "42f51a59",
   "metadata": {},
   "outputs": [
    {
     "name": "stdout",
     "output_type": "stream",
     "text": [
      "potato\n"
     ]
    }
   ],
   "source": [
    "      #   [   0          1        2   ]\n",
    "mytuple = (\"Tomato\", \"potato\", \"carrot\")  # index [0 1 2]  , index starts from '0'(zero)\n",
    "print(mytuple[1])"
   ]
  },
  {
   "cell_type": "markdown",
   "id": "5d45a174",
   "metadata": {},
   "source": [
    "**Negative Indexing**\n",
    "\n",
    "- Negative indexing means negative number count start from the end.\n",
    "\n",
    "- -1 refers to the last item, -2 refers to the second last item ..so on etc."
   ]
  },
  {
   "cell_type": "code",
   "execution_count": 21,
   "id": "93568462",
   "metadata": {},
   "outputs": [
    {
     "name": "stdout",
     "output_type": "stream",
     "text": [
      "carrot\n"
     ]
    }
   ],
   "source": [
    "        # [   -3        -2        -1   ]\n",
    "mytuple = (\"Tomato\", \"potato\", \"carrot\")  # index [-3 -2 -1]  index starts from -1\n",
    "print(mytuple[-1])"
   ]
  },
  {
   "cell_type": "markdown",
   "id": "b61f312a",
   "metadata": {},
   "source": [
    "**Range of Index**\n",
    "\n",
    "- we can specify a range of indexes by specifying where to start and where to end the range."
   ]
  },
  {
   "cell_type": "code",
   "execution_count": 22,
   "id": "40d94707",
   "metadata": {},
   "outputs": [
    {
     "name": "stdout",
     "output_type": "stream",
     "text": [
      "('Potato', 'carrot', 'Beetroot', 'kiwi')\n"
     ]
    }
   ],
   "source": [
    "mytuple = (\"Tomato\", \"Potato\", \"carrot\", \"Beetroot\", \"kiwi\", \"mango\")\n",
    "print(mytuple[1:5])"
   ]
  },
  {
   "cell_type": "markdown",
   "id": "98e1ffb2",
   "metadata": {},
   "source": [
    "- Note: The search will start at index 1 (which is included) and end at index 5 (which is not included).\n",
    "-   [start : end -1]"
   ]
  },
  {
   "cell_type": "code",
   "execution_count": 23,
   "id": "3b489354",
   "metadata": {},
   "outputs": [
    {
     "name": "stdout",
     "output_type": "stream",
     "text": [
      "('Tomato', 'Potato', 'carrot', 'Beetroot')\n"
     ]
    }
   ],
   "source": [
    " #        [    0        1         2          3         4        5   ]\n",
    "mytuple = (\"Tomato\", \"Potato\", \"carrot\", \"Beetroot\", \"kiwi\", \"mango\")\n",
    "print(mytuple[:4])   #[start (0) : End-1 (4-1 = 3)]"
   ]
  },
  {
   "cell_type": "code",
   "execution_count": 24,
   "id": "01179d47",
   "metadata": {},
   "outputs": [
    {
     "name": "stdout",
     "output_type": "stream",
     "text": [
      "('carrot', 'Beetroot', 'kiwi', 'mango')\n"
     ]
    }
   ],
   "source": [
    " #        [    0        1         2          3         4        5   ]\n",
    "mytuple = (\"Tomato\", \"Potato\", \"carrot\", \"Beetroot\", \"kiwi\", \"mango\")\n",
    "print(mytuple[2:])   #[start (2) : ( final item ) ]"
   ]
  },
  {
   "cell_type": "markdown",
   "id": "969dcb98",
   "metadata": {},
   "source": [
    "**Range of Negative Index**\n",
    "- we need to Specify negative indexes if we want to start the search from the end of the tuple.."
   ]
  },
  {
   "cell_type": "code",
   "execution_count": 27,
   "id": "40deb449",
   "metadata": {},
   "outputs": [
    {
     "name": "stdout",
     "output_type": "stream",
     "text": [
      "('carrot', 'Beetroot', 'kiwi')\n"
     ]
    }
   ],
   "source": [
    "mytuple = (\"Tomato\", \"Potato\", \"carrot\", \"Beetroot\", \"kiwi\", \"mango\")\n",
    "print(mytuple[-4:-1])"
   ]
  },
  {
   "cell_type": "markdown",
   "id": "97107f4b",
   "metadata": {},
   "source": [
    "## Check if Item Exists\n",
    "- To determine if a specified item is present in a tuple use the in keyword.."
   ]
  },
  {
   "cell_type": "code",
   "execution_count": 28,
   "id": "0a74a4d5",
   "metadata": {},
   "outputs": [
    {
     "name": "stdout",
     "output_type": "stream",
     "text": [
      "Yes, 'Potato' is in the var tuple\n"
     ]
    }
   ],
   "source": [
    "var = (\"Tomato\", \"Potato\", \"carrot\")\n",
    "if \"Potato\" in var:\n",
    "  print(\"Yes, 'Potato' is in the var tuple\")"
   ]
  },
  {
   "cell_type": "markdown",
   "id": "aae1218f",
   "metadata": {},
   "source": [
    "## Update Tuple Values\n",
    "\n",
    "- Once a tuple is created, you cannot change its values. Also called immutable..\n",
    "\n",
    "- You can convert the tuple into a list, change/update the list, and convert the list into a tuple."
   ]
  },
  {
   "cell_type": "code",
   "execution_count": 31,
   "id": "ceb2df59",
   "metadata": {},
   "outputs": [
    {
     "name": "stdout",
     "output_type": "stream",
     "text": [
      "('Tomato', 'Beans', 'Carrot')\n"
     ]
    }
   ],
   "source": [
    "a = (\"Tomato\", \"Potato\", \"Carrot\")\n",
    "b = list(a)\n",
    "b[1] = \"Beans\"\n",
    "a = tuple(b)  # again converting into tuple ( use tuple() )\n",
    "\n",
    "# Convert the tuple into a list, change/update the list, and convert the list back into a tuple.\n",
    "\n",
    "print(a)"
   ]
  },
  {
   "cell_type": "markdown",
   "id": "01790082",
   "metadata": {},
   "source": [
    "***Add items***\n",
    "- append() keyword "
   ]
  },
  {
   "cell_type": "code",
   "execution_count": 40,
   "id": "ad3148f1",
   "metadata": {},
   "outputs": [
    {
     "name": "stdout",
     "output_type": "stream",
     "text": [
      "('Tomato', 'Potato', 'Carrot', 'Beans')\n"
     ]
    }
   ],
   "source": [
    "# append\n",
    "# we can convert it into a list, add your item/items, and convert it back into a tuple.\n",
    "\n",
    "var1 = (\"Tomato\", \"Potato\", \"Carrot\")\n",
    "x = list(var1)\n",
    "x.append(\"Beans\")\n",
    "var1 = tuple(x)\n",
    "\n",
    "print(var1)"
   ]
  },
  {
   "cell_type": "markdown",
   "id": "c3a23727",
   "metadata": {},
   "source": [
    "***Remove/Delete items***\n",
    "- remove() keyword.\n",
    "- we cannot remove items from tuple, but we can do from list.\n",
    "- Convert the tuple into a list, remove item, and convert it back into a tuple.."
   ]
  },
  {
   "cell_type": "code",
   "execution_count": 41,
   "id": "1f2e3013",
   "metadata": {},
   "outputs": [
    {
     "name": "stdout",
     "output_type": "stream",
     "text": [
      "('Tomato', 'Potato')\n"
     ]
    }
   ],
   "source": [
    "var1 = (\"Tomato\", \"Potato\", \"Carrot\")\n",
    "x = list(var1)\n",
    "x.remove(\"Carrot\")\n",
    "var1 = tuple(x)\n",
    "\n",
    "print(var1)"
   ]
  },
  {
   "cell_type": "markdown",
   "id": "4d7aca6e",
   "metadata": {},
   "source": [
    "***you can delete the tuple completely***\n",
    "\n",
    "- del keyword"
   ]
  },
  {
   "cell_type": "code",
   "execution_count": 42,
   "id": "0b5fe4a6",
   "metadata": {},
   "outputs": [
    {
     "ename": "NameError",
     "evalue": "name 'var1' is not defined",
     "output_type": "error",
     "traceback": [
      "\u001b[1;31m---------------------------------------------------------------------------\u001b[0m",
      "\u001b[1;31mNameError\u001b[0m                                 Traceback (most recent call last)",
      "Cell \u001b[1;32mIn[42], line 3\u001b[0m\n\u001b[0;32m      1\u001b[0m var1 \u001b[38;5;241m=\u001b[39m (\u001b[38;5;124m\"\u001b[39m\u001b[38;5;124mTomato\u001b[39m\u001b[38;5;124m\"\u001b[39m, \u001b[38;5;124m\"\u001b[39m\u001b[38;5;124mPotato\u001b[39m\u001b[38;5;124m\"\u001b[39m, \u001b[38;5;124m\"\u001b[39m\u001b[38;5;124mCarrot\u001b[39m\u001b[38;5;124m\"\u001b[39m)\n\u001b[0;32m      2\u001b[0m \u001b[38;5;28;01mdel\u001b[39;00m var1\n\u001b[1;32m----> 3\u001b[0m \u001b[38;5;28mprint\u001b[39m(var1)\n",
      "\u001b[1;31mNameError\u001b[0m: name 'var1' is not defined"
     ]
    }
   ],
   "source": [
    "var1 = (\"Tomato\", \"Potato\", \"Carrot\")\n",
    "del var1\n",
    "print(var1) #this will raise an error because the tuple no longer exists.."
   ]
  },
  {
   "cell_type": "markdown",
   "id": "774b7b43",
   "metadata": {},
   "source": [
    "## Packing and Unpacking a Tuple.\n",
    "\n",
    "***Packing a tuple***\n",
    "- when we create a tuple, we assign values to it..\n",
    "- That is said to be as \"packing\" a tuple"
   ]
  },
  {
   "cell_type": "code",
   "execution_count": 44,
   "id": "e881a954",
   "metadata": {},
   "outputs": [
    {
     "name": "stdout",
     "output_type": "stream",
     "text": [
      "('Tomato', 'Potato', 'Capcicum')\n"
     ]
    }
   ],
   "source": [
    "vegetables = (\"Tomato\",\"Potato\",\"Capcicum\")\n",
    "print(vegetables)"
   ]
  },
  {
   "cell_type": "markdown",
   "id": "83137e37",
   "metadata": {},
   "source": [
    "***Unpacking a tuple***\n",
    "- we can extract the values from tuple back into variables.\n",
    "- This is called \"unpacking\" a tuple"
   ]
  },
  {
   "cell_type": "code",
   "execution_count": 46,
   "id": "a7264f1c",
   "metadata": {},
   "outputs": [
    {
     "name": "stdout",
     "output_type": "stream",
     "text": [
      "Tomato\n",
      "Capcicum\n",
      "Potato\n"
     ]
    }
   ],
   "source": [
    "vegetables = (\"Tomato\",\"Potato\",\"Capcicum\")\n",
    "(red, yellow, green) = vegetables\n",
    "\n",
    "print(red)\n",
    "print(green)\n",
    "print(yellow)"
   ]
  },
  {
   "cell_type": "markdown",
   "id": "da2f3baa",
   "metadata": {},
   "source": [
    "***Using Asterisk****\n",
    "- If the number of variables is less than the number of values, then we can add an ' * ' to the variable name and the values       will be assigned to the variable as a list"
   ]
  },
  {
   "cell_type": "code",
   "execution_count": 50,
   "id": "354b1c4d",
   "metadata": {},
   "outputs": [
    {
     "name": "stdout",
     "output_type": "stream",
     "text": [
      "Tomato\n",
      "['Potato', 'Capcicum']\n",
      "Beans\n"
     ]
    }
   ],
   "source": [
    "vegetables = (\"Tomato\",\"Potato\",\"Capcicum\",\"Beans\")   # values are 4\n",
    "(red, *yellow, green) = vegetables                 # variables are 3\n",
    "\n",
    "print(red)\n",
    "print(yellow)\n",
    "print(green)"
   ]
  },
  {
   "cell_type": "markdown",
   "id": "687d12b5",
   "metadata": {},
   "source": [
    "## Loop Through a Tuple\n",
    "\n",
    "- By using 'for' loop we can iterate through the tuple items"
   ]
  },
  {
   "cell_type": "code",
   "execution_count": 51,
   "id": "e0c920f8",
   "metadata": {},
   "outputs": [
    {
     "name": "stdout",
     "output_type": "stream",
     "text": [
      "Tomato\n",
      "Potato\n",
      "Capcicum\n"
     ]
    }
   ],
   "source": [
    "mytuple = (\"Tomato\",\"Potato\",\"Capcicum\")\n",
    "for i in mytuple:\n",
    "    print(i)"
   ]
  },
  {
   "cell_type": "markdown",
   "id": "295d7d9f",
   "metadata": {},
   "source": [
    "***Loop through index numbers***\n",
    "\n",
    "- for that we have to use range() and len() function"
   ]
  },
  {
   "cell_type": "code",
   "execution_count": 55,
   "id": "1007f875",
   "metadata": {},
   "outputs": [
    {
     "name": "stdout",
     "output_type": "stream",
     "text": [
      "0 Tomato\n",
      "1 Potato\n",
      "2 Capcicum\n"
     ]
    }
   ],
   "source": [
    "mytuple = (\"Tomato\",\"Potato\",\"Capcicum\")\n",
    "for i in range(len(mytuple)):\n",
    "    print(i, mytuple[i])"
   ]
  },
  {
   "cell_type": "markdown",
   "id": "2a177f56",
   "metadata": {},
   "source": [
    "## While Loop\n",
    "\n",
    "- We can loop through the tuple items by using a while loop.\n",
    "- Use the len() function to determine the length of the tuple.."
   ]
  },
  {
   "cell_type": "code",
   "execution_count": 57,
   "id": "8c72ebf7",
   "metadata": {},
   "outputs": [
    {
     "name": "stdout",
     "output_type": "stream",
     "text": [
      "0 Tomato\n",
      "1 Potato\n",
      "2 Capcicum\n",
      "3 Beans\n"
     ]
    }
   ],
   "source": [
    "mytuple = (\"Tomato\",\"Potato\",\"Capcicum\",\"Beans\")\n",
    "i = 0\n",
    "while i < len(mytuple):\n",
    "    print(i,mytuple[i])\n",
    "    i += 1"
   ]
  },
  {
   "cell_type": "markdown",
   "id": "dc47d824",
   "metadata": {},
   "source": [
    "## Join two tuples\n",
    "\n",
    "- To join two or more tuples you can use the '+'  operator."
   ]
  },
  {
   "cell_type": "code",
   "execution_count": 58,
   "id": "79caf071",
   "metadata": {},
   "outputs": [
    {
     "name": "stdout",
     "output_type": "stream",
     "text": [
      "('Tomato', 'Potato', 'Capcicum', 'Beans')\n"
     ]
    }
   ],
   "source": [
    "tuple1 = (\"Tomato\",\"Potato\")\n",
    "tuple2 = (\"Capcicum\",\"Beans\")\n",
    "\n",
    "var = tuple1 + tuple2\n",
    "print(var)"
   ]
  },
  {
   "cell_type": "markdown",
   "id": "a5b81d48",
   "metadata": {},
   "source": [
    "## Multiply tuples\n",
    "\n",
    "- If we want to multiply the content of a tuple for a given number of times, we can use the ' * ' operator.."
   ]
  },
  {
   "cell_type": "code",
   "execution_count": 60,
   "id": "7aa761ca",
   "metadata": {},
   "outputs": [
    {
     "name": "stdout",
     "output_type": "stream",
     "text": [
      "('Tomato', 'Potato', 'Tomato', 'Potato')\n"
     ]
    }
   ],
   "source": [
    "tuple1 = (\"Tomato\",\"Potato\")\n",
    "tuple2 = (\"Capcicum\",\"Beans\")\n",
    "                  # tuple1 * tuple2 raise an TypeError, because the * operator is not defined for two tuples\n",
    "var1 = tuple1 * 2\n",
    "print(var)"
   ]
  },
  {
   "cell_type": "code",
   "execution_count": 71,
   "id": "2d956860",
   "metadata": {},
   "outputs": [
    {
     "name": "stdout",
     "output_type": "stream",
     "text": [
      "(2, 6, 12)\n"
     ]
    }
   ],
   "source": [
    "tuple1 = (1,2,3)\n",
    "tuple2 = (2,3,4)\n",
    "       # By using zip we can multiply values in two tuples\n",
    "var1 = tuple(x*y for x,y in zip(tuple1,tuple2))\n",
    "print(var1)"
   ]
  },
  {
   "cell_type": "code",
   "execution_count": null,
   "id": "d293d9ae",
   "metadata": {},
   "outputs": [],
   "source": []
  },
  {
   "cell_type": "code",
   "execution_count": null,
   "id": "fc5a47e0",
   "metadata": {},
   "outputs": [],
   "source": []
  }
 ],
 "metadata": {
  "kernelspec": {
   "display_name": "Python 3 (ipykernel)",
   "language": "python",
   "name": "python3"
  },
  "language_info": {
   "codemirror_mode": {
    "name": "ipython",
    "version": 3
   },
   "file_extension": ".py",
   "mimetype": "text/x-python",
   "name": "python",
   "nbconvert_exporter": "python",
   "pygments_lexer": "ipython3",
   "version": "3.11.5"
  }
 },
 "nbformat": 4,
 "nbformat_minor": 5
}
