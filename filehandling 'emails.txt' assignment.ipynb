{
 "cells": [
  {
   "cell_type": "code",
   "execution_count": 1,
   "id": "9adb05cb",
   "metadata": {},
   "outputs": [],
   "source": [
    "# Q)\n",
    "# - Read the file\n",
    "\n",
    "##  - you have an email id with name , sur name and company email id\n",
    "\n",
    "# - extract names list\n",
    "\n",
    "# - extract surname list\n",
    "\n",
    "# - extract company list\n",
    "\n",
    "# - extract email id list"
   ]
  },
  {
   "cell_type": "code",
   "execution_count": 2,
   "id": "8520ad59",
   "metadata": {},
   "outputs": [
    {
     "data": {
      "text/plain": [
       "'Santhanam, Jayendhran <jayendhran.ms@accenture.com>; Bhattacharjee, Sankalan <s.t.bhattacharjee@accenture.com>; Bansal, Vaishnavi <vaishnavi.a.bansal@accenture.com>; Chandra Shekhar, Pavuluri <p.a.chandra.shekhar@accenture.com>; J Doshi, Hiren <hiren.j.doshi@accenture.com>; Shimoga Prakash, Jeevan <j.shimoga.prakash@accenture.com>; Akhouri, Shreyash <shreyash.akhouri@accenture.com>; Nath, Nupanga <nupanga.nath@accenture.com>; Ponna, Ramesh <r.ponna@accenture.com>; Singhal, Aditya <aditya.d.singhal@accenture.com>; Gorai, Sumit <sumit.gorai@accenture.com>; Valdez, Mariele Dyan Francely <mariele.dyan.valdez@accenture.com>; Cancel, Abigail Kyle <abigail.kyle.cancel@accenture.com>; BONDALAKUNTA, POOJITHA <p.bondalakunta@accenture.com>; priyanka uppala, sai <sai.priyanka.uppala@accenture.com>; Nitin SHINDE, NIKHIL <nikhil.nitin.shinde@accenture.com>; Chidre, Swapna <swapna.chidre@accenture.com>; Sahu, Swastik <s.satyapragyan.sahu@accenture.com>; Sikka, Ankit <ankit.sikka@accenture.com>; Dara, Sai Madhukar <sai.madhukar.dara@accenture.com>; Pattanshetti, Sampreet <s.pattanshetti@accenture.com>; Sharma, Ayush <ayush.ad.sharma@accenture.com>; Latorena, Zairous Jay <zairous.jay.latorena@accenture.com>; Abhimanyu Pradhan, Roshankumar <r.abhimanyu.pradhan@accenture.com>; Jaiswal, Lehar <lehar.jaiswal@accenture.com>; Gupta, Retik <retik.gupta@accenture.com>; Satti, Phanindra Reddy <phanindra.r.satti@accenture.com>; Kumar, Manish <manish.dw.kumar@accenture.com>; Balakrishnan, Devi Priya <devi.p.balakrishnan@accenture.com>; M S, Roshni Priya <roshni.priya.m.s@accenture.com>; Cheerala, Vanaja <vanaja.cheerala@accenture.com>; G D, Chandrashekhar <chandrashekhar.g.d@accenture.com>; Nikhil Reddy, Madithati <m.nikhil.reddy@accenture.com>; Santos, Jeroshelle V. <jeroshelle.v.santos@accenture.com>; Milan, Gerald John <gerald.john.milan@accenture.com>; Gupta, Vivek <vivek.u.gupta@accenture.com>; Mandal, Sumit <s.sunilkumar.mandal@accenture.com>; Prakash Shukla, Ashok <ashok.prakash.shukla@accenture.com>; Naganathan, Siva <sivakumar.naganathan@accenture.com>; GAHLOT, NIKHIL <nikhil.gahlot@accenture.com>; Kanjilal, Sourav <s.a.kanti.kanjilal@accenture.com>; Nallagoni, Omkar <omkar.nallagoni@accenture.com>; Sahajan, Sandra <sandra.sahajan@accenture.com>; Nelluri, Chaitanya <chaitanya.nelluri@accenture.com>'"
      ]
     },
     "execution_count": 2,
     "metadata": {},
     "output_type": "execute_result"
    }
   ],
   "source": [
    "# - Read the file\n",
    "import os\n",
    "\n",
    "directory_path = \"C:\\\\Users\\\\emails.txt\"\n",
    "file = open(directory_path,encoding='utf-8-sig') \n",
    "file.read() "
   ]
  },
  {
   "cell_type": "code",
   "execution_count": 3,
   "id": "2cc44a3d",
   "metadata": {},
   "outputs": [
    {
     "name": "stdout",
     "output_type": "stream",
     "text": [
      "Jayendhran\n",
      "Sankalan\n",
      "Vaishnavi\n",
      "Pavuluri\n",
      "Hiren\n",
      "Jeevan\n",
      "Shreyash\n",
      "Nupanga\n",
      "Ramesh\n",
      "Aditya\n",
      "Sumit\n",
      "Mariele\n",
      "Abigail\n",
      "POOJITHA\n",
      "sai\n",
      "NIKHIL\n",
      "Swapna\n",
      "Swastik\n",
      "Ankit\n",
      "Sai\n",
      "Sampreet\n",
      "Ayush\n",
      "Zairous\n",
      "Roshankumar\n",
      "Lehar\n",
      "Retik\n",
      "Phanindra\n",
      "Manish\n",
      "Devi\n",
      "Roshni\n",
      "Vanaja\n",
      "Chandrashekhar\n",
      "Madithati\n",
      "Jeroshelle\n",
      "Gerald\n",
      "Vivek\n",
      "Sumit\n",
      "Ashok\n",
      "Siva\n",
      "NIKHIL\n",
      "Sourav\n",
      "Omkar\n",
      "Sandra\n",
      "Chaitanya\n"
     ]
    }
   ],
   "source": [
    "# - extract names list\n",
    "                       # file_path = \"C:\\\\Users\\\\emails.txt\"  \n",
    "    \n",
    "with open('C:\\\\Users\\\\emails.txt', 'r') as file:\n",
    "    contents = file.read()\n",
    "    sample = contents.split(';')\n",
    "    for email in sample:\n",
    "        name = email.split(',')[1].strip().split(' ')[0]\n",
    "        print(name)"
   ]
  },
  {
   "cell_type": "code",
   "execution_count": 4,
   "id": "d7f3609d",
   "metadata": {},
   "outputs": [
    {
     "name": "stdout",
     "output_type": "stream",
     "text": [
      "ï»¿Santhanam\n",
      "Bhattacharjee\n",
      "Bansal\n",
      "Chandra Shekhar\n",
      "J Doshi\n",
      "Shimoga Prakash\n",
      "Akhouri\n",
      "Nath\n",
      "Ponna\n",
      "Singhal\n",
      "Gorai\n",
      "Valdez\n",
      "Cancel\n",
      "BONDALAKUNTA\n",
      "priyanka uppala\n",
      "Nitin SHINDE\n",
      "Chidre\n",
      "Sahu\n",
      "Sikka\n",
      "Dara\n",
      "Pattanshetti\n",
      "Sharma\n",
      "Latorena\n",
      "Abhimanyu Pradhan\n",
      "Jaiswal\n",
      "Gupta\n",
      "Satti\n",
      "Kumar\n",
      "Balakrishnan\n",
      "M S\n",
      "Cheerala\n",
      "G D\n",
      "Nikhil Reddy\n",
      "Santos\n",
      "Milan\n",
      "Gupta\n",
      "Mandal\n",
      "Prakash Shukla\n",
      "Naganathan\n",
      "GAHLOT\n",
      "Kanjilal\n",
      "Nallagoni\n",
      "Sahajan\n",
      "Nelluri\n"
     ]
    }
   ],
   "source": [
    "# - extract surname list\n",
    "\n",
    "with open('C:\\\\Users\\\\emails.txt', 'r') as file:\n",
    "    contents = file.read()\n",
    "    sample = contents.split(';')\n",
    "    for email in sample:\n",
    "        surname = email.split(',')[0].strip()\n",
    "        print(surname) "
   ]
  },
  {
   "cell_type": "code",
   "execution_count": 5,
   "id": "dfca5763",
   "metadata": {},
   "outputs": [
    {
     "name": "stdout",
     "output_type": "stream",
     "text": [
      "accenture\n",
      "accenture\n",
      "accenture\n",
      "accenture\n",
      "accenture\n",
      "accenture\n",
      "accenture\n",
      "accenture\n",
      "accenture\n",
      "accenture\n",
      "accenture\n",
      "accenture\n",
      "accenture\n",
      "accenture\n",
      "accenture\n",
      "accenture\n",
      "accenture\n",
      "accenture\n",
      "accenture\n",
      "accenture\n",
      "accenture\n",
      "accenture\n",
      "accenture\n",
      "accenture\n",
      "accenture\n",
      "accenture\n",
      "accenture\n",
      "accenture\n",
      "accenture\n",
      "accenture\n",
      "accenture\n",
      "accenture\n",
      "accenture\n",
      "accenture\n",
      "accenture\n",
      "accenture\n",
      "accenture\n",
      "accenture\n",
      "accenture\n",
      "accenture\n",
      "accenture\n",
      "accenture\n",
      "accenture\n",
      "accenture\n"
     ]
    }
   ],
   "source": [
    "# - extract company list\n",
    "\n",
    "with open('C:\\\\Users\\\\emails.txt', 'r') as file:\n",
    "    contents = file.read()\n",
    "    sample = contents.split(';')\n",
    "   # print(sample)\n",
    "    for email in sample:\n",
    "        company_name = email.split('@')[1].strip().split('.')[0]\n",
    "        print(company_name)"
   ]
  },
  {
   "cell_type": "code",
   "execution_count": 6,
   "id": "aeaf7d7c",
   "metadata": {},
   "outputs": [
    {
     "name": "stdout",
     "output_type": "stream",
     "text": [
      "jayendhran.ms@accenture.com\n",
      "s.t.bhattacharjee@accenture.com\n",
      "vaishnavi.a.bansal@accenture.com\n",
      "p.a.chandra.shekhar@accenture.com\n",
      "hiren.j.doshi@accenture.com\n",
      "j.shimoga.prakash@accenture.com\n",
      "shreyash.akhouri@accenture.com\n",
      "nupanga.nath@accenture.com\n",
      "r.ponna@accenture.com\n",
      "aditya.d.singhal@accenture.com\n",
      "sumit.gorai@accenture.com\n",
      "mariele.dyan.valdez@accenture.com\n",
      "abigail.kyle.cancel@accenture.com\n",
      "p.bondalakunta@accenture.com\n",
      "sai.priyanka.uppala@accenture.com\n",
      "nikhil.nitin.shinde@accenture.com\n",
      "swapna.chidre@accenture.com\n",
      "s.satyapragyan.sahu@accenture.com\n",
      "ankit.sikka@accenture.com\n",
      "sai.madhukar.dara@accenture.com\n",
      "s.pattanshetti@accenture.com\n",
      "ayush.ad.sharma@accenture.com\n",
      "zairous.jay.latorena@accenture.com\n",
      "r.abhimanyu.pradhan@accenture.com\n",
      "lehar.jaiswal@accenture.com\n",
      "retik.gupta@accenture.com\n",
      "phanindra.r.satti@accenture.com\n",
      "manish.dw.kumar@accenture.com\n",
      "devi.p.balakrishnan@accenture.com\n",
      "roshni.priya.m.s@accenture.com\n",
      "vanaja.cheerala@accenture.com\n",
      "chandrashekhar.g.d@accenture.com\n",
      "m.nikhil.reddy@accenture.com\n",
      "jeroshelle.v.santos@accenture.com\n",
      "gerald.john.milan@accenture.com\n",
      "vivek.u.gupta@accenture.com\n",
      "s.sunilkumar.mandal@accenture.com\n",
      "ashok.prakash.shukla@accenture.com\n",
      "sivakumar.naganathan@accenture.com\n",
      "nikhil.gahlot@accenture.com\n",
      "s.a.kanti.kanjilal@accenture.com\n",
      "omkar.nallagoni@accenture.com\n",
      "sandra.sahajan@accenture.com\n",
      "chaitanya.nelluri@accenture.com\n"
     ]
    }
   ],
   "source": [
    "# - extract email id list\n",
    "\n",
    "with open('C:\\\\Users\\\\emails.txt', 'r') as file:\n",
    "    contents = file.read()\n",
    "    sample = contents.split(',')\n",
    "    for email_entry in sample:\n",
    "        email_start = email_entry.find('<') + 1\n",
    "        email_end = email_entry.find('>', email_start)  # starting the search from index specified by 'email_start'.\n",
    "                                                    # This ensures that the search for '>' begins after the '<' character..\n",
    "        if email_start > 0 and email_end > 0:\n",
    "            email = email_entry[email_start:email_end]\n",
    "            print(email.strip())"
   ]
  },
  {
   "cell_type": "code",
   "execution_count": null,
   "id": "6559fd37",
   "metadata": {},
   "outputs": [],
   "source": []
  }
 ],
 "metadata": {
  "kernelspec": {
   "display_name": "Python 3 (ipykernel)",
   "language": "python",
   "name": "python3"
  },
  "language_info": {
   "codemirror_mode": {
    "name": "ipython",
    "version": 3
   },
   "file_extension": ".py",
   "mimetype": "text/x-python",
   "name": "python",
   "nbconvert_exporter": "python",
   "pygments_lexer": "ipython3",
   "version": "3.11.5"
  }
 },
 "nbformat": 4,
 "nbformat_minor": 5
}
